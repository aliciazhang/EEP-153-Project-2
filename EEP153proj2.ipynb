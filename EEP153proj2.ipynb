{
 "cells": [
  {
   "cell_type": "markdown",
   "metadata": {},
   "source": [
    "# EEP153 Project2"
   ]
  },
  {
   "cell_type": "code",
   "execution_count": 1,
   "metadata": {},
   "outputs": [],
   "source": [
    "#!pip install -r requirements.txt"
   ]
  },
  {
   "cell_type": "code",
   "execution_count": 2,
   "metadata": {},
   "outputs": [],
   "source": [
    "user = \"ligon\"\n",
    "\n",
    "# API key for Gov; substitute your own!\n",
    "apikey = \"inIyO1begWSRqsYtxS7m6p09PSyq7Qiw7fxzV2qN\"\n",
    "\n",
    "# File with private keys for relevant service account to authenticate\n",
    "# and access google spreadsheets\n",
    "serviceacct = {'ligon':'./students-9093fa174318.json'}"
   ]
  },
  {
   "cell_type": "code",
   "execution_count": 3,
   "metadata": {},
   "outputs": [],
   "source": [
    "SHEETs = [# Stigler's foods, modern prices\n",
    "          (\"https://docs.google.com/spreadsheet/ccc?key=1ObK5N_5aVXzVHE7ZXWBg0kQvPS3k1enRwsUjhytwh5A\",\"Table B\"), \n",
    "         ]"
   ]
  },
  {
   "cell_type": "code",
   "execution_count": 4,
   "metadata": {},
   "outputs": [
    {
     "name": "stdout",
     "output_type": "stream",
     "text": [
      "gpg: AES256.CFB encrypted data\n",
      "gpg: encrypted with 1 passphrase\n"
     ]
    }
   ],
   "source": [
    "#### Need private keys from json file (we're authenticating using \"service accounts\")\n",
    "!gpg --batch --passphrase \"noodle octopus\" -d ./students-9093fa174318.json.gpg > ./students-9093fa174318.json"
   ]
  },
  {
   "cell_type": "code",
   "execution_count": 5,
   "metadata": {},
   "outputs": [],
   "source": [
    "import pandas as pd\n",
    "from eep153_tools import read_sheets\n",
    "df = pd.concat([read_sheets(spreadsheet,json_creds=serviceacct[user],sheet=sheet) for spreadsheet, sheet in SHEETs],\n",
    "               ignore_index=True,sort=False)"
   ]
  },
  {
   "cell_type": "markdown",
   "metadata": {},
   "source": [
    "### 1.2 Dietary Reference Intakes"
   ]
  },
  {
   "cell_type": "code",
   "execution_count": 6,
   "metadata": {},
   "outputs": [],
   "source": [
    "DRIs = \"https://docs.google.com/spreadsheets/d/1y95IsQ4HKspPW3HHDtH7QMtlDA66IUsCHJLutVL-MMc/\"\n",
    "\n",
    "# Define *minimums*\n",
    "diet_min = read_sheets(DRIs,json_creds=serviceacct[user],sheet='diet_minimums').set_index('Nutrition')\n",
    "# Define *maximums*\n",
    "diet_max = read_sheets(DRIs,json_creds=serviceacct[user],sheet='diet_maximums').set_index('Nutrition')"
   ]
  },
  {
   "cell_type": "code",
   "execution_count": 9,
   "metadata": {},
   "outputs": [],
   "source": [
    "from  scipy.optimize import linprog as lp\n",
    "import numpy as np\n",
    "\n",
    "def solve_subsistence_problem(FoodNutrients,Prices,diet_min,diet_max,tol=1e-6):\n",
    "    p = Prices.apply(lambda x:x.magnitude).dropna()\n",
    "    use = list(set(p.index.tolist()).intersection(FoodNutrients.columns.tolist()))\n",
    "    p = p[use]\n",
    "    Aall = FoodNutrients[p.index].fillna(0)\n",
    "    Amin = Aall.loc[diet_min.index]\n",
    "    Amax = Aall.loc[diet_max.index]\n",
    "    A = pd.concat([Amin,-Amax])\n",
    "    b = pd.concat([diet_min,-diet_max]) \n",
    "    result = lp(p, -A, -b, method='interior-point')\n",
    "    result.A = A\n",
    "    result.b = b\n",
    "    result.diet = pd.Series(result.x,index=p.index)\n",
    "    return result"
   ]
  },
  {
   "cell_type": "markdown",
   "metadata": {},
   "source": [
    "### 1.8 Sensitivity of Solution"
   ]
  },
  {
   "cell_type": "code",
   "execution_count": 11,
   "metadata": {},
   "outputs": [],
   "source": [
    "import fooddatacentral as fdc\n",
    "\n",
    "D = {}\n",
    "count = 0\n",
    "for food in  df.Food.tolist():\n",
    "    try:\n",
    "        FDC = df.loc[df.Food==food,:].FDC[count]\n",
    "        count+=1\n",
    "        D[food] = fdc.nutrients(apikey,FDC).Quantity\n",
    "    except AttributeError: \n",
    "        warnings.warn(\"Couldn't find FDC Code %s for food %s.\" % (food,FDC))        \n",
    "\n",
    "FoodNutrients = pd.DataFrame(D,dtype=float)"
   ]
  },
  {
   "cell_type": "code",
   "execution_count": 14,
   "metadata": {},
   "outputs": [],
   "source": [
    "# Convert food quantities to FDC units\n",
    "df['FDC Quantity'] = df[['Quantity','Units']].T.apply(lambda x : fdc.units(x['Quantity'],x['Units']))\n",
    "\n",
    "# Now may want to filter df by time or place--need to get a unique set of food names.\n",
    "df['FDC Price'] = df['Price']/df['FDC Quantity']\n",
    "\n",
    "df.dropna(how='any') # Drop food with any missing data\n",
    "\n",
    "# To use minimum price observed\n",
    "Prices = df.groupby('Food',sort=False)['FDC Price'].min()"
   ]
  },
  {
   "cell_type": "code",
   "execution_count": 16,
   "metadata": {},
   "outputs": [
    {
     "name": "stdout",
     "output_type": "stream",
     "text": [
      "Cost of diet for M 19-30 is $7.03 per day.\n",
      "\n",
      "\n",
      "Diet (in 100s of grams or milliliters):\n",
      "Food\n",
      "Wheat Cereal    0.313215\n",
      "Cabbage         0.997122\n",
      "Sugar           0.455579\n",
      "Navy Beans      0.539075\n",
      "Liver (Pork)    0.902305\n",
      "Milk (Whole)    1.628001\n",
      "Spinach         7.315484\n",
      "dtype: float64\n",
      "\n",
      "\n",
      "With the following nutritional outcomes of interest:\n",
      "                                    Outcome  Recommendation\n",
      "Nutrition                                                  \n",
      "Energy                          2400.000003          2400.0\n",
      "Protein                           60.402307            56.0\n",
      "Fiber, total dietary              33.600000            33.6\n",
      "Folate, DFE                     1653.368775           400.0\n",
      "Calcium, Ca                     1000.000000          1000.0\n",
      "Carbohydrate, by difference      148.346580           130.0\n",
      "Iron, Fe                          47.590071             8.0\n",
      "Magnesium, Mg                    624.609875           400.0\n",
      "Niacin                            25.136346            16.0\n",
      "Phosphorus, P                    713.781605           700.0\n",
      "Potassium, K                    4700.000000          4700.0\n",
      "Riboflavin                         4.635596             1.3\n",
      "Thiamin                            1.200000             1.2\n",
      "Vitamin A, RAE                  9302.735936           900.0\n",
      "Vitamin B-12                      25.201414             2.4\n",
      "Vitamin B-6                        2.752828             1.3\n",
      "Vitamin C, total ascorbic acid   264.888082            90.0\n",
      "Vitamin E (alpha-tocopherol)      15.000000            15.0\n",
      "Vitamin K (phylloquinone)       3608.428307           120.0\n",
      "Zinc, Zn                          11.000000            11.0\n",
      "Sodium, Na                       792.324184          2300.0\n",
      "\n",
      "\n",
      "Constraining nutrients are:\n",
      "['Energy', 'Fiber, total dietary', 'Calcium, Ca', 'Potassium, K', 'Thiamin', 'Vitamin E (alpha-tocopherol)', 'Zinc, Zn']\n"
     ]
    },
    {
     "name": "stderr",
     "output_type": "stream",
     "text": [
      "/opt/anaconda3/lib/python3.8/site-packages/numpy/core/fromnumeric.py:87: VisibleDeprecationWarning:\n",
      "\n",
      "Creating an ndarray from ragged nested sequences (which is a list-or-tuple of lists-or-tuples-or ndarrays with different lengths or shapes) is deprecated. If you meant to do this, you must specify 'dtype=object' when creating the ndarray\n",
      "\n"
     ]
    }
   ],
   "source": [
    "group = 'M 19-30'\n",
    "tol = 1e-6\n",
    "\n",
    "result = solve_subsistence_problem(FoodNutrients,Prices,diet_min[group],diet_max[group],tol=tol)\n",
    "\n",
    "print(\"Cost of diet for %s is $%4.2f per day.\\n\" % (group,result.fun))\n",
    "\n",
    "# Put back into nice series\n",
    "diet = result.diet\n",
    "\n",
    "print(\"\\nDiet (in 100s of grams or milliliters):\")\n",
    "print(diet[diet >= tol])  # Drop items with quantities less than precision of calculation.\n",
    "print()\n",
    "\n",
    "tab = pd.DataFrame({\"Outcome\":np.abs(result.A).dot(diet),\"Recommendation\":np.abs(result.b)})\n",
    "print(\"\\nWith the following nutritional outcomes of interest:\")\n",
    "print(tab)\n",
    "print()\n",
    "\n",
    "print(\"\\nConstraining nutrients are:\")\n",
    "excess = tab.diff(axis=1).iloc[:,1]\n",
    "print(excess.loc[np.abs(excess) < tol*100].index.tolist())"
   ]
  },
  {
   "cell_type": "code",
   "execution_count": 17,
   "metadata": {},
   "outputs": [
    {
     "data": {
      "text/html": [
       "        <script type=\"text/javascript\">\n",
       "        window.PlotlyConfig = {MathJaxConfig: 'local'};\n",
       "        if (window.MathJax) {MathJax.Hub.Config({SVG: {font: \"STIX-Web\"}});}\n",
       "        if (typeof require !== 'undefined') {\n",
       "        require.undef(\"plotly\");\n",
       "        requirejs.config({\n",
       "            paths: {\n",
       "                'plotly': ['https://cdn.plot.ly/plotly-latest.min']\n",
       "            }\n",
       "        });\n",
       "        require(['plotly'], function(Plotly) {\n",
       "            window._Plotly = Plotly;\n",
       "        });\n",
       "        }\n",
       "        </script>\n",
       "        "
      ]
     },
     "metadata": {},
     "output_type": "display_data"
    },
    {
     "name": "stderr",
     "output_type": "stream",
     "text": [
      "/opt/anaconda3/lib/python3.8/site-packages/numpy/core/fromnumeric.py:87: VisibleDeprecationWarning:\n",
      "\n",
      "Creating an ndarray from ragged nested sequences (which is a list-or-tuple of lists-or-tuples-or ndarrays with different lengths or shapes) is deprecated. If you meant to do this, you must specify 'dtype=object' when creating the ndarray\n",
      "\n"
     ]
    },
    {
     "data": {
      "application/vnd.plotly.v1+json": {
       "config": {
        "linkText": "Export to plot.ly",
        "plotlyServerURL": "https://plot.ly",
        "showLink": true
       },
       "data": [
        {
         "line": {
          "color": "rgba(255, 153, 51, 1.0)",
          "dash": "solid",
          "shape": "linear",
          "width": 1.3
         },
         "mode": "lines",
         "name": "Wheat Flour",
         "text": "",
         "type": "scatter",
         "x": [
          -0.6931471805599453,
          -0.5108256237659907,
          -0.35667494393873245,
          -0.2231435513142097,
          -0.10536051565782628,
          0,
          0.09531017980432493,
          0.1823215567939546,
          0.26236426446749106,
          0.3364722366212129,
          0.4054651081081644
         ],
         "y": [
          -0.0034850665411168295,
          9.629110489436677e-08,
          -4.1010506110577474e-10,
          1.4079251088397721e-09,
          2.0467976181862367e-09,
          0,
          -3.5117875280603764e-10,
          -3.344424737709834e-10,
          4.440892098500625e-16,
          -4.5698067562721576e-10,
          -4.2064707281817934e-10
         ]
        },
        {
         "line": {
          "color": "rgba(55, 128, 191, 1.0)",
          "dash": "solid",
          "shape": "linear",
          "width": 1.3
         },
         "mode": "lines",
         "name": "Wheat Cereal",
         "text": "",
         "type": "scatter",
         "x": [
          -0.6931471805599453,
          -0.5108256237659907,
          -0.35667494393873245,
          -0.2231435513142097,
          -0.10536051565782628,
          0,
          0.09531017980432493,
          0.1823215567939546,
          0.26236426446749106,
          0.3364722366212129,
          0.4054651081081644
         ],
         "y": [
          -0.012769539678138079,
          -0.010028454172420716,
          -0.0072947103304794566,
          -0.004710581227762568,
          -0.0023525167380487534,
          0,
          0.002027292862615997,
          0.00346087980917307,
          0.0048924165562966035,
          0.0063219058580041895,
          0.006925290199441331
         ]
        },
        {
         "line": {
          "color": "rgba(50, 171, 96, 1.0)",
          "dash": "solid",
          "shape": "linear",
          "width": 1.3
         },
         "mode": "lines",
         "name": "Corn Meal",
         "text": "",
         "type": "scatter",
         "x": [
          -0.6931471805599453,
          -0.5108256237659907,
          -0.35667494393873245,
          -0.2231435513142097,
          -0.10536051565782628,
          0,
          0.09531017980432493,
          0.1823215567939546,
          0.26236426446749106,
          0.3364722366212129,
          0.4054651081081644
         ],
         "y": [
          6.398872540898077e-10,
          3.4856850733042817e-10,
          1.662607829051042e-10,
          4.862288349609141e-11,
          4.193578817447196e-11,
          0,
          3.0068414420467985e-10,
          1.2276085850226575e-08,
          8.589642383722395e-08,
          8.809038221673745e-08,
          -4.719538094780799e-10
         ]
        },
        {
         "line": {
          "color": "rgba(128, 0, 128, 1.0)",
          "dash": "solid",
          "shape": "linear",
          "width": 1.3
         },
         "mode": "lines",
         "name": "Rolled Oats",
         "text": "",
         "type": "scatter",
         "x": [
          -0.6931471805599453,
          -0.5108256237659907,
          -0.35667494393873245,
          -0.2231435513142097,
          -0.10536051565782628,
          0,
          0.09531017980432493,
          0.1823215567939546,
          0.26236426446749106,
          0.3364722366212129,
          0.4054651081081644
         ],
         "y": [
          5.801803482069313e-12,
          3.9099168346669615e-11,
          4.291833555122353e-11,
          7.442713112454427e-12,
          -8.721279254711497e-11,
          0,
          3.0365288057163044e-10,
          3.476490206217537e-10,
          1.3166474568607464e-09,
          3.923060091302921e-09,
          2.343411681669105e-08
         ]
        },
        {
         "line": {
          "color": "rgba(219, 64, 82, 1.0)",
          "dash": "solid",
          "shape": "linear",
          "width": 1.3
         },
         "mode": "lines",
         "name": "Evaporated Milk",
         "text": "",
         "type": "scatter",
         "x": [
          -0.6931471805599453,
          -0.5108256237659907,
          -0.35667494393873245,
          -0.2231435513142097,
          -0.10536051565782628,
          0,
          0.09531017980432493,
          0.1823215567939546,
          0.26236426446749106,
          0.3364722366212129,
          0.4054651081081644
         ],
         "y": [
          -0.003461057672603752,
          -0.0015397538377305657,
          -4.1469228060081273e-10,
          1.5537686680752642e-09,
          2.82465606420498e-10,
          0,
          9.335532346729792e-11,
          3.364299949171489e-10,
          1.1729501807393619e-09,
          1.7788186543185358e-08,
          6.950571787488567e-08
         ]
        },
        {
         "line": {
          "color": "rgba(0, 128, 128, 1.0)",
          "dash": "solid",
          "shape": "linear",
          "width": 1.3
         },
         "mode": "lines",
         "name": "Cabbage",
         "text": "",
         "type": "scatter",
         "x": [
          -0.6931471805599453,
          -0.5108256237659907,
          -0.35667494393873245,
          -0.2231435513142097,
          -0.10536051565782628,
          0,
          0.09531017980432493,
          0.1823215567939546,
          0.26236426446749106,
          0.3364722366212129,
          0.4054651081081644
         ],
         "y": [
          -0.07518228091355124,
          -0.04189893760053977,
          -0.026621832987120293,
          -0.015286064597334356,
          -0.00491351666900041,
          0,
          0.001375152204472188,
          0.0013752340594838542,
          0.0013751698835985204,
          0.0013751515503070478,
          0.0013751516416490746
         ]
        },
        {
         "line": {
          "color": "rgba(255, 255, 51, 1.0)",
          "dash": "solid",
          "shape": "linear",
          "width": 1.3
         },
         "mode": "lines",
         "name": "Potatoes",
         "text": "",
         "type": "scatter",
         "x": [
          -0.6931471805599453,
          -0.5108256237659907,
          -0.35667494393873245,
          -0.2231435513142097,
          -0.10536051565782628,
          0,
          0.09531017980432493,
          0.1823215567939546,
          0.26236426446749106,
          0.3364722366212129,
          0.4054651081081644
         ],
         "y": [
          -4.770375207102507e-10,
          1.431390561532327e-10,
          -1.6177270635496354e-10,
          4.344857806776161e-11,
          -4.2561065783725875e-11,
          0,
          2.545246898891175e-09,
          5.864412383610689e-08,
          8.998081496973593e-08,
          -4.771610885329504e-10,
          2.586820946186031e-08
         ]
        },
        {
         "line": {
          "color": "rgba(128, 128, 0, 1.0)",
          "dash": "solid",
          "shape": "linear",
          "width": 1.3
         },
         "mode": "lines",
         "name": "Spinach",
         "text": "",
         "type": "scatter",
         "x": [
          -0.6931471805599453,
          -0.5108256237659907,
          -0.35667494393873245,
          -0.2231435513142097,
          -0.10536051565782628,
          0,
          0.09531017980432493,
          0.1823215567939546,
          0.26236426446749106,
          0.3364722366212129,
          0.4054651081081644
         ],
         "y": [
          -0.5794272095441145,
          -0.433169435306129,
          -0.30559904225516316,
          -0.1925122989387559,
          -0.09140459051628091,
          0,
          0.08280517042566285,
          0.15877010065924696,
          0.22836781698744088,
          0.2925231431572014,
          0.3527665572816836
         ]
        },
        {
         "line": {
          "color": "rgba(251, 128, 114, 1.0)",
          "dash": "solid",
          "shape": "linear",
          "width": 1.3
         },
         "mode": "lines",
         "name": "Sweet Potatoes",
         "text": "",
         "type": "scatter",
         "x": [
          -0.6931471805599453,
          -0.5108256237659907,
          -0.35667494393873245,
          -0.2231435513142097,
          -0.10536051565782628,
          0,
          0.09531017980432493,
          0.1823215567939546,
          0.26236426446749106,
          0.3364722366212129,
          0.4054651081081644
         ],
         "y": [
          -5.855416152116721e-11,
          9.11315467529161e-12,
          3.865596731525648e-11,
          3.426969818972735e-11,
          -4.173072998357372e-11,
          0,
          3.666733582757258e-10,
          2.520853744789715e-09,
          2.8972214207692815e-08,
          9.409747427065135e-08,
          5.791716893778577e-08
         ]
        },
        {
         "line": {
          "color": "rgba(128, 177, 211, 1.0)",
          "dash": "solid",
          "shape": "linear",
          "width": 1.3
         },
         "mode": "lines",
         "name": "Navy Beans",
         "text": "",
         "type": "scatter",
         "x": [
          -0.6931471805599453,
          -0.5108256237659907,
          -0.35667494393873245,
          -0.2231435513142097,
          -0.10536051565782628,
          0,
          0.09531017980432493,
          0.1823215567939546,
          0.26236426446749106,
          0.3364722366212129,
          0.4054651081081644
         ],
         "y": [
          -0.012876679127483187,
          -0.010125663764893895,
          -0.007584618084682193,
          -0.005050016122466976,
          -0.0025218204640112835,
          0,
          0.0024123589006940184,
          0.004229753971464874,
          0.006043858031340501,
          0.007854676249665531,
          0.00799877247098421
         ]
        },
        {
         "line": {
          "color": "rgba(128, 177, 211, 0.8999999999999999)",
          "dash": "solid",
          "shape": "linear",
          "width": 1.3
         },
         "mode": "lines",
         "name": "Sugar",
         "text": "",
         "type": "scatter",
         "x": [
          -0.6931471805599453,
          -0.5108256237659907,
          -0.35667494393873245,
          -0.2231435513142097,
          -0.10536051565782628,
          0,
          0.09531017980432493,
          0.1823215567939546,
          0.26236426446749106,
          0.3364722366212129,
          0.4054651081081644
         ],
         "y": [
          -0.004276762348535988,
          -0.0034200716811798285,
          -0.00256395665709318,
          -0.0017085738746888985,
          -0.0008539220577360593,
          0,
          0.0008531937912696307,
          0.0017057581649833392,
          0.0025573987169660987,
          0.003408413881677013,
          0.004212072261151786
         ]
        },
        {
         "line": {
          "color": "rgba(255, 153, 51, 0.8999999999999999)",
          "dash": "solid",
          "shape": "linear",
          "width": 1.3
         },
         "mode": "lines",
         "name": "Beets",
         "text": "",
         "type": "scatter",
         "x": [
          -0.6931471805599453,
          -0.5108256237659907,
          -0.35667494393873245,
          -0.2231435513142097,
          -0.10536051565782628,
          0,
          0.09531017980432493,
          0.1823215567939546,
          0.26236426446749106,
          0.3364722366212129,
          0.4054651081081644
         ],
         "y": [
          -1.30512267668327e-10,
          -1.2427392449216354e-10,
          -9.330070050319649e-11,
          -6.275657771423326e-11,
          5.806022329562864e-12,
          0,
          5.818835174532891e-09,
          8.190982778537126e-08,
          -4.748900163126961e-10,
          1.0752906564349991e-07,
          1.8743678517919117e-07
         ]
        },
        {
         "line": {
          "color": "rgba(55, 128, 191, 0.8999999999999999)",
          "dash": "solid",
          "shape": "linear",
          "width": 1.3
         },
         "mode": "lines",
         "name": "Liver (Pork)",
         "text": "",
         "type": "scatter",
         "x": [
          -0.6931471805599453,
          -0.5108256237659907,
          -0.35667494393873245,
          -0.2231435513142097,
          -0.10536051565782628,
          0,
          0.09531017980432493,
          0.1823215567939546,
          0.26236426446749106,
          0.3364722366212129,
          0.4054651081081644
         ],
         "y": [
          -0.021137421762707484,
          -0.015660758700939702,
          -0.010377291764872782,
          -0.006756589139755802,
          -0.0033725901132457513,
          0,
          0.003361253121843,
          0.0067112465513048,
          0.010050093734915512,
          0.013377769057109669,
          0.01669441411812426
         ]
        },
        {
         "line": {
          "color": "rgba(50, 171, 96, 0.8999999999999999)",
          "dash": "solid",
          "shape": "linear",
          "width": 1.3
         },
         "mode": "lines",
         "name": "Milk (Whole)",
         "text": "",
         "type": "scatter",
         "x": [
          -0.6931471805599453,
          -0.5108256237659907,
          -0.35667494393873245,
          -0.2231435513142097,
          -0.10536051565782628,
          0,
          0.09531017980432493,
          0.1823215567939546,
          0.26236426446749106,
          0.3364722366212129,
          0.4054651081081644
         ],
         "y": [
          -0.008240426326044485,
          -0.006505127399103767,
          -0.004874874036961928,
          -0.003247153576202689,
          -0.0016223192610534288,
          0,
          0.0016196923049499538,
          0.0029918508162690323,
          0.0041897945643885465,
          0.005386306089554841,
          0.005700595490243629
         ]
        }
       ],
       "layout": {
        "legend": {
         "bgcolor": "#F5F6F9",
         "font": {
          "color": "#4D5663"
         }
        },
        "paper_bgcolor": "#F5F6F9",
        "plot_bgcolor": "#F5F6F9",
        "template": {
         "data": {
          "bar": [
           {
            "error_x": {
             "color": "#2a3f5f"
            },
            "error_y": {
             "color": "#2a3f5f"
            },
            "marker": {
             "line": {
              "color": "#E5ECF6",
              "width": 0.5
             }
            },
            "type": "bar"
           }
          ],
          "barpolar": [
           {
            "marker": {
             "line": {
              "color": "#E5ECF6",
              "width": 0.5
             }
            },
            "type": "barpolar"
           }
          ],
          "carpet": [
           {
            "aaxis": {
             "endlinecolor": "#2a3f5f",
             "gridcolor": "white",
             "linecolor": "white",
             "minorgridcolor": "white",
             "startlinecolor": "#2a3f5f"
            },
            "baxis": {
             "endlinecolor": "#2a3f5f",
             "gridcolor": "white",
             "linecolor": "white",
             "minorgridcolor": "white",
             "startlinecolor": "#2a3f5f"
            },
            "type": "carpet"
           }
          ],
          "choropleth": [
           {
            "colorbar": {
             "outlinewidth": 0,
             "ticks": ""
            },
            "type": "choropleth"
           }
          ],
          "contour": [
           {
            "colorbar": {
             "outlinewidth": 0,
             "ticks": ""
            },
            "colorscale": [
             [
              0,
              "#0d0887"
             ],
             [
              0.1111111111111111,
              "#46039f"
             ],
             [
              0.2222222222222222,
              "#7201a8"
             ],
             [
              0.3333333333333333,
              "#9c179e"
             ],
             [
              0.4444444444444444,
              "#bd3786"
             ],
             [
              0.5555555555555556,
              "#d8576b"
             ],
             [
              0.6666666666666666,
              "#ed7953"
             ],
             [
              0.7777777777777778,
              "#fb9f3a"
             ],
             [
              0.8888888888888888,
              "#fdca26"
             ],
             [
              1,
              "#f0f921"
             ]
            ],
            "type": "contour"
           }
          ],
          "contourcarpet": [
           {
            "colorbar": {
             "outlinewidth": 0,
             "ticks": ""
            },
            "type": "contourcarpet"
           }
          ],
          "heatmap": [
           {
            "colorbar": {
             "outlinewidth": 0,
             "ticks": ""
            },
            "colorscale": [
             [
              0,
              "#0d0887"
             ],
             [
              0.1111111111111111,
              "#46039f"
             ],
             [
              0.2222222222222222,
              "#7201a8"
             ],
             [
              0.3333333333333333,
              "#9c179e"
             ],
             [
              0.4444444444444444,
              "#bd3786"
             ],
             [
              0.5555555555555556,
              "#d8576b"
             ],
             [
              0.6666666666666666,
              "#ed7953"
             ],
             [
              0.7777777777777778,
              "#fb9f3a"
             ],
             [
              0.8888888888888888,
              "#fdca26"
             ],
             [
              1,
              "#f0f921"
             ]
            ],
            "type": "heatmap"
           }
          ],
          "heatmapgl": [
           {
            "colorbar": {
             "outlinewidth": 0,
             "ticks": ""
            },
            "colorscale": [
             [
              0,
              "#0d0887"
             ],
             [
              0.1111111111111111,
              "#46039f"
             ],
             [
              0.2222222222222222,
              "#7201a8"
             ],
             [
              0.3333333333333333,
              "#9c179e"
             ],
             [
              0.4444444444444444,
              "#bd3786"
             ],
             [
              0.5555555555555556,
              "#d8576b"
             ],
             [
              0.6666666666666666,
              "#ed7953"
             ],
             [
              0.7777777777777778,
              "#fb9f3a"
             ],
             [
              0.8888888888888888,
              "#fdca26"
             ],
             [
              1,
              "#f0f921"
             ]
            ],
            "type": "heatmapgl"
           }
          ],
          "histogram": [
           {
            "marker": {
             "colorbar": {
              "outlinewidth": 0,
              "ticks": ""
             }
            },
            "type": "histogram"
           }
          ],
          "histogram2d": [
           {
            "colorbar": {
             "outlinewidth": 0,
             "ticks": ""
            },
            "colorscale": [
             [
              0,
              "#0d0887"
             ],
             [
              0.1111111111111111,
              "#46039f"
             ],
             [
              0.2222222222222222,
              "#7201a8"
             ],
             [
              0.3333333333333333,
              "#9c179e"
             ],
             [
              0.4444444444444444,
              "#bd3786"
             ],
             [
              0.5555555555555556,
              "#d8576b"
             ],
             [
              0.6666666666666666,
              "#ed7953"
             ],
             [
              0.7777777777777778,
              "#fb9f3a"
             ],
             [
              0.8888888888888888,
              "#fdca26"
             ],
             [
              1,
              "#f0f921"
             ]
            ],
            "type": "histogram2d"
           }
          ],
          "histogram2dcontour": [
           {
            "colorbar": {
             "outlinewidth": 0,
             "ticks": ""
            },
            "colorscale": [
             [
              0,
              "#0d0887"
             ],
             [
              0.1111111111111111,
              "#46039f"
             ],
             [
              0.2222222222222222,
              "#7201a8"
             ],
             [
              0.3333333333333333,
              "#9c179e"
             ],
             [
              0.4444444444444444,
              "#bd3786"
             ],
             [
              0.5555555555555556,
              "#d8576b"
             ],
             [
              0.6666666666666666,
              "#ed7953"
             ],
             [
              0.7777777777777778,
              "#fb9f3a"
             ],
             [
              0.8888888888888888,
              "#fdca26"
             ],
             [
              1,
              "#f0f921"
             ]
            ],
            "type": "histogram2dcontour"
           }
          ],
          "mesh3d": [
           {
            "colorbar": {
             "outlinewidth": 0,
             "ticks": ""
            },
            "type": "mesh3d"
           }
          ],
          "parcoords": [
           {
            "line": {
             "colorbar": {
              "outlinewidth": 0,
              "ticks": ""
             }
            },
            "type": "parcoords"
           }
          ],
          "pie": [
           {
            "automargin": true,
            "type": "pie"
           }
          ],
          "scatter": [
           {
            "marker": {
             "colorbar": {
              "outlinewidth": 0,
              "ticks": ""
             }
            },
            "type": "scatter"
           }
          ],
          "scatter3d": [
           {
            "line": {
             "colorbar": {
              "outlinewidth": 0,
              "ticks": ""
             }
            },
            "marker": {
             "colorbar": {
              "outlinewidth": 0,
              "ticks": ""
             }
            },
            "type": "scatter3d"
           }
          ],
          "scattercarpet": [
           {
            "marker": {
             "colorbar": {
              "outlinewidth": 0,
              "ticks": ""
             }
            },
            "type": "scattercarpet"
           }
          ],
          "scattergeo": [
           {
            "marker": {
             "colorbar": {
              "outlinewidth": 0,
              "ticks": ""
             }
            },
            "type": "scattergeo"
           }
          ],
          "scattergl": [
           {
            "marker": {
             "colorbar": {
              "outlinewidth": 0,
              "ticks": ""
             }
            },
            "type": "scattergl"
           }
          ],
          "scattermapbox": [
           {
            "marker": {
             "colorbar": {
              "outlinewidth": 0,
              "ticks": ""
             }
            },
            "type": "scattermapbox"
           }
          ],
          "scatterpolar": [
           {
            "marker": {
             "colorbar": {
              "outlinewidth": 0,
              "ticks": ""
             }
            },
            "type": "scatterpolar"
           }
          ],
          "scatterpolargl": [
           {
            "marker": {
             "colorbar": {
              "outlinewidth": 0,
              "ticks": ""
             }
            },
            "type": "scatterpolargl"
           }
          ],
          "scatterternary": [
           {
            "marker": {
             "colorbar": {
              "outlinewidth": 0,
              "ticks": ""
             }
            },
            "type": "scatterternary"
           }
          ],
          "surface": [
           {
            "colorbar": {
             "outlinewidth": 0,
             "ticks": ""
            },
            "colorscale": [
             [
              0,
              "#0d0887"
             ],
             [
              0.1111111111111111,
              "#46039f"
             ],
             [
              0.2222222222222222,
              "#7201a8"
             ],
             [
              0.3333333333333333,
              "#9c179e"
             ],
             [
              0.4444444444444444,
              "#bd3786"
             ],
             [
              0.5555555555555556,
              "#d8576b"
             ],
             [
              0.6666666666666666,
              "#ed7953"
             ],
             [
              0.7777777777777778,
              "#fb9f3a"
             ],
             [
              0.8888888888888888,
              "#fdca26"
             ],
             [
              1,
              "#f0f921"
             ]
            ],
            "type": "surface"
           }
          ],
          "table": [
           {
            "cells": {
             "fill": {
              "color": "#EBF0F8"
             },
             "line": {
              "color": "white"
             }
            },
            "header": {
             "fill": {
              "color": "#C8D4E3"
             },
             "line": {
              "color": "white"
             }
            },
            "type": "table"
           }
          ]
         },
         "layout": {
          "annotationdefaults": {
           "arrowcolor": "#2a3f5f",
           "arrowhead": 0,
           "arrowwidth": 1
          },
          "autotypenumbers": "strict",
          "coloraxis": {
           "colorbar": {
            "outlinewidth": 0,
            "ticks": ""
           }
          },
          "colorscale": {
           "diverging": [
            [
             0,
             "#8e0152"
            ],
            [
             0.1,
             "#c51b7d"
            ],
            [
             0.2,
             "#de77ae"
            ],
            [
             0.3,
             "#f1b6da"
            ],
            [
             0.4,
             "#fde0ef"
            ],
            [
             0.5,
             "#f7f7f7"
            ],
            [
             0.6,
             "#e6f5d0"
            ],
            [
             0.7,
             "#b8e186"
            ],
            [
             0.8,
             "#7fbc41"
            ],
            [
             0.9,
             "#4d9221"
            ],
            [
             1,
             "#276419"
            ]
           ],
           "sequential": [
            [
             0,
             "#0d0887"
            ],
            [
             0.1111111111111111,
             "#46039f"
            ],
            [
             0.2222222222222222,
             "#7201a8"
            ],
            [
             0.3333333333333333,
             "#9c179e"
            ],
            [
             0.4444444444444444,
             "#bd3786"
            ],
            [
             0.5555555555555556,
             "#d8576b"
            ],
            [
             0.6666666666666666,
             "#ed7953"
            ],
            [
             0.7777777777777778,
             "#fb9f3a"
            ],
            [
             0.8888888888888888,
             "#fdca26"
            ],
            [
             1,
             "#f0f921"
            ]
           ],
           "sequentialminus": [
            [
             0,
             "#0d0887"
            ],
            [
             0.1111111111111111,
             "#46039f"
            ],
            [
             0.2222222222222222,
             "#7201a8"
            ],
            [
             0.3333333333333333,
             "#9c179e"
            ],
            [
             0.4444444444444444,
             "#bd3786"
            ],
            [
             0.5555555555555556,
             "#d8576b"
            ],
            [
             0.6666666666666666,
             "#ed7953"
            ],
            [
             0.7777777777777778,
             "#fb9f3a"
            ],
            [
             0.8888888888888888,
             "#fdca26"
            ],
            [
             1,
             "#f0f921"
            ]
           ]
          },
          "colorway": [
           "#636efa",
           "#EF553B",
           "#00cc96",
           "#ab63fa",
           "#FFA15A",
           "#19d3f3",
           "#FF6692",
           "#B6E880",
           "#FF97FF",
           "#FECB52"
          ],
          "font": {
           "color": "#2a3f5f"
          },
          "geo": {
           "bgcolor": "white",
           "lakecolor": "white",
           "landcolor": "#E5ECF6",
           "showlakes": true,
           "showland": true,
           "subunitcolor": "white"
          },
          "hoverlabel": {
           "align": "left"
          },
          "hovermode": "closest",
          "mapbox": {
           "style": "light"
          },
          "paper_bgcolor": "white",
          "plot_bgcolor": "#E5ECF6",
          "polar": {
           "angularaxis": {
            "gridcolor": "white",
            "linecolor": "white",
            "ticks": ""
           },
           "bgcolor": "#E5ECF6",
           "radialaxis": {
            "gridcolor": "white",
            "linecolor": "white",
            "ticks": ""
           }
          },
          "scene": {
           "xaxis": {
            "backgroundcolor": "#E5ECF6",
            "gridcolor": "white",
            "gridwidth": 2,
            "linecolor": "white",
            "showbackground": true,
            "ticks": "",
            "zerolinecolor": "white"
           },
           "yaxis": {
            "backgroundcolor": "#E5ECF6",
            "gridcolor": "white",
            "gridwidth": 2,
            "linecolor": "white",
            "showbackground": true,
            "ticks": "",
            "zerolinecolor": "white"
           },
           "zaxis": {
            "backgroundcolor": "#E5ECF6",
            "gridcolor": "white",
            "gridwidth": 2,
            "linecolor": "white",
            "showbackground": true,
            "ticks": "",
            "zerolinecolor": "white"
           }
          },
          "shapedefaults": {
           "line": {
            "color": "#2a3f5f"
           }
          },
          "ternary": {
           "aaxis": {
            "gridcolor": "white",
            "linecolor": "white",
            "ticks": ""
           },
           "baxis": {
            "gridcolor": "white",
            "linecolor": "white",
            "ticks": ""
           },
           "bgcolor": "#E5ECF6",
           "caxis": {
            "gridcolor": "white",
            "linecolor": "white",
            "ticks": ""
           }
          },
          "title": {
           "x": 0.05
          },
          "xaxis": {
           "automargin": true,
           "gridcolor": "white",
           "linecolor": "white",
           "ticks": "",
           "title": {
            "standoff": 15
           },
           "zerolinecolor": "white",
           "zerolinewidth": 2
          },
          "yaxis": {
           "automargin": true,
           "gridcolor": "white",
           "linecolor": "white",
           "ticks": "",
           "title": {
            "standoff": 15
           },
           "zerolinecolor": "white",
           "zerolinewidth": 2
          }
         }
        },
        "title": {
         "font": {
          "color": "#4D5663"
         }
        },
        "xaxis": {
         "gridcolor": "#E1E5ED",
         "showgrid": true,
         "tickfont": {
          "color": "#4D5663"
         },
         "title": {
          "font": {
           "color": "#4D5663"
          },
          "text": "log price change"
         },
         "zerolinecolor": "#E1E5ED"
        },
        "yaxis": {
         "gridcolor": "#E1E5ED",
         "showgrid": true,
         "tickfont": {
          "color": "#4D5663"
         },
         "title": {
          "font": {
           "color": "#4D5663"
          },
          "text": "log cost change"
         },
         "zerolinecolor": "#E1E5ED"
        }
       }
      },
      "text/html": [
       "<div>                            <div id=\"793a954e-b244-4f5b-9029-21503d51038d\" class=\"plotly-graph-div\" style=\"height:525px; width:100%;\"></div>            <script type=\"text/javascript\">                require([\"plotly\"], function(Plotly) {                    window.PLOTLYENV=window.PLOTLYENV || {};\n",
       "                    window.PLOTLYENV.BASE_URL='https://plot.ly';                                    if (document.getElementById(\"793a954e-b244-4f5b-9029-21503d51038d\")) {                    Plotly.newPlot(                        \"793a954e-b244-4f5b-9029-21503d51038d\",                        [{\"line\": {\"color\": \"rgba(255, 153, 51, 1.0)\", \"dash\": \"solid\", \"shape\": \"linear\", \"width\": 1.3}, \"mode\": \"lines\", \"name\": \"Wheat Flour\", \"text\": \"\", \"type\": \"scatter\", \"x\": [-0.6931471805599453, -0.5108256237659907, -0.35667494393873245, -0.2231435513142097, -0.10536051565782628, 0.0, 0.09531017980432493, 0.1823215567939546, 0.26236426446749106, 0.3364722366212129, 0.4054651081081644], \"y\": [-0.0034850665411168295, 9.629110489436677e-08, -4.1010506110577474e-10, 1.4079251088397721e-09, 2.0467976181862367e-09, 0.0, -3.5117875280603764e-10, -3.344424737709834e-10, 4.440892098500625e-16, -4.5698067562721576e-10, -4.2064707281817934e-10]}, {\"line\": {\"color\": \"rgba(55, 128, 191, 1.0)\", \"dash\": \"solid\", \"shape\": \"linear\", \"width\": 1.3}, \"mode\": \"lines\", \"name\": \"Wheat Cereal\", \"text\": \"\", \"type\": \"scatter\", \"x\": [-0.6931471805599453, -0.5108256237659907, -0.35667494393873245, -0.2231435513142097, -0.10536051565782628, 0.0, 0.09531017980432493, 0.1823215567939546, 0.26236426446749106, 0.3364722366212129, 0.4054651081081644], \"y\": [-0.012769539678138079, -0.010028454172420716, -0.0072947103304794566, -0.004710581227762568, -0.0023525167380487534, 0.0, 0.002027292862615997, 0.00346087980917307, 0.0048924165562966035, 0.0063219058580041895, 0.006925290199441331]}, {\"line\": {\"color\": \"rgba(50, 171, 96, 1.0)\", \"dash\": \"solid\", \"shape\": \"linear\", \"width\": 1.3}, \"mode\": \"lines\", \"name\": \"Corn Meal\", \"text\": \"\", \"type\": \"scatter\", \"x\": [-0.6931471805599453, -0.5108256237659907, -0.35667494393873245, -0.2231435513142097, -0.10536051565782628, 0.0, 0.09531017980432493, 0.1823215567939546, 0.26236426446749106, 0.3364722366212129, 0.4054651081081644], \"y\": [6.398872540898077e-10, 3.4856850733042817e-10, 1.662607829051042e-10, 4.862288349609141e-11, 4.193578817447196e-11, 0.0, 3.0068414420467985e-10, 1.2276085850226575e-08, 8.589642383722395e-08, 8.809038221673745e-08, -4.719538094780799e-10]}, {\"line\": {\"color\": \"rgba(128, 0, 128, 1.0)\", \"dash\": \"solid\", \"shape\": \"linear\", \"width\": 1.3}, \"mode\": \"lines\", \"name\": \"Rolled Oats\", \"text\": \"\", \"type\": \"scatter\", \"x\": [-0.6931471805599453, -0.5108256237659907, -0.35667494393873245, -0.2231435513142097, -0.10536051565782628, 0.0, 0.09531017980432493, 0.1823215567939546, 0.26236426446749106, 0.3364722366212129, 0.4054651081081644], \"y\": [5.801803482069313e-12, 3.9099168346669615e-11, 4.291833555122353e-11, 7.442713112454427e-12, -8.721279254711497e-11, 0.0, 3.0365288057163044e-10, 3.476490206217537e-10, 1.3166474568607464e-09, 3.923060091302921e-09, 2.343411681669105e-08]}, {\"line\": {\"color\": \"rgba(219, 64, 82, 1.0)\", \"dash\": \"solid\", \"shape\": \"linear\", \"width\": 1.3}, \"mode\": \"lines\", \"name\": \"Evaporated Milk\", \"text\": \"\", \"type\": \"scatter\", \"x\": [-0.6931471805599453, -0.5108256237659907, -0.35667494393873245, -0.2231435513142097, -0.10536051565782628, 0.0, 0.09531017980432493, 0.1823215567939546, 0.26236426446749106, 0.3364722366212129, 0.4054651081081644], \"y\": [-0.003461057672603752, -0.0015397538377305657, -4.1469228060081273e-10, 1.5537686680752642e-09, 2.82465606420498e-10, 0.0, 9.335532346729792e-11, 3.364299949171489e-10, 1.1729501807393619e-09, 1.7788186543185358e-08, 6.950571787488567e-08]}, {\"line\": {\"color\": \"rgba(0, 128, 128, 1.0)\", \"dash\": \"solid\", \"shape\": \"linear\", \"width\": 1.3}, \"mode\": \"lines\", \"name\": \"Cabbage\", \"text\": \"\", \"type\": \"scatter\", \"x\": [-0.6931471805599453, -0.5108256237659907, -0.35667494393873245, -0.2231435513142097, -0.10536051565782628, 0.0, 0.09531017980432493, 0.1823215567939546, 0.26236426446749106, 0.3364722366212129, 0.4054651081081644], \"y\": [-0.07518228091355124, -0.04189893760053977, -0.026621832987120293, -0.015286064597334356, -0.00491351666900041, 0.0, 0.001375152204472188, 0.0013752340594838542, 0.0013751698835985204, 0.0013751515503070478, 0.0013751516416490746]}, {\"line\": {\"color\": \"rgba(255, 255, 51, 1.0)\", \"dash\": \"solid\", \"shape\": \"linear\", \"width\": 1.3}, \"mode\": \"lines\", \"name\": \"Potatoes\", \"text\": \"\", \"type\": \"scatter\", \"x\": [-0.6931471805599453, -0.5108256237659907, -0.35667494393873245, -0.2231435513142097, -0.10536051565782628, 0.0, 0.09531017980432493, 0.1823215567939546, 0.26236426446749106, 0.3364722366212129, 0.4054651081081644], \"y\": [-4.770375207102507e-10, 1.431390561532327e-10, -1.6177270635496354e-10, 4.344857806776161e-11, -4.2561065783725875e-11, 0.0, 2.545246898891175e-09, 5.864412383610689e-08, 8.998081496973593e-08, -4.771610885329504e-10, 2.586820946186031e-08]}, {\"line\": {\"color\": \"rgba(128, 128, 0, 1.0)\", \"dash\": \"solid\", \"shape\": \"linear\", \"width\": 1.3}, \"mode\": \"lines\", \"name\": \"Spinach\", \"text\": \"\", \"type\": \"scatter\", \"x\": [-0.6931471805599453, -0.5108256237659907, -0.35667494393873245, -0.2231435513142097, -0.10536051565782628, 0.0, 0.09531017980432493, 0.1823215567939546, 0.26236426446749106, 0.3364722366212129, 0.4054651081081644], \"y\": [-0.5794272095441145, -0.433169435306129, -0.30559904225516316, -0.1925122989387559, -0.09140459051628091, 0.0, 0.08280517042566285, 0.15877010065924696, 0.22836781698744088, 0.2925231431572014, 0.3527665572816836]}, {\"line\": {\"color\": \"rgba(251, 128, 114, 1.0)\", \"dash\": \"solid\", \"shape\": \"linear\", \"width\": 1.3}, \"mode\": \"lines\", \"name\": \"Sweet Potatoes\", \"text\": \"\", \"type\": \"scatter\", \"x\": [-0.6931471805599453, -0.5108256237659907, -0.35667494393873245, -0.2231435513142097, -0.10536051565782628, 0.0, 0.09531017980432493, 0.1823215567939546, 0.26236426446749106, 0.3364722366212129, 0.4054651081081644], \"y\": [-5.855416152116721e-11, 9.11315467529161e-12, 3.865596731525648e-11, 3.426969818972735e-11, -4.173072998357372e-11, 0.0, 3.666733582757258e-10, 2.520853744789715e-09, 2.8972214207692815e-08, 9.409747427065135e-08, 5.791716893778577e-08]}, {\"line\": {\"color\": \"rgba(128, 177, 211, 1.0)\", \"dash\": \"solid\", \"shape\": \"linear\", \"width\": 1.3}, \"mode\": \"lines\", \"name\": \"Navy Beans\", \"text\": \"\", \"type\": \"scatter\", \"x\": [-0.6931471805599453, -0.5108256237659907, -0.35667494393873245, -0.2231435513142097, -0.10536051565782628, 0.0, 0.09531017980432493, 0.1823215567939546, 0.26236426446749106, 0.3364722366212129, 0.4054651081081644], \"y\": [-0.012876679127483187, -0.010125663764893895, -0.007584618084682193, -0.005050016122466976, -0.0025218204640112835, 0.0, 0.0024123589006940184, 0.004229753971464874, 0.006043858031340501, 0.007854676249665531, 0.00799877247098421]}, {\"line\": {\"color\": \"rgba(128, 177, 211, 0.8999999999999999)\", \"dash\": \"solid\", \"shape\": \"linear\", \"width\": 1.3}, \"mode\": \"lines\", \"name\": \"Sugar\", \"text\": \"\", \"type\": \"scatter\", \"x\": [-0.6931471805599453, -0.5108256237659907, -0.35667494393873245, -0.2231435513142097, -0.10536051565782628, 0.0, 0.09531017980432493, 0.1823215567939546, 0.26236426446749106, 0.3364722366212129, 0.4054651081081644], \"y\": [-0.004276762348535988, -0.0034200716811798285, -0.00256395665709318, -0.0017085738746888985, -0.0008539220577360593, 0.0, 0.0008531937912696307, 0.0017057581649833392, 0.0025573987169660987, 0.003408413881677013, 0.004212072261151786]}, {\"line\": {\"color\": \"rgba(255, 153, 51, 0.8999999999999999)\", \"dash\": \"solid\", \"shape\": \"linear\", \"width\": 1.3}, \"mode\": \"lines\", \"name\": \"Beets\", \"text\": \"\", \"type\": \"scatter\", \"x\": [-0.6931471805599453, -0.5108256237659907, -0.35667494393873245, -0.2231435513142097, -0.10536051565782628, 0.0, 0.09531017980432493, 0.1823215567939546, 0.26236426446749106, 0.3364722366212129, 0.4054651081081644], \"y\": [-1.30512267668327e-10, -1.2427392449216354e-10, -9.330070050319649e-11, -6.275657771423326e-11, 5.806022329562864e-12, 0.0, 5.818835174532891e-09, 8.190982778537126e-08, -4.748900163126961e-10, 1.0752906564349991e-07, 1.8743678517919117e-07]}, {\"line\": {\"color\": \"rgba(55, 128, 191, 0.8999999999999999)\", \"dash\": \"solid\", \"shape\": \"linear\", \"width\": 1.3}, \"mode\": \"lines\", \"name\": \"Liver (Pork)\", \"text\": \"\", \"type\": \"scatter\", \"x\": [-0.6931471805599453, -0.5108256237659907, -0.35667494393873245, -0.2231435513142097, -0.10536051565782628, 0.0, 0.09531017980432493, 0.1823215567939546, 0.26236426446749106, 0.3364722366212129, 0.4054651081081644], \"y\": [-0.021137421762707484, -0.015660758700939702, -0.010377291764872782, -0.006756589139755802, -0.0033725901132457513, 0.0, 0.003361253121843, 0.0067112465513048, 0.010050093734915512, 0.013377769057109669, 0.01669441411812426]}, {\"line\": {\"color\": \"rgba(50, 171, 96, 0.8999999999999999)\", \"dash\": \"solid\", \"shape\": \"linear\", \"width\": 1.3}, \"mode\": \"lines\", \"name\": \"Milk (Whole)\", \"text\": \"\", \"type\": \"scatter\", \"x\": [-0.6931471805599453, -0.5108256237659907, -0.35667494393873245, -0.2231435513142097, -0.10536051565782628, 0.0, 0.09531017980432493, 0.1823215567939546, 0.26236426446749106, 0.3364722366212129, 0.4054651081081644], \"y\": [-0.008240426326044485, -0.006505127399103767, -0.004874874036961928, -0.003247153576202689, -0.0016223192610534288, 0.0, 0.0016196923049499538, 0.0029918508162690323, 0.0041897945643885465, 0.005386306089554841, 0.005700595490243629]}],                        {\"legend\": {\"bgcolor\": \"#F5F6F9\", \"font\": {\"color\": \"#4D5663\"}}, \"paper_bgcolor\": \"#F5F6F9\", \"plot_bgcolor\": \"#F5F6F9\", \"template\": {\"data\": {\"bar\": [{\"error_x\": {\"color\": \"#2a3f5f\"}, \"error_y\": {\"color\": \"#2a3f5f\"}, \"marker\": {\"line\": {\"color\": \"#E5ECF6\", \"width\": 0.5}}, \"type\": \"bar\"}], \"barpolar\": [{\"marker\": {\"line\": {\"color\": \"#E5ECF6\", \"width\": 0.5}}, \"type\": \"barpolar\"}], \"carpet\": [{\"aaxis\": {\"endlinecolor\": \"#2a3f5f\", \"gridcolor\": \"white\", \"linecolor\": \"white\", \"minorgridcolor\": \"white\", \"startlinecolor\": \"#2a3f5f\"}, \"baxis\": {\"endlinecolor\": \"#2a3f5f\", \"gridcolor\": \"white\", \"linecolor\": \"white\", \"minorgridcolor\": \"white\", \"startlinecolor\": \"#2a3f5f\"}, \"type\": \"carpet\"}], \"choropleth\": [{\"colorbar\": {\"outlinewidth\": 0, \"ticks\": \"\"}, \"type\": \"choropleth\"}], \"contour\": [{\"colorbar\": {\"outlinewidth\": 0, \"ticks\": \"\"}, \"colorscale\": [[0.0, \"#0d0887\"], [0.1111111111111111, \"#46039f\"], [0.2222222222222222, \"#7201a8\"], [0.3333333333333333, \"#9c179e\"], [0.4444444444444444, \"#bd3786\"], [0.5555555555555556, \"#d8576b\"], [0.6666666666666666, \"#ed7953\"], [0.7777777777777778, \"#fb9f3a\"], [0.8888888888888888, \"#fdca26\"], [1.0, \"#f0f921\"]], \"type\": \"contour\"}], \"contourcarpet\": [{\"colorbar\": {\"outlinewidth\": 0, \"ticks\": \"\"}, \"type\": \"contourcarpet\"}], \"heatmap\": [{\"colorbar\": {\"outlinewidth\": 0, \"ticks\": \"\"}, \"colorscale\": [[0.0, \"#0d0887\"], [0.1111111111111111, \"#46039f\"], [0.2222222222222222, \"#7201a8\"], [0.3333333333333333, \"#9c179e\"], [0.4444444444444444, \"#bd3786\"], [0.5555555555555556, \"#d8576b\"], [0.6666666666666666, \"#ed7953\"], [0.7777777777777778, \"#fb9f3a\"], [0.8888888888888888, \"#fdca26\"], [1.0, \"#f0f921\"]], \"type\": \"heatmap\"}], \"heatmapgl\": [{\"colorbar\": {\"outlinewidth\": 0, \"ticks\": \"\"}, \"colorscale\": [[0.0, \"#0d0887\"], [0.1111111111111111, \"#46039f\"], [0.2222222222222222, \"#7201a8\"], [0.3333333333333333, \"#9c179e\"], [0.4444444444444444, \"#bd3786\"], [0.5555555555555556, \"#d8576b\"], [0.6666666666666666, \"#ed7953\"], [0.7777777777777778, \"#fb9f3a\"], [0.8888888888888888, \"#fdca26\"], [1.0, \"#f0f921\"]], \"type\": \"heatmapgl\"}], \"histogram\": [{\"marker\": {\"colorbar\": {\"outlinewidth\": 0, \"ticks\": \"\"}}, \"type\": \"histogram\"}], \"histogram2d\": [{\"colorbar\": {\"outlinewidth\": 0, \"ticks\": \"\"}, \"colorscale\": [[0.0, \"#0d0887\"], [0.1111111111111111, \"#46039f\"], [0.2222222222222222, \"#7201a8\"], [0.3333333333333333, \"#9c179e\"], [0.4444444444444444, \"#bd3786\"], [0.5555555555555556, \"#d8576b\"], [0.6666666666666666, \"#ed7953\"], [0.7777777777777778, \"#fb9f3a\"], [0.8888888888888888, \"#fdca26\"], [1.0, \"#f0f921\"]], \"type\": \"histogram2d\"}], \"histogram2dcontour\": [{\"colorbar\": {\"outlinewidth\": 0, \"ticks\": \"\"}, \"colorscale\": [[0.0, \"#0d0887\"], [0.1111111111111111, \"#46039f\"], [0.2222222222222222, \"#7201a8\"], [0.3333333333333333, \"#9c179e\"], [0.4444444444444444, \"#bd3786\"], [0.5555555555555556, \"#d8576b\"], [0.6666666666666666, \"#ed7953\"], [0.7777777777777778, \"#fb9f3a\"], [0.8888888888888888, \"#fdca26\"], [1.0, \"#f0f921\"]], \"type\": \"histogram2dcontour\"}], \"mesh3d\": [{\"colorbar\": {\"outlinewidth\": 0, \"ticks\": \"\"}, \"type\": \"mesh3d\"}], \"parcoords\": [{\"line\": {\"colorbar\": {\"outlinewidth\": 0, \"ticks\": \"\"}}, \"type\": \"parcoords\"}], \"pie\": [{\"automargin\": true, \"type\": \"pie\"}], \"scatter\": [{\"marker\": {\"colorbar\": {\"outlinewidth\": 0, \"ticks\": \"\"}}, \"type\": \"scatter\"}], \"scatter3d\": [{\"line\": {\"colorbar\": {\"outlinewidth\": 0, \"ticks\": \"\"}}, \"marker\": {\"colorbar\": {\"outlinewidth\": 0, \"ticks\": \"\"}}, \"type\": \"scatter3d\"}], \"scattercarpet\": [{\"marker\": {\"colorbar\": {\"outlinewidth\": 0, \"ticks\": \"\"}}, \"type\": \"scattercarpet\"}], \"scattergeo\": [{\"marker\": {\"colorbar\": {\"outlinewidth\": 0, \"ticks\": \"\"}}, \"type\": \"scattergeo\"}], \"scattergl\": [{\"marker\": {\"colorbar\": {\"outlinewidth\": 0, \"ticks\": \"\"}}, \"type\": \"scattergl\"}], \"scattermapbox\": [{\"marker\": {\"colorbar\": {\"outlinewidth\": 0, \"ticks\": \"\"}}, \"type\": \"scattermapbox\"}], \"scatterpolar\": [{\"marker\": {\"colorbar\": {\"outlinewidth\": 0, \"ticks\": \"\"}}, \"type\": \"scatterpolar\"}], \"scatterpolargl\": [{\"marker\": {\"colorbar\": {\"outlinewidth\": 0, \"ticks\": \"\"}}, \"type\": \"scatterpolargl\"}], \"scatterternary\": [{\"marker\": {\"colorbar\": {\"outlinewidth\": 0, \"ticks\": \"\"}}, \"type\": \"scatterternary\"}], \"surface\": [{\"colorbar\": {\"outlinewidth\": 0, \"ticks\": \"\"}, \"colorscale\": [[0.0, \"#0d0887\"], [0.1111111111111111, \"#46039f\"], [0.2222222222222222, \"#7201a8\"], [0.3333333333333333, \"#9c179e\"], [0.4444444444444444, \"#bd3786\"], [0.5555555555555556, \"#d8576b\"], [0.6666666666666666, \"#ed7953\"], [0.7777777777777778, \"#fb9f3a\"], [0.8888888888888888, \"#fdca26\"], [1.0, \"#f0f921\"]], \"type\": \"surface\"}], \"table\": [{\"cells\": {\"fill\": {\"color\": \"#EBF0F8\"}, \"line\": {\"color\": \"white\"}}, \"header\": {\"fill\": {\"color\": \"#C8D4E3\"}, \"line\": {\"color\": \"white\"}}, \"type\": \"table\"}]}, \"layout\": {\"annotationdefaults\": {\"arrowcolor\": \"#2a3f5f\", \"arrowhead\": 0, \"arrowwidth\": 1}, \"autotypenumbers\": \"strict\", \"coloraxis\": {\"colorbar\": {\"outlinewidth\": 0, \"ticks\": \"\"}}, \"colorscale\": {\"diverging\": [[0, \"#8e0152\"], [0.1, \"#c51b7d\"], [0.2, \"#de77ae\"], [0.3, \"#f1b6da\"], [0.4, \"#fde0ef\"], [0.5, \"#f7f7f7\"], [0.6, \"#e6f5d0\"], [0.7, \"#b8e186\"], [0.8, \"#7fbc41\"], [0.9, \"#4d9221\"], [1, \"#276419\"]], \"sequential\": [[0.0, \"#0d0887\"], [0.1111111111111111, \"#46039f\"], [0.2222222222222222, \"#7201a8\"], [0.3333333333333333, \"#9c179e\"], [0.4444444444444444, \"#bd3786\"], [0.5555555555555556, \"#d8576b\"], [0.6666666666666666, \"#ed7953\"], [0.7777777777777778, \"#fb9f3a\"], [0.8888888888888888, \"#fdca26\"], [1.0, \"#f0f921\"]], \"sequentialminus\": [[0.0, \"#0d0887\"], [0.1111111111111111, \"#46039f\"], [0.2222222222222222, \"#7201a8\"], [0.3333333333333333, \"#9c179e\"], [0.4444444444444444, \"#bd3786\"], [0.5555555555555556, \"#d8576b\"], [0.6666666666666666, \"#ed7953\"], [0.7777777777777778, \"#fb9f3a\"], [0.8888888888888888, \"#fdca26\"], [1.0, \"#f0f921\"]]}, \"colorway\": [\"#636efa\", \"#EF553B\", \"#00cc96\", \"#ab63fa\", \"#FFA15A\", \"#19d3f3\", \"#FF6692\", \"#B6E880\", \"#FF97FF\", \"#FECB52\"], \"font\": {\"color\": \"#2a3f5f\"}, \"geo\": {\"bgcolor\": \"white\", \"lakecolor\": \"white\", \"landcolor\": \"#E5ECF6\", \"showlakes\": true, \"showland\": true, \"subunitcolor\": \"white\"}, \"hoverlabel\": {\"align\": \"left\"}, \"hovermode\": \"closest\", \"mapbox\": {\"style\": \"light\"}, \"paper_bgcolor\": \"white\", \"plot_bgcolor\": \"#E5ECF6\", \"polar\": {\"angularaxis\": {\"gridcolor\": \"white\", \"linecolor\": \"white\", \"ticks\": \"\"}, \"bgcolor\": \"#E5ECF6\", \"radialaxis\": {\"gridcolor\": \"white\", \"linecolor\": \"white\", \"ticks\": \"\"}}, \"scene\": {\"xaxis\": {\"backgroundcolor\": \"#E5ECF6\", \"gridcolor\": \"white\", \"gridwidth\": 2, \"linecolor\": \"white\", \"showbackground\": true, \"ticks\": \"\", \"zerolinecolor\": \"white\"}, \"yaxis\": {\"backgroundcolor\": \"#E5ECF6\", \"gridcolor\": \"white\", \"gridwidth\": 2, \"linecolor\": \"white\", \"showbackground\": true, \"ticks\": \"\", \"zerolinecolor\": \"white\"}, \"zaxis\": {\"backgroundcolor\": \"#E5ECF6\", \"gridcolor\": \"white\", \"gridwidth\": 2, \"linecolor\": \"white\", \"showbackground\": true, \"ticks\": \"\", \"zerolinecolor\": \"white\"}}, \"shapedefaults\": {\"line\": {\"color\": \"#2a3f5f\"}}, \"ternary\": {\"aaxis\": {\"gridcolor\": \"white\", \"linecolor\": \"white\", \"ticks\": \"\"}, \"baxis\": {\"gridcolor\": \"white\", \"linecolor\": \"white\", \"ticks\": \"\"}, \"bgcolor\": \"#E5ECF6\", \"caxis\": {\"gridcolor\": \"white\", \"linecolor\": \"white\", \"ticks\": \"\"}}, \"title\": {\"x\": 0.05}, \"xaxis\": {\"automargin\": true, \"gridcolor\": \"white\", \"linecolor\": \"white\", \"ticks\": \"\", \"title\": {\"standoff\": 15}, \"zerolinecolor\": \"white\", \"zerolinewidth\": 2}, \"yaxis\": {\"automargin\": true, \"gridcolor\": \"white\", \"linecolor\": \"white\", \"ticks\": \"\", \"title\": {\"standoff\": 15}, \"zerolinecolor\": \"white\", \"zerolinewidth\": 2}}}, \"title\": {\"font\": {\"color\": \"#4D5663\"}}, \"xaxis\": {\"gridcolor\": \"#E1E5ED\", \"showgrid\": true, \"tickfont\": {\"color\": \"#4D5663\"}, \"title\": {\"font\": {\"color\": \"#4D5663\"}, \"text\": \"log price change\"}, \"zerolinecolor\": \"#E1E5ED\"}, \"yaxis\": {\"gridcolor\": \"#E1E5ED\", \"showgrid\": true, \"tickfont\": {\"color\": \"#4D5663\"}, \"title\": {\"font\": {\"color\": \"#4D5663\"}, \"text\": \"log cost change\"}, \"zerolinecolor\": \"#E1E5ED\"}},                        {\"showLink\": true, \"linkText\": \"Export to plot.ly\", \"plotlyServerURL\": \"https://plot.ly\", \"responsive\": true}                    ).then(function(){\n",
       "                            \n",
       "var gd = document.getElementById('793a954e-b244-4f5b-9029-21503d51038d');\n",
       "var x = new MutationObserver(function (mutations, observer) {{\n",
       "        var display = window.getComputedStyle(gd).display;\n",
       "        if (!display || display === 'none') {{\n",
       "            console.log([gd, 'removed!']);\n",
       "            Plotly.purge(gd);\n",
       "            observer.disconnect();\n",
       "        }}\n",
       "}});\n",
       "\n",
       "// Listen for the removal of the full notebook cells\n",
       "var notebookContainer = gd.closest('#notebook-container');\n",
       "if (notebookContainer) {{\n",
       "    x.observe(notebookContainer, {childList: true});\n",
       "}}\n",
       "\n",
       "// Listen for the clearing of the current output cell\n",
       "var outputEl = gd.closest('.output');\n",
       "if (outputEl) {{\n",
       "    x.observe(outputEl, {childList: true});\n",
       "}}\n",
       "\n",
       "                        })                };                });            </script>        </div>"
      ]
     },
     "metadata": {},
     "output_type": "display_data"
    }
   ],
   "source": [
    "import cufflinks as cf\n",
    "cf.go_offline()\n",
    "\n",
    "scale = [.5,.6,.7,.8,.9,1.,1.1,1.2,1.3,1.4,1.5]\n",
    "\n",
    "cost0 = solve_subsistence_problem(FoodNutrients,Prices,diet_min[group],diet_max[group],tol=tol).fun\n",
    "\n",
    "Price_response={}\n",
    "for s in scale:\n",
    "    cost = {}\n",
    "    for i,p in enumerate(Prices):\n",
    "        my_p = Prices.copy()\n",
    "        my_p[i] = p*s\n",
    "        result = solve_subsistence_problem(FoodNutrients,my_p,diet_min[group],diet_max[group],tol=tol)\n",
    "        cost[Prices.index[i]] = np.log(result.fun/cost0)\n",
    "    Price_response[np.log(s)] = cost\n",
    "\n",
    "Price_response = pd.DataFrame(Price_response).T\n",
    "Price_response.iplot(xTitle='log price change',yTitle='log cost change')"
   ]
  }
 ],
 "metadata": {
  "kernelspec": {
   "display_name": "Python 3",
   "language": "python",
   "name": "python3"
  },
  "language_info": {
   "codemirror_mode": {
    "name": "ipython",
    "version": 3
   },
   "file_extension": ".py",
   "mimetype": "text/x-python",
   "name": "python",
   "nbconvert_exporter": "python",
   "pygments_lexer": "ipython3",
   "version": "3.8.3"
  }
 },
 "nbformat": 4,
 "nbformat_minor": 4
}
