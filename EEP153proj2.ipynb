{
 "cells": [
  {
   "cell_type": "markdown",
   "metadata": {},
   "source": [
    "# EEP153 Project2"
   ]
  },
  {
   "cell_type": "code",
   "execution_count": 1,
   "metadata": {},
   "outputs": [],
   "source": [
    "#!pip install -r requirements.txt"
   ]
  },
  {
   "cell_type": "code",
   "execution_count": 1,
   "metadata": {},
   "outputs": [],
   "source": [
    "user = \"ligon\"\n",
    "\n",
    "# API key for Gov; substitute your own!\n",
    "apikey = \"inIyO1begWSRqsYtxS7m6p09PSyq7Qiw7fxzV2qN\"\n",
    "\n",
    "# File with private keys for relevant service account to authenticate\n",
    "# and access google spreadsheets\n",
    "serviceacct = {'ligon':'./students-9093fa174318.json'}"
   ]
  },
  {
   "cell_type": "code",
   "execution_count": 2,
   "metadata": {},
   "outputs": [],
   "source": [
    "SHEETs = [# Stigler's foods, modern prices\n",
    "          (\"https://docs.google.com/spreadsheet/ccc?key=1ObK5N_5aVXzVHE7ZXWBg0kQvPS3k1enRwsUjhytwh5A\",\"Table B\"), \n",
    "         ]"
   ]
  },
  {
   "cell_type": "code",
   "execution_count": 3,
   "metadata": {},
   "outputs": [
    {
     "name": "stdout",
     "output_type": "stream",
     "text": [
      "gpg: AES256.CFB encrypted data\n",
      "gpg: encrypted with 1 passphrase\n"
     ]
    }
   ],
   "source": [
    "#### Need private keys from json file (we're authenticating using \"service accounts\")\n",
    "!gpg --batch --passphrase \"noodle octopus\" -d ./students-9093fa174318.json.gpg > ./students-9093fa174318.json"
   ]
  },
  {
   "cell_type": "code",
   "execution_count": 4,
   "metadata": {},
   "outputs": [],
   "source": [
    "import pandas as pd\n",
    "from eep153_tools import read_sheets\n",
    "df = pd.concat([read_sheets(spreadsheet,json_creds=serviceacct[user],sheet=sheet) for spreadsheet, sheet in SHEETs],\n",
    "               ignore_index=True,sort=False)"
   ]
  },
  {
   "cell_type": "markdown",
   "metadata": {},
   "source": [
    "### 1.2 Dietary Reference Intakes"
   ]
  },
  {
   "cell_type": "code",
   "execution_count": 5,
   "metadata": {},
   "outputs": [],
   "source": [
    "DRIs = \"https://docs.google.com/spreadsheets/d/1y95IsQ4HKspPW3HHDtH7QMtlDA66IUsCHJLutVL-MMc/\"\n",
    "# Define *minimums*\n",
    "diet_min = read_sheets(DRIs,json_creds=serviceacct[user],sheet='diet_minimums').set_index('Nutrition')\n",
    "# Define *maximums*\n",
    "diet_max = read_sheets(DRIs,json_creds=serviceacct[user],sheet='diet_maximums').set_index('Nutrition')"
   ]
  },
  {
   "cell_type": "code",
   "execution_count": 6,
   "metadata": {},
   "outputs": [],
   "source": [
    "data = pd.concat([pd.read_csv('./diet_minimums.csv').set_index('Nutrition').iloc[:,2:],-pd.read_csv('./diet_maximums.csv').set_index('Nutrition').iloc[:,2:]])"
   ]
  },
  {
   "cell_type": "code",
   "execution_count": 7,
   "metadata": {},
   "outputs": [
    {
     "data": {
      "text/html": [
       "<div>\n",
       "<style scoped>\n",
       "    .dataframe tbody tr th:only-of-type {\n",
       "        vertical-align: middle;\n",
       "    }\n",
       "\n",
       "    .dataframe tbody tr th {\n",
       "        vertical-align: top;\n",
       "    }\n",
       "\n",
       "    .dataframe thead th {\n",
       "        text-align: right;\n",
       "    }\n",
       "</style>\n",
       "<table border=\"1\" class=\"dataframe\">\n",
       "  <thead>\n",
       "    <tr style=\"text-align: right;\">\n",
       "      <th></th>\n",
       "      <th>C 1-3</th>\n",
       "      <th>F 4-8</th>\n",
       "      <th>M 4-8</th>\n",
       "      <th>F 9-13</th>\n",
       "      <th>M 9-13</th>\n",
       "      <th>F 14-18</th>\n",
       "      <th>M 14-18</th>\n",
       "      <th>F 19-30</th>\n",
       "      <th>M 19-30</th>\n",
       "      <th>F 31-50</th>\n",
       "      <th>M 31-50</th>\n",
       "      <th>F 51+</th>\n",
       "      <th>M 51+</th>\n",
       "    </tr>\n",
       "    <tr>\n",
       "      <th>Nutrition</th>\n",
       "      <th></th>\n",
       "      <th></th>\n",
       "      <th></th>\n",
       "      <th></th>\n",
       "      <th></th>\n",
       "      <th></th>\n",
       "      <th></th>\n",
       "      <th></th>\n",
       "      <th></th>\n",
       "      <th></th>\n",
       "      <th></th>\n",
       "      <th></th>\n",
       "      <th></th>\n",
       "    </tr>\n",
       "  </thead>\n",
       "  <tbody>\n",
       "    <tr>\n",
       "      <th>Energy</th>\n",
       "      <td>1000.0</td>\n",
       "      <td>1200.0</td>\n",
       "      <td>1400.0</td>\n",
       "      <td>1600.0</td>\n",
       "      <td>1800.0</td>\n",
       "      <td>1800.0</td>\n",
       "      <td>2200.0</td>\n",
       "      <td>2000.0</td>\n",
       "      <td>2400.0</td>\n",
       "      <td>1800.0</td>\n",
       "      <td>2200.0</td>\n",
       "      <td>1600.0</td>\n",
       "      <td>2000.0</td>\n",
       "    </tr>\n",
       "    <tr>\n",
       "      <th>Protein</th>\n",
       "      <td>13.0</td>\n",
       "      <td>19.0</td>\n",
       "      <td>19.0</td>\n",
       "      <td>34.0</td>\n",
       "      <td>34.0</td>\n",
       "      <td>46.0</td>\n",
       "      <td>52.0</td>\n",
       "      <td>46.0</td>\n",
       "      <td>56.0</td>\n",
       "      <td>46.0</td>\n",
       "      <td>56.0</td>\n",
       "      <td>46.0</td>\n",
       "      <td>56.0</td>\n",
       "    </tr>\n",
       "    <tr>\n",
       "      <th>Fiber, total dietary</th>\n",
       "      <td>14.0</td>\n",
       "      <td>16.8</td>\n",
       "      <td>19.6</td>\n",
       "      <td>22.4</td>\n",
       "      <td>25.2</td>\n",
       "      <td>25.2</td>\n",
       "      <td>30.8</td>\n",
       "      <td>28.0</td>\n",
       "      <td>33.6</td>\n",
       "      <td>25.2</td>\n",
       "      <td>30.8</td>\n",
       "      <td>22.4</td>\n",
       "      <td>28.0</td>\n",
       "    </tr>\n",
       "    <tr>\n",
       "      <th>Folate, DFE</th>\n",
       "      <td>150.0</td>\n",
       "      <td>200.0</td>\n",
       "      <td>200.0</td>\n",
       "      <td>300.0</td>\n",
       "      <td>300.0</td>\n",
       "      <td>400.0</td>\n",
       "      <td>400.0</td>\n",
       "      <td>400.0</td>\n",
       "      <td>400.0</td>\n",
       "      <td>400.0</td>\n",
       "      <td>400.0</td>\n",
       "      <td>400.0</td>\n",
       "      <td>400.0</td>\n",
       "    </tr>\n",
       "    <tr>\n",
       "      <th>Calcium, Ca</th>\n",
       "      <td>700.0</td>\n",
       "      <td>1000.0</td>\n",
       "      <td>1000.0</td>\n",
       "      <td>1300.0</td>\n",
       "      <td>1300.0</td>\n",
       "      <td>1300.0</td>\n",
       "      <td>1300.0</td>\n",
       "      <td>1000.0</td>\n",
       "      <td>1000.0</td>\n",
       "      <td>1000.0</td>\n",
       "      <td>1000.0</td>\n",
       "      <td>1200.0</td>\n",
       "      <td>1000.0</td>\n",
       "    </tr>\n",
       "    <tr>\n",
       "      <th>Carbohydrate, by difference</th>\n",
       "      <td>130.0</td>\n",
       "      <td>130.0</td>\n",
       "      <td>130.0</td>\n",
       "      <td>130.0</td>\n",
       "      <td>130.0</td>\n",
       "      <td>130.0</td>\n",
       "      <td>130.0</td>\n",
       "      <td>130.0</td>\n",
       "      <td>130.0</td>\n",
       "      <td>130.0</td>\n",
       "      <td>130.0</td>\n",
       "      <td>130.0</td>\n",
       "      <td>130.0</td>\n",
       "    </tr>\n",
       "    <tr>\n",
       "      <th>Iron, Fe</th>\n",
       "      <td>7.0</td>\n",
       "      <td>10.0</td>\n",
       "      <td>10.0</td>\n",
       "      <td>8.0</td>\n",
       "      <td>8.0</td>\n",
       "      <td>15.0</td>\n",
       "      <td>11.0</td>\n",
       "      <td>18.0</td>\n",
       "      <td>8.0</td>\n",
       "      <td>18.0</td>\n",
       "      <td>8.0</td>\n",
       "      <td>8.0</td>\n",
       "      <td>8.0</td>\n",
       "    </tr>\n",
       "    <tr>\n",
       "      <th>Magnesium, Mg</th>\n",
       "      <td>80.0</td>\n",
       "      <td>130.0</td>\n",
       "      <td>130.0</td>\n",
       "      <td>240.0</td>\n",
       "      <td>240.0</td>\n",
       "      <td>360.0</td>\n",
       "      <td>410.0</td>\n",
       "      <td>310.0</td>\n",
       "      <td>400.0</td>\n",
       "      <td>320.0</td>\n",
       "      <td>420.0</td>\n",
       "      <td>320.0</td>\n",
       "      <td>420.0</td>\n",
       "    </tr>\n",
       "    <tr>\n",
       "      <th>Niacin</th>\n",
       "      <td>6.0</td>\n",
       "      <td>8.0</td>\n",
       "      <td>8.0</td>\n",
       "      <td>12.0</td>\n",
       "      <td>12.0</td>\n",
       "      <td>14.0</td>\n",
       "      <td>16.0</td>\n",
       "      <td>14.0</td>\n",
       "      <td>16.0</td>\n",
       "      <td>14.0</td>\n",
       "      <td>16.0</td>\n",
       "      <td>14.0</td>\n",
       "      <td>16.0</td>\n",
       "    </tr>\n",
       "    <tr>\n",
       "      <th>Phosphorus, P</th>\n",
       "      <td>460.0</td>\n",
       "      <td>500.0</td>\n",
       "      <td>500.0</td>\n",
       "      <td>1250.0</td>\n",
       "      <td>1250.0</td>\n",
       "      <td>1250.0</td>\n",
       "      <td>1250.0</td>\n",
       "      <td>700.0</td>\n",
       "      <td>700.0</td>\n",
       "      <td>700.0</td>\n",
       "      <td>700.0</td>\n",
       "      <td>700.0</td>\n",
       "      <td>700.0</td>\n",
       "    </tr>\n",
       "    <tr>\n",
       "      <th>Potassium, K</th>\n",
       "      <td>3000.0</td>\n",
       "      <td>3800.0</td>\n",
       "      <td>3800.0</td>\n",
       "      <td>4500.0</td>\n",
       "      <td>4500.0</td>\n",
       "      <td>4700.0</td>\n",
       "      <td>4700.0</td>\n",
       "      <td>4700.0</td>\n",
       "      <td>4700.0</td>\n",
       "      <td>4700.0</td>\n",
       "      <td>4700.0</td>\n",
       "      <td>4700.0</td>\n",
       "      <td>4700.0</td>\n",
       "    </tr>\n",
       "    <tr>\n",
       "      <th>Riboflavin</th>\n",
       "      <td>0.5</td>\n",
       "      <td>0.6</td>\n",
       "      <td>0.6</td>\n",
       "      <td>0.9</td>\n",
       "      <td>0.9</td>\n",
       "      <td>1.0</td>\n",
       "      <td>1.3</td>\n",
       "      <td>1.1</td>\n",
       "      <td>1.3</td>\n",
       "      <td>1.1</td>\n",
       "      <td>1.3</td>\n",
       "      <td>1.1</td>\n",
       "      <td>1.3</td>\n",
       "    </tr>\n",
       "    <tr>\n",
       "      <th>Thiamin</th>\n",
       "      <td>0.5</td>\n",
       "      <td>0.6</td>\n",
       "      <td>0.6</td>\n",
       "      <td>0.9</td>\n",
       "      <td>0.9</td>\n",
       "      <td>1.0</td>\n",
       "      <td>1.2</td>\n",
       "      <td>1.1</td>\n",
       "      <td>1.2</td>\n",
       "      <td>1.1</td>\n",
       "      <td>1.2</td>\n",
       "      <td>1.1</td>\n",
       "      <td>1.2</td>\n",
       "    </tr>\n",
       "    <tr>\n",
       "      <th>Vitamin A, RAE</th>\n",
       "      <td>300.0</td>\n",
       "      <td>400.0</td>\n",
       "      <td>400.0</td>\n",
       "      <td>600.0</td>\n",
       "      <td>600.0</td>\n",
       "      <td>700.0</td>\n",
       "      <td>900.0</td>\n",
       "      <td>700.0</td>\n",
       "      <td>900.0</td>\n",
       "      <td>700.0</td>\n",
       "      <td>900.0</td>\n",
       "      <td>700.0</td>\n",
       "      <td>900.0</td>\n",
       "    </tr>\n",
       "    <tr>\n",
       "      <th>Vitamin B-12</th>\n",
       "      <td>0.9</td>\n",
       "      <td>1.2</td>\n",
       "      <td>1.2</td>\n",
       "      <td>1.8</td>\n",
       "      <td>1.8</td>\n",
       "      <td>2.4</td>\n",
       "      <td>2.4</td>\n",
       "      <td>2.4</td>\n",
       "      <td>2.4</td>\n",
       "      <td>2.4</td>\n",
       "      <td>2.4</td>\n",
       "      <td>2.4</td>\n",
       "      <td>2.4</td>\n",
       "    </tr>\n",
       "    <tr>\n",
       "      <th>Vitamin B-6</th>\n",
       "      <td>0.5</td>\n",
       "      <td>0.6</td>\n",
       "      <td>0.6</td>\n",
       "      <td>1.0</td>\n",
       "      <td>1.0</td>\n",
       "      <td>1.2</td>\n",
       "      <td>1.3</td>\n",
       "      <td>1.3</td>\n",
       "      <td>1.3</td>\n",
       "      <td>1.3</td>\n",
       "      <td>1.3</td>\n",
       "      <td>1.5</td>\n",
       "      <td>1.7</td>\n",
       "    </tr>\n",
       "    <tr>\n",
       "      <th>Vitamin C, total ascorbic acid</th>\n",
       "      <td>15.0</td>\n",
       "      <td>25.0</td>\n",
       "      <td>25.0</td>\n",
       "      <td>45.0</td>\n",
       "      <td>45.0</td>\n",
       "      <td>65.0</td>\n",
       "      <td>75.0</td>\n",
       "      <td>75.0</td>\n",
       "      <td>90.0</td>\n",
       "      <td>75.0</td>\n",
       "      <td>90.0</td>\n",
       "      <td>75.0</td>\n",
       "      <td>90.0</td>\n",
       "    </tr>\n",
       "    <tr>\n",
       "      <th>Vitamin E (alpha-tocopherol)</th>\n",
       "      <td>6.0</td>\n",
       "      <td>7.0</td>\n",
       "      <td>7.0</td>\n",
       "      <td>11.0</td>\n",
       "      <td>11.0</td>\n",
       "      <td>15.0</td>\n",
       "      <td>15.0</td>\n",
       "      <td>15.0</td>\n",
       "      <td>15.0</td>\n",
       "      <td>15.0</td>\n",
       "      <td>15.0</td>\n",
       "      <td>15.0</td>\n",
       "      <td>15.0</td>\n",
       "    </tr>\n",
       "    <tr>\n",
       "      <th>Vitamin K (phylloquinone)</th>\n",
       "      <td>30.0</td>\n",
       "      <td>55.0</td>\n",
       "      <td>55.0</td>\n",
       "      <td>60.0</td>\n",
       "      <td>60.0</td>\n",
       "      <td>75.0</td>\n",
       "      <td>75.0</td>\n",
       "      <td>90.0</td>\n",
       "      <td>120.0</td>\n",
       "      <td>90.0</td>\n",
       "      <td>120.0</td>\n",
       "      <td>90.0</td>\n",
       "      <td>120.0</td>\n",
       "    </tr>\n",
       "    <tr>\n",
       "      <th>Zinc, Zn</th>\n",
       "      <td>3.0</td>\n",
       "      <td>5.0</td>\n",
       "      <td>5.0</td>\n",
       "      <td>8.0</td>\n",
       "      <td>8.0</td>\n",
       "      <td>9.0</td>\n",
       "      <td>11.0</td>\n",
       "      <td>8.0</td>\n",
       "      <td>11.0</td>\n",
       "      <td>8.0</td>\n",
       "      <td>11.0</td>\n",
       "      <td>8.0</td>\n",
       "      <td>11.0</td>\n",
       "    </tr>\n",
       "    <tr>\n",
       "      <th>Sodium, Na</th>\n",
       "      <td>-1500.0</td>\n",
       "      <td>-1900.0</td>\n",
       "      <td>-1900.0</td>\n",
       "      <td>-2200.0</td>\n",
       "      <td>-2200.0</td>\n",
       "      <td>-2300.0</td>\n",
       "      <td>-2300.0</td>\n",
       "      <td>-2300.0</td>\n",
       "      <td>-2300.0</td>\n",
       "      <td>-2300.0</td>\n",
       "      <td>-2300.0</td>\n",
       "      <td>-2300.0</td>\n",
       "      <td>-2300.0</td>\n",
       "    </tr>\n",
       "  </tbody>\n",
       "</table>\n",
       "</div>"
      ],
      "text/plain": [
       "                                 C 1-3   F 4-8   M 4-8  F 9-13  M 9-13  \\\n",
       "Nutrition                                                                \n",
       "Energy                          1000.0  1200.0  1400.0  1600.0  1800.0   \n",
       "Protein                           13.0    19.0    19.0    34.0    34.0   \n",
       "Fiber, total dietary              14.0    16.8    19.6    22.4    25.2   \n",
       "Folate, DFE                      150.0   200.0   200.0   300.0   300.0   \n",
       "Calcium, Ca                      700.0  1000.0  1000.0  1300.0  1300.0   \n",
       "Carbohydrate, by difference      130.0   130.0   130.0   130.0   130.0   \n",
       "Iron, Fe                           7.0    10.0    10.0     8.0     8.0   \n",
       "Magnesium, Mg                     80.0   130.0   130.0   240.0   240.0   \n",
       "Niacin                             6.0     8.0     8.0    12.0    12.0   \n",
       "Phosphorus, P                    460.0   500.0   500.0  1250.0  1250.0   \n",
       "Potassium, K                    3000.0  3800.0  3800.0  4500.0  4500.0   \n",
       "Riboflavin                         0.5     0.6     0.6     0.9     0.9   \n",
       "Thiamin                            0.5     0.6     0.6     0.9     0.9   \n",
       "Vitamin A, RAE                   300.0   400.0   400.0   600.0   600.0   \n",
       "Vitamin B-12                       0.9     1.2     1.2     1.8     1.8   \n",
       "Vitamin B-6                        0.5     0.6     0.6     1.0     1.0   \n",
       "Vitamin C, total ascorbic acid    15.0    25.0    25.0    45.0    45.0   \n",
       "Vitamin E (alpha-tocopherol)       6.0     7.0     7.0    11.0    11.0   \n",
       "Vitamin K (phylloquinone)         30.0    55.0    55.0    60.0    60.0   \n",
       "Zinc, Zn                           3.0     5.0     5.0     8.0     8.0   \n",
       "Sodium, Na                     -1500.0 -1900.0 -1900.0 -2200.0 -2200.0   \n",
       "\n",
       "                                F 14-18  M 14-18  F 19-30  M 19-30  F 31-50  \\\n",
       "Nutrition                                                                     \n",
       "Energy                           1800.0   2200.0   2000.0   2400.0   1800.0   \n",
       "Protein                            46.0     52.0     46.0     56.0     46.0   \n",
       "Fiber, total dietary               25.2     30.8     28.0     33.6     25.2   \n",
       "Folate, DFE                       400.0    400.0    400.0    400.0    400.0   \n",
       "Calcium, Ca                      1300.0   1300.0   1000.0   1000.0   1000.0   \n",
       "Carbohydrate, by difference       130.0    130.0    130.0    130.0    130.0   \n",
       "Iron, Fe                           15.0     11.0     18.0      8.0     18.0   \n",
       "Magnesium, Mg                     360.0    410.0    310.0    400.0    320.0   \n",
       "Niacin                             14.0     16.0     14.0     16.0     14.0   \n",
       "Phosphorus, P                    1250.0   1250.0    700.0    700.0    700.0   \n",
       "Potassium, K                     4700.0   4700.0   4700.0   4700.0   4700.0   \n",
       "Riboflavin                          1.0      1.3      1.1      1.3      1.1   \n",
       "Thiamin                             1.0      1.2      1.1      1.2      1.1   \n",
       "Vitamin A, RAE                    700.0    900.0    700.0    900.0    700.0   \n",
       "Vitamin B-12                        2.4      2.4      2.4      2.4      2.4   \n",
       "Vitamin B-6                         1.2      1.3      1.3      1.3      1.3   \n",
       "Vitamin C, total ascorbic acid     65.0     75.0     75.0     90.0     75.0   \n",
       "Vitamin E (alpha-tocopherol)       15.0     15.0     15.0     15.0     15.0   \n",
       "Vitamin K (phylloquinone)          75.0     75.0     90.0    120.0     90.0   \n",
       "Zinc, Zn                            9.0     11.0      8.0     11.0      8.0   \n",
       "Sodium, Na                      -2300.0  -2300.0  -2300.0  -2300.0  -2300.0   \n",
       "\n",
       "                                M 31-50   F 51+   M 51+  \n",
       "Nutrition                                                \n",
       "Energy                           2200.0  1600.0  2000.0  \n",
       "Protein                            56.0    46.0    56.0  \n",
       "Fiber, total dietary               30.8    22.4    28.0  \n",
       "Folate, DFE                       400.0   400.0   400.0  \n",
       "Calcium, Ca                      1000.0  1200.0  1000.0  \n",
       "Carbohydrate, by difference       130.0   130.0   130.0  \n",
       "Iron, Fe                            8.0     8.0     8.0  \n",
       "Magnesium, Mg                     420.0   320.0   420.0  \n",
       "Niacin                             16.0    14.0    16.0  \n",
       "Phosphorus, P                     700.0   700.0   700.0  \n",
       "Potassium, K                     4700.0  4700.0  4700.0  \n",
       "Riboflavin                          1.3     1.1     1.3  \n",
       "Thiamin                             1.2     1.1     1.2  \n",
       "Vitamin A, RAE                    900.0   700.0   900.0  \n",
       "Vitamin B-12                        2.4     2.4     2.4  \n",
       "Vitamin B-6                         1.3     1.5     1.7  \n",
       "Vitamin C, total ascorbic acid     90.0    75.0    90.0  \n",
       "Vitamin E (alpha-tocopherol)       15.0    15.0    15.0  \n",
       "Vitamin K (phylloquinone)         120.0    90.0   120.0  \n",
       "Zinc, Zn                           11.0     8.0    11.0  \n",
       "Sodium, Na                      -2300.0 -2300.0 -2300.0  "
      ]
     },
     "execution_count": 7,
     "metadata": {},
     "output_type": "execute_result"
    }
   ],
   "source": [
    "data"
   ]
  },
  {
   "cell_type": "code",
   "execution_count": null,
   "metadata": {},
   "outputs": [],
   "source": []
  },
  {
   "cell_type": "code",
   "execution_count": 8,
   "metadata": {},
   "outputs": [],
   "source": [
    "def dri_female(age):\n",
    "    if age in range(1,4):\n",
    "        return data.iloc[:, 0]\n",
    "    if age in range(4,9):\n",
    "        return data.iloc[:, 1]\n",
    "    if age in range(9,14):\n",
    "        return data.iloc[:, 3]\n",
    "    if age in range(14,19):\n",
    "        return data.iloc[:, 5]\n",
    "    if age in range(19,31): \n",
    "        return data.iloc[:, 7]\n",
    "    if age in range(31,51):\n",
    "        return data.iloc[:, 9]\n",
    "    if age >= 51:\n",
    "        return data.iloc[:, 11]\n",
    "    \n",
    "def dri_male(age):\n",
    "    if age in range(1,4):\n",
    "        return data.iloc[:, 0]\n",
    "    if age in range(4,9):\n",
    "        return data.iloc[:, 2]\n",
    "    if age in range(9,14):\n",
    "        return data.iloc[:, 4]\n",
    "    if age in range(14,19):\n",
    "        return data.iloc[:, 6]\n",
    "    if age in range(19,31): \n",
    "        return data.iloc[:, 8]\n",
    "    if age in range(31,51):\n",
    "        return data.iloc[:, 10]\n",
    "    if age >= 51:\n",
    "        return data.iloc[:, 12]"
   ]
  },
  {
   "cell_type": "code",
   "execution_count": 9,
   "metadata": {},
   "outputs": [],
   "source": [
    "def get_dri(age, sex):\n",
    "    if sex == \"M\":\n",
    "        return dri_male(age)\n",
    "    else:\n",
    "        return dri_female(age)"
   ]
  },
  {
   "cell_type": "code",
   "execution_count": 10,
   "metadata": {},
   "outputs": [
    {
     "data": {
      "text/plain": [
       "Nutrition\n",
       "Energy                            2400.0\n",
       "Protein                             56.0\n",
       "Fiber, total dietary                33.6\n",
       "Folate, DFE                        400.0\n",
       "Calcium, Ca                       1000.0\n",
       "Carbohydrate, by difference        130.0\n",
       "Iron, Fe                             8.0\n",
       "Magnesium, Mg                      400.0\n",
       "Niacin                              16.0\n",
       "Phosphorus, P                      700.0\n",
       "Potassium, K                      4700.0\n",
       "Riboflavin                           1.3\n",
       "Thiamin                              1.2\n",
       "Vitamin A, RAE                     900.0\n",
       "Vitamin B-12                         2.4\n",
       "Vitamin B-6                          1.3\n",
       "Vitamin C, total ascorbic acid      90.0\n",
       "Vitamin E (alpha-tocopherol)        15.0\n",
       "Vitamin K (phylloquinone)          120.0\n",
       "Zinc, Zn                            11.0\n",
       "Sodium, Na                       -2300.0\n",
       "Name: M 19-30, dtype: float64"
      ]
     },
     "execution_count": 10,
     "metadata": {},
     "output_type": "execute_result"
    }
   ],
   "source": [
    "get_dri(20, 'M')"
   ]
  },
  {
   "cell_type": "markdown",
   "metadata": {},
   "source": [
    "### 1.3 Data on prices for different foods (Google Sheets)"
   ]
  },
  {
   "cell_type": "code",
   "execution_count": 32,
   "metadata": {},
   "outputs": [],
   "source": [
    "SHEETs = [# Stigler's foods, modern prices\n",
    "          (\"https://docs.google.com/spreadsheets/d/1u_k72iWqdSLJHWXKQG_bfzG7Y8H417ht64847Z9MxPA/edit#gid=0\",\"Sheet1\"), \n",
    "         ]"
   ]
  },
  {
   "cell_type": "code",
   "execution_count": 33,
   "metadata": {},
   "outputs": [],
   "source": [
    "import pandas as pd\n",
    "from eep153_tools import read_sheets\n",
    "\n",
    "df = pd.concat([read_sheets(spreadsheet,json_creds=serviceacct[user],sheet=sheet) for spreadsheet, sheet in SHEETs],\n",
    "               ignore_index=True,sort=False)"
   ]
  },
  {
   "cell_type": "code",
   "execution_count": 34,
   "metadata": {},
   "outputs": [
    {
     "data": {
      "text/html": [
       "<div>\n",
       "<style scoped>\n",
       "    .dataframe tbody tr th:only-of-type {\n",
       "        vertical-align: middle;\n",
       "    }\n",
       "\n",
       "    .dataframe tbody tr th {\n",
       "        vertical-align: top;\n",
       "    }\n",
       "\n",
       "    .dataframe thead th {\n",
       "        text-align: right;\n",
       "    }\n",
       "</style>\n",
       "<table border=\"1\" class=\"dataframe\">\n",
       "  <thead>\n",
       "    <tr style=\"text-align: right;\">\n",
       "      <th></th>\n",
       "      <th>Food</th>\n",
       "      <th>Quantity</th>\n",
       "      <th>Units</th>\n",
       "      <th>Price</th>\n",
       "    </tr>\n",
       "  </thead>\n",
       "  <tbody>\n",
       "    <tr>\n",
       "      <th>0</th>\n",
       "      <td>Spinach</td>\n",
       "      <td>100</td>\n",
       "      <td>grams(g)</td>\n",
       "      <td>$1.89/bunch</td>\n",
       "    </tr>\n",
       "    <tr>\n",
       "      <th>1</th>\n",
       "      <td>Brown Rice</td>\n",
       "      <td>300</td>\n",
       "      <td>grams(g)</td>\n",
       "      <td>$1.09/Ib</td>\n",
       "    </tr>\n",
       "    <tr>\n",
       "      <th>2</th>\n",
       "      <td>Pinto beans</td>\n",
       "      <td>200</td>\n",
       "      <td>grams(g)</td>\n",
       "      <td>$1.98/32 oz</td>\n",
       "    </tr>\n",
       "    <tr>\n",
       "      <th>3</th>\n",
       "      <td>Lettuce</td>\n",
       "      <td>100</td>\n",
       "      <td>grams(g)</td>\n",
       "      <td>$2.19/bundle</td>\n",
       "    </tr>\n",
       "    <tr>\n",
       "      <th>4</th>\n",
       "      <td>Tomatoes</td>\n",
       "      <td>100</td>\n",
       "      <td>grams(g)</td>\n",
       "      <td>$2.79/lb</td>\n",
       "    </tr>\n",
       "    <tr>\n",
       "      <th>5</th>\n",
       "      <td>Avocado</td>\n",
       "      <td>200</td>\n",
       "      <td>grams(g)</td>\n",
       "      <td>$2.18/ for 2</td>\n",
       "    </tr>\n",
       "    <tr>\n",
       "      <th>6</th>\n",
       "      <td>Onion</td>\n",
       "      <td>100</td>\n",
       "      <td>grams(g)</td>\n",
       "      <td>$1.69/Ib</td>\n",
       "    </tr>\n",
       "    <tr>\n",
       "      <th>7</th>\n",
       "      <td>Corn Tortilla</td>\n",
       "      <td>100</td>\n",
       "      <td>grams(g)</td>\n",
       "      <td>$1.69/ for 8</td>\n",
       "    </tr>\n",
       "  </tbody>\n",
       "</table>\n",
       "</div>"
      ],
      "text/plain": [
       "            Food  Quantity     Units          Price\n",
       "0        Spinach       100  grams(g)    $1.89/bunch\n",
       "1     Brown Rice       300  grams(g)       $1.09/Ib\n",
       "2    Pinto beans       200  grams(g)   $1.98/32 oz \n",
       "3        Lettuce       100  grams(g)   $2.19/bundle\n",
       "4       Tomatoes       100  grams(g)       $2.79/lb\n",
       "5        Avocado       200  grams(g)  $2.18/ for 2 \n",
       "6          Onion       100  grams(g)       $1.69/Ib\n",
       "7  Corn Tortilla       100  grams(g)   $1.69/ for 8"
      ]
     },
     "execution_count": 34,
     "metadata": {},
     "output_type": "execute_result"
    }
   ],
   "source": [
    "df"
   ]
  },
  {
   "cell_type": "markdown",
   "metadata": {},
   "source": [
    "### 1.4 Nutritional Contents of Different Foods"
   ]
  },
  {
   "cell_type": "code",
   "execution_count": 12,
   "metadata": {},
   "outputs": [],
   "source": [
    "apikey = \"NcGih5XLgfRYmXPlGI8YgkU7HtwK3CsnI6uHURwx\""
   ]
  },
  {
   "cell_type": "code",
   "execution_count": 17,
   "metadata": {},
   "outputs": [
    {
     "data": {
      "text/html": [
       "<div>\n",
       "<style scoped>\n",
       "    .dataframe tbody tr th:only-of-type {\n",
       "        vertical-align: middle;\n",
       "    }\n",
       "\n",
       "    .dataframe tbody tr th {\n",
       "        vertical-align: top;\n",
       "    }\n",
       "\n",
       "    .dataframe thead th {\n",
       "        text-align: right;\n",
       "    }\n",
       "</style>\n",
       "<table border=\"1\" class=\"dataframe\">\n",
       "  <thead>\n",
       "    <tr style=\"text-align: right;\">\n",
       "      <th></th>\n",
       "      <th>fdcId</th>\n",
       "      <th>description</th>\n",
       "      <th>lowercaseDescription</th>\n",
       "      <th>dataType</th>\n",
       "      <th>gtinUpc</th>\n",
       "      <th>publishedDate</th>\n",
       "      <th>brandOwner</th>\n",
       "      <th>ingredients</th>\n",
       "      <th>allHighlightFields</th>\n",
       "      <th>score</th>\n",
       "      <th>foodNutrients</th>\n",
       "    </tr>\n",
       "  </thead>\n",
       "  <tbody>\n",
       "    <tr>\n",
       "      <th>0</th>\n",
       "      <td>1259312</td>\n",
       "      <td>MILK</td>\n",
       "      <td>milk</td>\n",
       "      <td>Branded</td>\n",
       "      <td>011110503244</td>\n",
       "      <td>2021-02-26</td>\n",
       "      <td>The Kroger Co.</td>\n",
       "      <td>MILK, SKIM MILK VITAMIN A PALMITATE, VITAMIN D3.</td>\n",
       "      <td>&lt;b&gt;Ingredients&lt;/b&gt;: &lt;em&gt;MILK&lt;/em&gt;, SKIM &lt;em&gt;MI...</td>\n",
       "      <td>541.1986</td>\n",
       "      <td>[{'nutrientId': 1003, 'nutrientName': 'Protein...</td>\n",
       "    </tr>\n",
       "    <tr>\n",
       "      <th>1</th>\n",
       "      <td>1239409</td>\n",
       "      <td>MILK</td>\n",
       "      <td>milk</td>\n",
       "      <td>Branded</td>\n",
       "      <td>742365264955</td>\n",
       "      <td>2021-02-26</td>\n",
       "      <td>WWF Operating Company</td>\n",
       "      <td>ORGANIC GRADE A MILK, VITAMIN D3.</td>\n",
       "      <td>&lt;b&gt;Ingredients&lt;/b&gt;: ORGANIC GRADE A &lt;em&gt;MILK&lt;/...</td>\n",
       "      <td>541.1986</td>\n",
       "      <td>[{'nutrientId': 1003, 'nutrientName': 'Protein...</td>\n",
       "    </tr>\n",
       "    <tr>\n",
       "      <th>2</th>\n",
       "      <td>553224</td>\n",
       "      <td>MILK</td>\n",
       "      <td>milk</td>\n",
       "      <td>Branded</td>\n",
       "      <td>021130073719</td>\n",
       "      <td>2019-04-01</td>\n",
       "      <td>JEWEL</td>\n",
       "      <td>MILK, VITAMIN D3.</td>\n",
       "      <td>&lt;b&gt;Ingredients&lt;/b&gt;: &lt;em&gt;MILK&lt;/em&gt;, VITAMIN D3.</td>\n",
       "      <td>541.1986</td>\n",
       "      <td>[{'nutrientId': 1079, 'nutrientName': 'Fiber, ...</td>\n",
       "    </tr>\n",
       "    <tr>\n",
       "      <th>3</th>\n",
       "      <td>602709</td>\n",
       "      <td>MILK</td>\n",
       "      <td>milk</td>\n",
       "      <td>Branded</td>\n",
       "      <td>883572103009</td>\n",
       "      <td>2019-04-01</td>\n",
       "      <td>DRIFTWOOD</td>\n",
       "      <td>MILK AND VITAMIN D3.</td>\n",
       "      <td>&lt;b&gt;Ingredients&lt;/b&gt;: &lt;em&gt;MILK&lt;/em&gt; AND VITAMIN D3.</td>\n",
       "      <td>541.1986</td>\n",
       "      <td>[{'nutrientId': 1079, 'nutrientName': 'Fiber, ...</td>\n",
       "    </tr>\n",
       "    <tr>\n",
       "      <th>4</th>\n",
       "      <td>602770</td>\n",
       "      <td>MILK</td>\n",
       "      <td>milk</td>\n",
       "      <td>Branded</td>\n",
       "      <td>883572103511</td>\n",
       "      <td>2019-04-01</td>\n",
       "      <td>FAIRDALE FARMS</td>\n",
       "      <td>MILK AND VITAMIN D3.</td>\n",
       "      <td>&lt;b&gt;Ingredients&lt;/b&gt;: &lt;em&gt;MILK&lt;/em&gt; AND VITAMIN D3.</td>\n",
       "      <td>541.1986</td>\n",
       "      <td>[{'nutrientId': 1079, 'nutrientName': 'Fiber, ...</td>\n",
       "    </tr>\n",
       "    <tr>\n",
       "      <th>5</th>\n",
       "      <td>1294050</td>\n",
       "      <td>MILK</td>\n",
       "      <td>milk</td>\n",
       "      <td>Branded</td>\n",
       "      <td>815473010414</td>\n",
       "      <td>2021-02-26</td>\n",
       "      <td>Borden Dairy Company</td>\n",
       "      <td>MILK, HIGH FRUCTOSE CORN SYRUP, SUGAR, COCOA (...</td>\n",
       "      <td>&lt;b&gt;Ingredients&lt;/b&gt;: &lt;em&gt;MILK&lt;/em&gt;, HIGH FRUCTO...</td>\n",
       "      <td>541.1986</td>\n",
       "      <td>[{'nutrientId': 1003, 'nutrientName': 'Protein...</td>\n",
       "    </tr>\n",
       "    <tr>\n",
       "      <th>6</th>\n",
       "      <td>1325008</td>\n",
       "      <td>MILK</td>\n",
       "      <td>milk</td>\n",
       "      <td>Branded</td>\n",
       "      <td>021130070022</td>\n",
       "      <td>2021-02-26</td>\n",
       "      <td>Safeway, Inc.</td>\n",
       "      <td>MILK, VITAMIN D3.</td>\n",
       "      <td>&lt;b&gt;Ingredients&lt;/b&gt;: &lt;em&gt;MILK&lt;/em&gt;, VITAMIN D3.</td>\n",
       "      <td>541.1986</td>\n",
       "      <td>[{'nutrientId': 1003, 'nutrientName': 'Protein...</td>\n",
       "    </tr>\n",
       "    <tr>\n",
       "      <th>7</th>\n",
       "      <td>1305674</td>\n",
       "      <td>MILK</td>\n",
       "      <td>milk</td>\n",
       "      <td>Branded</td>\n",
       "      <td>044442001171</td>\n",
       "      <td>2021-02-26</td>\n",
       "      <td>Arps Dairy, Inc.</td>\n",
       "      <td>MILK, SUGAR, COCOA (PROCESSED WALKALI), CORNST...</td>\n",
       "      <td>&lt;b&gt;Ingredients&lt;/b&gt;: &lt;em&gt;MILK&lt;/em&gt;, SUGAR, COCO...</td>\n",
       "      <td>541.1986</td>\n",
       "      <td>[{'nutrientId': 1003, 'nutrientName': 'Protein...</td>\n",
       "    </tr>\n",
       "    <tr>\n",
       "      <th>8</th>\n",
       "      <td>1369254</td>\n",
       "      <td>MILK</td>\n",
       "      <td>milk</td>\n",
       "      <td>Branded</td>\n",
       "      <td>021130409433</td>\n",
       "      <td>2021-02-26</td>\n",
       "      <td>Safeway, Inc.</td>\n",
       "      <td>GRADE A MILK, VITAMIN D3.</td>\n",
       "      <td>&lt;b&gt;Ingredients&lt;/b&gt;: GRADE A &lt;em&gt;MILK&lt;/em&gt;, VIT...</td>\n",
       "      <td>541.1986</td>\n",
       "      <td>[{'nutrientId': 1003, 'nutrientName': 'Protein...</td>\n",
       "    </tr>\n",
       "    <tr>\n",
       "      <th>9</th>\n",
       "      <td>1350248</td>\n",
       "      <td>MILK</td>\n",
       "      <td>milk</td>\n",
       "      <td>Branded</td>\n",
       "      <td>090208281110</td>\n",
       "      <td>2021-02-26</td>\n",
       "      <td>Kreider Farms</td>\n",
       "      <td>MILK, SUGAR, NATURAL AND ARTIFICIAL FLAVORS, C...</td>\n",
       "      <td>&lt;b&gt;Ingredients&lt;/b&gt;: &lt;em&gt;MILK&lt;/em&gt;, SUGAR, NATU...</td>\n",
       "      <td>541.1986</td>\n",
       "      <td>[{'nutrientId': 1003, 'nutrientName': 'Protein...</td>\n",
       "    </tr>\n",
       "    <tr>\n",
       "      <th>10</th>\n",
       "      <td>496606</td>\n",
       "      <td>MILK</td>\n",
       "      <td>milk</td>\n",
       "      <td>Branded</td>\n",
       "      <td>072050907752</td>\n",
       "      <td>2019-04-01</td>\n",
       "      <td>ELMHURST DAIRY</td>\n",
       "      <td>LOWFAT MILK. VITAMIN A PALMITATE, VITAMIN D3</td>\n",
       "      <td>&lt;b&gt;Ingredients&lt;/b&gt;: LOWFAT &lt;em&gt;MILK&lt;/em&gt;. VITA...</td>\n",
       "      <td>541.1986</td>\n",
       "      <td>[{'nutrientId': 1079, 'nutrientName': 'Fiber, ...</td>\n",
       "    </tr>\n",
       "    <tr>\n",
       "      <th>11</th>\n",
       "      <td>496607</td>\n",
       "      <td>MILK</td>\n",
       "      <td>milk</td>\n",
       "      <td>Branded</td>\n",
       "      <td>072050907554</td>\n",
       "      <td>2019-04-01</td>\n",
       "      <td>ELMHURST DAIRY</td>\n",
       "      <td>FAT FREE MILK, VITAMIN A PALMITATE, VITAMIN D3</td>\n",
       "      <td>&lt;b&gt;Ingredients&lt;/b&gt;: FAT FREE &lt;em&gt;MILK&lt;/em&gt;, VI...</td>\n",
       "      <td>541.1986</td>\n",
       "      <td>[{'nutrientId': 1004, 'nutrientName': 'Total l...</td>\n",
       "    </tr>\n",
       "    <tr>\n",
       "      <th>12</th>\n",
       "      <td>1329024</td>\n",
       "      <td>MILK</td>\n",
       "      <td>milk</td>\n",
       "      <td>Branded</td>\n",
       "      <td>072060001280</td>\n",
       "      <td>2021-02-26</td>\n",
       "      <td>Hiland Dairy Inc.</td>\n",
       "      <td>GRADE A MILK, SUGAR, NONFAT DRY MILK SOLIDS, C...</td>\n",
       "      <td>&lt;b&gt;Ingredients&lt;/b&gt;: GRADE A &lt;em&gt;MILK&lt;/em&gt;, SUG...</td>\n",
       "      <td>541.1986</td>\n",
       "      <td>[{'nutrientId': 1003, 'nutrientName': 'Protein...</td>\n",
       "    </tr>\n",
       "    <tr>\n",
       "      <th>13</th>\n",
       "      <td>726148</td>\n",
       "      <td>MILK</td>\n",
       "      <td>milk</td>\n",
       "      <td>Branded</td>\n",
       "      <td>085239043066</td>\n",
       "      <td>2019-12-06</td>\n",
       "      <td>GOOD &amp; GATHER</td>\n",
       "      <td>GRADE A ORGANIC MILK, DHA ALGAL OIL**, VITAMIN...</td>\n",
       "      <td>&lt;b&gt;Ingredients&lt;/b&gt;: GRADE A ORGANIC &lt;em&gt;MILK&lt;/...</td>\n",
       "      <td>541.1986</td>\n",
       "      <td>[{'nutrientId': 1003, 'nutrientName': 'Protein...</td>\n",
       "    </tr>\n",
       "    <tr>\n",
       "      <th>14</th>\n",
       "      <td>726156</td>\n",
       "      <td>MILK</td>\n",
       "      <td>milk</td>\n",
       "      <td>Branded</td>\n",
       "      <td>085239043059</td>\n",
       "      <td>2019-12-06</td>\n",
       "      <td>GOOD &amp; GATHER</td>\n",
       "      <td>GRADE A ORGANIC MILK, VITAMIN D3**.</td>\n",
       "      <td>&lt;b&gt;Ingredients&lt;/b&gt;: GRADE A ORGANIC &lt;em&gt;MILK&lt;/...</td>\n",
       "      <td>541.1986</td>\n",
       "      <td>[{'nutrientId': 1003, 'nutrientName': 'Protein...</td>\n",
       "    </tr>\n",
       "    <tr>\n",
       "      <th>15</th>\n",
       "      <td>1283413</td>\n",
       "      <td>MILK</td>\n",
       "      <td>milk</td>\n",
       "      <td>Branded</td>\n",
       "      <td>044100169236</td>\n",
       "      <td>2021-02-26</td>\n",
       "      <td>HP Hood LLC</td>\n",
       "      <td>MILK AND VITAMIN D3.</td>\n",
       "      <td>&lt;b&gt;Ingredients&lt;/b&gt;: &lt;em&gt;MILK&lt;/em&gt; AND VITAMIN D3.</td>\n",
       "      <td>541.1986</td>\n",
       "      <td>[{'nutrientId': 1003, 'nutrientName': 'Protein...</td>\n",
       "    </tr>\n",
       "    <tr>\n",
       "      <th>16</th>\n",
       "      <td>1286514</td>\n",
       "      <td>MILK</td>\n",
       "      <td>milk</td>\n",
       "      <td>Branded</td>\n",
       "      <td>815473013200</td>\n",
       "      <td>2021-02-26</td>\n",
       "      <td>Borden Dairy Company</td>\n",
       "      <td>MILK, VITAMIN D3.</td>\n",
       "      <td>&lt;b&gt;Ingredients&lt;/b&gt;: &lt;em&gt;MILK&lt;/em&gt;, VITAMIN D3.</td>\n",
       "      <td>541.1986</td>\n",
       "      <td>[{'nutrientId': 1003, 'nutrientName': 'Protein...</td>\n",
       "    </tr>\n",
       "    <tr>\n",
       "      <th>17</th>\n",
       "      <td>1313087</td>\n",
       "      <td>MILK</td>\n",
       "      <td>milk</td>\n",
       "      <td>Branded</td>\n",
       "      <td>071156501222</td>\n",
       "      <td>2021-02-26</td>\n",
       "      <td>Rutter Bros. Dairy, Inc.</td>\n",
       "      <td>LOWFAT MILK, LIQUID SUGAR (SUGAR, WATER), COCO...</td>\n",
       "      <td>&lt;b&gt;Ingredients&lt;/b&gt;: LOWFAT &lt;em&gt;MILK&lt;/em&gt;, LIQU...</td>\n",
       "      <td>541.1986</td>\n",
       "      <td>[{'nutrientId': 1003, 'nutrientName': 'Protein...</td>\n",
       "    </tr>\n",
       "    <tr>\n",
       "      <th>18</th>\n",
       "      <td>1293550</td>\n",
       "      <td>MILK</td>\n",
       "      <td>milk</td>\n",
       "      <td>Branded</td>\n",
       "      <td>811964010437</td>\n",
       "      <td>2021-02-26</td>\n",
       "      <td>Bogopa Enterprises, Inc.</td>\n",
       "      <td>MILK, VITAMIN D3</td>\n",
       "      <td>&lt;b&gt;Ingredients&lt;/b&gt;: &lt;em&gt;MILK&lt;/em&gt;, VITAMIN D3</td>\n",
       "      <td>541.1986</td>\n",
       "      <td>[{'nutrientId': 1003, 'nutrientName': 'Protein...</td>\n",
       "    </tr>\n",
       "    <tr>\n",
       "      <th>19</th>\n",
       "      <td>1296984</td>\n",
       "      <td>MILK</td>\n",
       "      <td>milk</td>\n",
       "      <td>Branded</td>\n",
       "      <td>763528306039</td>\n",
       "      <td>2021-02-26</td>\n",
       "      <td>Promised Land Dairy</td>\n",
       "      <td>MILK, SUGAR, COCOA (PROCESSED WITH ALKALI), CO...</td>\n",
       "      <td>&lt;b&gt;Ingredients&lt;/b&gt;: &lt;em&gt;MILK&lt;/em&gt;, SUGAR, COCO...</td>\n",
       "      <td>541.1986</td>\n",
       "      <td>[{'nutrientId': 1003, 'nutrientName': 'Protein...</td>\n",
       "    </tr>\n",
       "    <tr>\n",
       "      <th>20</th>\n",
       "      <td>1297954</td>\n",
       "      <td>MILK</td>\n",
       "      <td>milk</td>\n",
       "      <td>Branded</td>\n",
       "      <td>041900079420</td>\n",
       "      <td>2021-02-26</td>\n",
       "      <td>Dean Foods Company</td>\n",
       "      <td>MILK, CONTAINS LESS THAN 1% OF: LACTASE ENZYME...</td>\n",
       "      <td>&lt;b&gt;Ingredients&lt;/b&gt;: &lt;em&gt;MILK&lt;/em&gt;, CONTAINS LE...</td>\n",
       "      <td>541.1986</td>\n",
       "      <td>[{'nutrientId': 1003, 'nutrientName': 'Protein...</td>\n",
       "    </tr>\n",
       "    <tr>\n",
       "      <th>21</th>\n",
       "      <td>1278879</td>\n",
       "      <td>MILK</td>\n",
       "      <td>milk</td>\n",
       "      <td>Branded</td>\n",
       "      <td>607880029628</td>\n",
       "      <td>2021-02-26</td>\n",
       "      <td>Bruno's Supermarkets, Inc.</td>\n",
       "      <td>MILK, VITAMIN D3.</td>\n",
       "      <td>&lt;b&gt;Ingredients&lt;/b&gt;: &lt;em&gt;MILK&lt;/em&gt;, VITAMIN D3.</td>\n",
       "      <td>541.1986</td>\n",
       "      <td>[{'nutrientId': 1003, 'nutrientName': 'Protein...</td>\n",
       "    </tr>\n",
       "    <tr>\n",
       "      <th>22</th>\n",
       "      <td>1259705</td>\n",
       "      <td>MILK</td>\n",
       "      <td>milk</td>\n",
       "      <td>Branded</td>\n",
       "      <td>021130070107</td>\n",
       "      <td>2021-02-26</td>\n",
       "      <td>Safeway, Inc.</td>\n",
       "      <td>MILK, VITAMIN D3.</td>\n",
       "      <td>&lt;b&gt;Ingredients&lt;/b&gt;: &lt;em&gt;MILK&lt;/em&gt;, VITAMIN D3.</td>\n",
       "      <td>541.1986</td>\n",
       "      <td>[{'nutrientId': 1003, 'nutrientName': 'Protein...</td>\n",
       "    </tr>\n",
       "    <tr>\n",
       "      <th>23</th>\n",
       "      <td>1259714</td>\n",
       "      <td>MILK</td>\n",
       "      <td>milk</td>\n",
       "      <td>Branded</td>\n",
       "      <td>021130083053</td>\n",
       "      <td>2021-02-26</td>\n",
       "      <td>Safeway, Inc.</td>\n",
       "      <td>MILK, VITAMIN D3.</td>\n",
       "      <td>&lt;b&gt;Ingredients&lt;/b&gt;: &lt;em&gt;MILK&lt;/em&gt;, VITAMIN D3.</td>\n",
       "      <td>541.1986</td>\n",
       "      <td>[{'nutrientId': 1003, 'nutrientName': 'Protein...</td>\n",
       "    </tr>\n",
       "    <tr>\n",
       "      <th>24</th>\n",
       "      <td>1430333</td>\n",
       "      <td>MILK</td>\n",
       "      <td>milk</td>\n",
       "      <td>Branded</td>\n",
       "      <td>044100146992</td>\n",
       "      <td>2021-02-26</td>\n",
       "      <td>HP Hood LLC</td>\n",
       "      <td>INGREDIENTS: MILK AND VITAMIN D3.</td>\n",
       "      <td>&lt;b&gt;Ingredients&lt;/b&gt;: INGREDIENTS: &lt;em&gt;MILK&lt;/em&gt;...</td>\n",
       "      <td>541.1986</td>\n",
       "      <td>[{'nutrientId': 1003, 'nutrientName': 'Protein...</td>\n",
       "    </tr>\n",
       "    <tr>\n",
       "      <th>25</th>\n",
       "      <td>1451742</td>\n",
       "      <td>MILK</td>\n",
       "      <td>milk</td>\n",
       "      <td>Branded</td>\n",
       "      <td>070253000430</td>\n",
       "      <td>2021-02-26</td>\n",
       "      <td>Nash Finch Company</td>\n",
       "      <td>NONFAT DRY MILK, VITAMIN A PALMITATE, VITAMIN D3.</td>\n",
       "      <td>&lt;b&gt;Ingredients&lt;/b&gt;: NONFAT DRY &lt;em&gt;MILK&lt;/em&gt;, ...</td>\n",
       "      <td>541.1986</td>\n",
       "      <td>[{'nutrientId': 1003, 'nutrientName': 'Protein...</td>\n",
       "    </tr>\n",
       "    <tr>\n",
       "      <th>26</th>\n",
       "      <td>496613</td>\n",
       "      <td>MILK</td>\n",
       "      <td>milk</td>\n",
       "      <td>Branded</td>\n",
       "      <td>072050401519</td>\n",
       "      <td>2019-04-01</td>\n",
       "      <td>JUNIPER VALLEY</td>\n",
       "      <td>REDUCED FAT MILK, VITAMIN A PALMITATE, VITAMIN...</td>\n",
       "      <td>&lt;b&gt;Ingredients&lt;/b&gt;: REDUCED FAT &lt;em&gt;MILK&lt;/em&gt;,...</td>\n",
       "      <td>541.1986</td>\n",
       "      <td>[{'nutrientId': 1079, 'nutrientName': 'Fiber, ...</td>\n",
       "    </tr>\n",
       "    <tr>\n",
       "      <th>27</th>\n",
       "      <td>1234190</td>\n",
       "      <td>MILK</td>\n",
       "      <td>milk</td>\n",
       "      <td>Branded</td>\n",
       "      <td>815473013156</td>\n",
       "      <td>2021-02-26</td>\n",
       "      <td>Borden Dairy Company</td>\n",
       "      <td>LOW FAT MILK, FRUCTOSE, SUGAR, COCOA (PROCESSE...</td>\n",
       "      <td>&lt;b&gt;Ingredients&lt;/b&gt;: LOW FAT &lt;em&gt;MILK&lt;/em&gt;, FRU...</td>\n",
       "      <td>541.1986</td>\n",
       "      <td>[{'nutrientId': 1003, 'nutrientName': 'Protein...</td>\n",
       "    </tr>\n",
       "    <tr>\n",
       "      <th>28</th>\n",
       "      <td>1259701</td>\n",
       "      <td>MILK</td>\n",
       "      <td>milk</td>\n",
       "      <td>Branded</td>\n",
       "      <td>020735096635</td>\n",
       "      <td>2021-02-26</td>\n",
       "      <td>Turkey Hill Dairy Inc.</td>\n",
       "      <td>MILK, VITAMIN D3.</td>\n",
       "      <td>&lt;b&gt;Ingredients&lt;/b&gt;: &lt;em&gt;MILK&lt;/em&gt;, VITAMIN D3.</td>\n",
       "      <td>541.1986</td>\n",
       "      <td>[{'nutrientId': 1003, 'nutrientName': 'Protein...</td>\n",
       "    </tr>\n",
       "    <tr>\n",
       "      <th>29</th>\n",
       "      <td>1318806</td>\n",
       "      <td>MILK</td>\n",
       "      <td>milk</td>\n",
       "      <td>Branded</td>\n",
       "      <td>011110414809</td>\n",
       "      <td>2021-02-26</td>\n",
       "      <td>The Kroger Co.</td>\n",
       "      <td>MILK, SKIM MILK, VITAMIN A PALMITATE, VITAMIN D3.</td>\n",
       "      <td>&lt;b&gt;Ingredients&lt;/b&gt;: &lt;em&gt;MILK&lt;/em&gt;, SKIM &lt;em&gt;MI...</td>\n",
       "      <td>541.1986</td>\n",
       "      <td>[{'nutrientId': 1003, 'nutrientName': 'Protein...</td>\n",
       "    </tr>\n",
       "    <tr>\n",
       "      <th>30</th>\n",
       "      <td>1319532</td>\n",
       "      <td>MILK</td>\n",
       "      <td>milk</td>\n",
       "      <td>Branded</td>\n",
       "      <td>049705627204</td>\n",
       "      <td>2021-02-26</td>\n",
       "      <td>Market Basket Inc.</td>\n",
       "      <td>MILK, ASCORBIC ACID (VITAMIN C), AND VITAMIN D3.</td>\n",
       "      <td>&lt;b&gt;Ingredients&lt;/b&gt;: &lt;em&gt;MILK&lt;/em&gt;, ASCORBIC AC...</td>\n",
       "      <td>541.1986</td>\n",
       "      <td>[{'nutrientId': 1003, 'nutrientName': 'Protein...</td>\n",
       "    </tr>\n",
       "    <tr>\n",
       "      <th>31</th>\n",
       "      <td>1283399</td>\n",
       "      <td>MILK</td>\n",
       "      <td>milk</td>\n",
       "      <td>Branded</td>\n",
       "      <td>041383090738</td>\n",
       "      <td>2021-02-26</td>\n",
       "      <td>Akpharma Inc.</td>\n",
       "      <td>MILK, LACTASE ENZYME* AND VITAMIN D3.</td>\n",
       "      <td>&lt;b&gt;Ingredients&lt;/b&gt;: &lt;em&gt;MILK&lt;/em&gt;, LACTASE ENZ...</td>\n",
       "      <td>541.1986</td>\n",
       "      <td>[{'nutrientId': 1003, 'nutrientName': 'Protein...</td>\n",
       "    </tr>\n",
       "    <tr>\n",
       "      <th>32</th>\n",
       "      <td>1283420</td>\n",
       "      <td>MILK</td>\n",
       "      <td>milk</td>\n",
       "      <td>Branded</td>\n",
       "      <td>044100101892</td>\n",
       "      <td>2021-02-26</td>\n",
       "      <td>HP Hood LLC</td>\n",
       "      <td>MILK AND VITAMIN D3.</td>\n",
       "      <td>&lt;b&gt;Ingredients&lt;/b&gt;: &lt;em&gt;MILK&lt;/em&gt; AND VITAMIN D3.</td>\n",
       "      <td>541.1986</td>\n",
       "      <td>[{'nutrientId': 1003, 'nutrientName': 'Protein...</td>\n",
       "    </tr>\n",
       "    <tr>\n",
       "      <th>33</th>\n",
       "      <td>1320216</td>\n",
       "      <td>MILK</td>\n",
       "      <td>milk</td>\n",
       "      <td>Branded</td>\n",
       "      <td>079893150000</td>\n",
       "      <td>2021-02-26</td>\n",
       "      <td>Glencourt Inc.</td>\n",
       "      <td>MILK, VITAMIN D3.</td>\n",
       "      <td>&lt;b&gt;Ingredients&lt;/b&gt;: &lt;em&gt;MILK&lt;/em&gt;, VITAMIN D3.</td>\n",
       "      <td>541.1986</td>\n",
       "      <td>[{'nutrientId': 1003, 'nutrientName': 'Protein...</td>\n",
       "    </tr>\n",
       "    <tr>\n",
       "      <th>34</th>\n",
       "      <td>1320351</td>\n",
       "      <td>MILK</td>\n",
       "      <td>milk</td>\n",
       "      <td>Branded</td>\n",
       "      <td>021130071005</td>\n",
       "      <td>2021-02-26</td>\n",
       "      <td>Safeway, Inc.</td>\n",
       "      <td>MILK, VITAMIN D3.</td>\n",
       "      <td>&lt;b&gt;Ingredients&lt;/b&gt;: &lt;em&gt;MILK&lt;/em&gt;, VITAMIN D3.</td>\n",
       "      <td>541.1986</td>\n",
       "      <td>[{'nutrientId': 1003, 'nutrientName': 'Protein...</td>\n",
       "    </tr>\n",
       "    <tr>\n",
       "      <th>35</th>\n",
       "      <td>1285205</td>\n",
       "      <td>MILK</td>\n",
       "      <td>milk</td>\n",
       "      <td>Branded</td>\n",
       "      <td>02114029705</td>\n",
       "      <td>2021-02-26</td>\n",
       "      <td>Winn-Dixie Stores, Inc.</td>\n",
       "      <td>MILK, VITAMIN D3.</td>\n",
       "      <td>&lt;b&gt;Ingredients&lt;/b&gt;: &lt;em&gt;MILK&lt;/em&gt;, VITAMIN D3.</td>\n",
       "      <td>541.1986</td>\n",
       "      <td>[{'nutrientId': 1003, 'nutrientName': 'Protein...</td>\n",
       "    </tr>\n",
       "    <tr>\n",
       "      <th>36</th>\n",
       "      <td>1287571</td>\n",
       "      <td>MILK</td>\n",
       "      <td>milk</td>\n",
       "      <td>Branded</td>\n",
       "      <td>071203001910</td>\n",
       "      <td>2021-02-26</td>\n",
       "      <td>Umpqua Dairy Products Co.</td>\n",
       "      <td>MILK, CORN SYRUP SOLIDS, WHITE GRAPE JUICE CON...</td>\n",
       "      <td>&lt;b&gt;Ingredients&lt;/b&gt;: &lt;em&gt;MILK&lt;/em&gt;, CORN SYRUP ...</td>\n",
       "      <td>541.1986</td>\n",
       "      <td>[{'nutrientId': 1003, 'nutrientName': 'Protein...</td>\n",
       "    </tr>\n",
       "    <tr>\n",
       "      <th>37</th>\n",
       "      <td>1294305</td>\n",
       "      <td>MILK</td>\n",
       "      <td>milk</td>\n",
       "      <td>Branded</td>\n",
       "      <td>051933896819</td>\n",
       "      <td>2021-02-26</td>\n",
       "      <td>The Moran Group Incorporated</td>\n",
       "      <td>REDUCED FAT MILK, SUGAR, NONFAT MILK, NATURAL ...</td>\n",
       "      <td>&lt;b&gt;Ingredients&lt;/b&gt;: REDUCED FAT &lt;em&gt;MILK&lt;/em&gt;,...</td>\n",
       "      <td>541.1986</td>\n",
       "      <td>[{'nutrientId': 1003, 'nutrientName': 'Protein...</td>\n",
       "    </tr>\n",
       "    <tr>\n",
       "      <th>38</th>\n",
       "      <td>1354487</td>\n",
       "      <td>MILK</td>\n",
       "      <td>milk</td>\n",
       "      <td>Branded</td>\n",
       "      <td>044041000513</td>\n",
       "      <td>2021-02-26</td>\n",
       "      <td>Country Dairy Inc.</td>\n",
       "      <td>HOMOGENIZED MILK, SUGAR, COCOA (PROCESSED WITH...</td>\n",
       "      <td>&lt;b&gt;Ingredients&lt;/b&gt;: HOMOGENIZED &lt;em&gt;MILK&lt;/em&gt;,...</td>\n",
       "      <td>541.1986</td>\n",
       "      <td>[{'nutrientId': 1003, 'nutrientName': 'Protein...</td>\n",
       "    </tr>\n",
       "    <tr>\n",
       "      <th>39</th>\n",
       "      <td>496604</td>\n",
       "      <td>MILK</td>\n",
       "      <td>milk</td>\n",
       "      <td>Branded</td>\n",
       "      <td>072050301314</td>\n",
       "      <td>2019-04-01</td>\n",
       "      <td>JUNIPER VALLY</td>\n",
       "      <td>REDUCED FAT MILK, VITAMIN A PALMITATE, VITAMIN...</td>\n",
       "      <td>&lt;b&gt;Ingredients&lt;/b&gt;: REDUCED FAT &lt;em&gt;MILK&lt;/em&gt;,...</td>\n",
       "      <td>541.1986</td>\n",
       "      <td>[{'nutrientId': 1079, 'nutrientName': 'Fiber, ...</td>\n",
       "    </tr>\n",
       "    <tr>\n",
       "      <th>40</th>\n",
       "      <td>496609</td>\n",
       "      <td>MILK</td>\n",
       "      <td>milk</td>\n",
       "      <td>Branded</td>\n",
       "      <td>072050907851</td>\n",
       "      <td>2019-04-01</td>\n",
       "      <td>ELMHURST DAIRY</td>\n",
       "      <td>MILK, VITAMIN D3</td>\n",
       "      <td>&lt;b&gt;Ingredients&lt;/b&gt;: &lt;em&gt;MILK&lt;/em&gt;, VITAMIN D3</td>\n",
       "      <td>541.1986</td>\n",
       "      <td>[{'nutrientId': 1079, 'nutrientName': 'Fiber, ...</td>\n",
       "    </tr>\n",
       "    <tr>\n",
       "      <th>41</th>\n",
       "      <td>597487</td>\n",
       "      <td>MILK</td>\n",
       "      <td>milk</td>\n",
       "      <td>Branded</td>\n",
       "      <td>041497099993</td>\n",
       "      <td>2019-04-01</td>\n",
       "      <td>WEIS QUALITY</td>\n",
       "      <td>REDUCED FAT MILK, VITAMIN A PALMITATE, VITAMIN...</td>\n",
       "      <td>&lt;b&gt;Ingredients&lt;/b&gt;: REDUCED FAT &lt;em&gt;MILK&lt;/em&gt;,...</td>\n",
       "      <td>541.1986</td>\n",
       "      <td>[{'nutrientId': 1079, 'nutrientName': 'Fiber, ...</td>\n",
       "    </tr>\n",
       "    <tr>\n",
       "      <th>42</th>\n",
       "      <td>559651</td>\n",
       "      <td>MILK</td>\n",
       "      <td>milk</td>\n",
       "      <td>Branded</td>\n",
       "      <td>070543113123</td>\n",
       "      <td>2019-04-01</td>\n",
       "      <td>KLEINPETER</td>\n",
       "      <td>MILK, HIGH FRUCTOSE CORN SYRUP, COCOA (PROCESS...</td>\n",
       "      <td>&lt;b&gt;Ingredients&lt;/b&gt;: &lt;em&gt;MILK&lt;/em&gt;, HIGH FRUCTO...</td>\n",
       "      <td>541.1986</td>\n",
       "      <td>[{'nutrientId': 1079, 'nutrientName': 'Fiber, ...</td>\n",
       "    </tr>\n",
       "    <tr>\n",
       "      <th>43</th>\n",
       "      <td>590950</td>\n",
       "      <td>MILK</td>\n",
       "      <td>milk</td>\n",
       "      <td>Branded</td>\n",
       "      <td>616029014036</td>\n",
       "      <td>2019-04-01</td>\n",
       "      <td>OBERWIES DAIRY</td>\n",
       "      <td>MILK, CREAM.</td>\n",
       "      <td>&lt;b&gt;Ingredients&lt;/b&gt;: &lt;em&gt;MILK&lt;/em&gt;, CREAM.</td>\n",
       "      <td>541.1986</td>\n",
       "      <td>[{'nutrientId': 1079, 'nutrientName': 'Fiber, ...</td>\n",
       "    </tr>\n",
       "    <tr>\n",
       "      <th>44</th>\n",
       "      <td>1259311</td>\n",
       "      <td>MILK</td>\n",
       "      <td>milk</td>\n",
       "      <td>Branded</td>\n",
       "      <td>011110503206</td>\n",
       "      <td>2021-02-26</td>\n",
       "      <td>The Kroger Co.</td>\n",
       "      <td>SKIM MILK, HIGH FRUCTOSE CORN SYRUP, SUGAR, NO...</td>\n",
       "      <td>&lt;b&gt;Ingredients&lt;/b&gt;: SKIM &lt;em&gt;MILK&lt;/em&gt;, HIGH F...</td>\n",
       "      <td>541.1986</td>\n",
       "      <td>[{'nutrientId': 1003, 'nutrientName': 'Protein...</td>\n",
       "    </tr>\n",
       "    <tr>\n",
       "      <th>45</th>\n",
       "      <td>1259924</td>\n",
       "      <td>MILK</td>\n",
       "      <td>milk</td>\n",
       "      <td>Branded</td>\n",
       "      <td>035733000607</td>\n",
       "      <td>2021-02-26</td>\n",
       "      <td>Turner Dairy Farms Inc.</td>\n",
       "      <td>MILK, SUGAR, COCOA PROCESSED WITH ALKALI, SALT...</td>\n",
       "      <td>&lt;b&gt;Ingredients&lt;/b&gt;: &lt;em&gt;MILK&lt;/em&gt;, SUGAR, COCO...</td>\n",
       "      <td>541.1986</td>\n",
       "      <td>[{'nutrientId': 1003, 'nutrientName': 'Protein...</td>\n",
       "    </tr>\n",
       "    <tr>\n",
       "      <th>46</th>\n",
       "      <td>1259949</td>\n",
       "      <td>MILK</td>\n",
       "      <td>milk</td>\n",
       "      <td>Branded</td>\n",
       "      <td>035826089700</td>\n",
       "      <td>2021-02-26</td>\n",
       "      <td>Food Town Stores Inc.</td>\n",
       "      <td>LOWFAT MILK, HIGH FRUCTOSE CORN SYRUP, COCOA (...</td>\n",
       "      <td>&lt;b&gt;Ingredients&lt;/b&gt;: LOWFAT &lt;em&gt;MILK&lt;/em&gt;, HIGH...</td>\n",
       "      <td>541.1986</td>\n",
       "      <td>[{'nutrientId': 1003, 'nutrientName': 'Protein...</td>\n",
       "    </tr>\n",
       "    <tr>\n",
       "      <th>47</th>\n",
       "      <td>1287570</td>\n",
       "      <td>MILK</td>\n",
       "      <td>milk</td>\n",
       "      <td>Branded</td>\n",
       "      <td>071580001749</td>\n",
       "      <td>2021-02-26</td>\n",
       "      <td>Quality Chekd Dairies, Inc.</td>\n",
       "      <td>MILK, CORN SYRUP SOLIDS, ARTIFICIAL FLAVORS, C...</td>\n",
       "      <td>&lt;b&gt;Ingredients&lt;/b&gt;: &lt;em&gt;MILK&lt;/em&gt;, CORN SYRUP ...</td>\n",
       "      <td>541.1986</td>\n",
       "      <td>[{'nutrientId': 1003, 'nutrientName': 'Protein...</td>\n",
       "    </tr>\n",
       "    <tr>\n",
       "      <th>48</th>\n",
       "      <td>1329812</td>\n",
       "      <td>MILK</td>\n",
       "      <td>milk</td>\n",
       "      <td>Branded</td>\n",
       "      <td>090208300217</td>\n",
       "      <td>2021-02-26</td>\n",
       "      <td>Kreider Farms</td>\n",
       "      <td>MILK, SUGAR, COCOA (PROCESSED WITH ALKALI), SA...</td>\n",
       "      <td>&lt;b&gt;Ingredients&lt;/b&gt;: &lt;em&gt;MILK&lt;/em&gt;, SUGAR, COCO...</td>\n",
       "      <td>541.1986</td>\n",
       "      <td>[{'nutrientId': 1003, 'nutrientName': 'Protein...</td>\n",
       "    </tr>\n",
       "    <tr>\n",
       "      <th>49</th>\n",
       "      <td>1310558</td>\n",
       "      <td>MILK</td>\n",
       "      <td>milk</td>\n",
       "      <td>Branded</td>\n",
       "      <td>028300000308</td>\n",
       "      <td>2021-02-26</td>\n",
       "      <td>Shamrock Foods Company</td>\n",
       "      <td>MILK, NONFAT MILK, VITAMIN D.</td>\n",
       "      <td>&lt;b&gt;Ingredients&lt;/b&gt;: &lt;em&gt;MILK&lt;/em&gt;, NONFAT &lt;em&gt;...</td>\n",
       "      <td>541.1986</td>\n",
       "      <td>[{'nutrientId': 1003, 'nutrientName': 'Protein...</td>\n",
       "    </tr>\n",
       "  </tbody>\n",
       "</table>\n",
       "</div>"
      ],
      "text/plain": [
       "      fdcId description lowercaseDescription dataType       gtinUpc  \\\n",
       "0   1259312        MILK                 milk  Branded  011110503244   \n",
       "1   1239409        MILK                 milk  Branded  742365264955   \n",
       "2    553224        MILK                 milk  Branded  021130073719   \n",
       "3    602709        MILK                 milk  Branded  883572103009   \n",
       "4    602770        MILK                 milk  Branded  883572103511   \n",
       "5   1294050        MILK                 milk  Branded  815473010414   \n",
       "6   1325008        MILK                 milk  Branded  021130070022   \n",
       "7   1305674        MILK                 milk  Branded  044442001171   \n",
       "8   1369254        MILK                 milk  Branded  021130409433   \n",
       "9   1350248        MILK                 milk  Branded  090208281110   \n",
       "10   496606        MILK                 milk  Branded  072050907752   \n",
       "11   496607        MILK                 milk  Branded  072050907554   \n",
       "12  1329024        MILK                 milk  Branded  072060001280   \n",
       "13   726148        MILK                 milk  Branded  085239043066   \n",
       "14   726156        MILK                 milk  Branded  085239043059   \n",
       "15  1283413        MILK                 milk  Branded  044100169236   \n",
       "16  1286514        MILK                 milk  Branded  815473013200   \n",
       "17  1313087        MILK                 milk  Branded  071156501222   \n",
       "18  1293550        MILK                 milk  Branded  811964010437   \n",
       "19  1296984        MILK                 milk  Branded  763528306039   \n",
       "20  1297954        MILK                 milk  Branded  041900079420   \n",
       "21  1278879        MILK                 milk  Branded  607880029628   \n",
       "22  1259705        MILK                 milk  Branded  021130070107   \n",
       "23  1259714        MILK                 milk  Branded  021130083053   \n",
       "24  1430333        MILK                 milk  Branded  044100146992   \n",
       "25  1451742        MILK                 milk  Branded  070253000430   \n",
       "26   496613        MILK                 milk  Branded  072050401519   \n",
       "27  1234190        MILK                 milk  Branded  815473013156   \n",
       "28  1259701        MILK                 milk  Branded  020735096635   \n",
       "29  1318806        MILK                 milk  Branded  011110414809   \n",
       "30  1319532        MILK                 milk  Branded  049705627204   \n",
       "31  1283399        MILK                 milk  Branded  041383090738   \n",
       "32  1283420        MILK                 milk  Branded  044100101892   \n",
       "33  1320216        MILK                 milk  Branded  079893150000   \n",
       "34  1320351        MILK                 milk  Branded  021130071005   \n",
       "35  1285205        MILK                 milk  Branded   02114029705   \n",
       "36  1287571        MILK                 milk  Branded  071203001910   \n",
       "37  1294305        MILK                 milk  Branded  051933896819   \n",
       "38  1354487        MILK                 milk  Branded  044041000513   \n",
       "39   496604        MILK                 milk  Branded  072050301314   \n",
       "40   496609        MILK                 milk  Branded  072050907851   \n",
       "41   597487        MILK                 milk  Branded  041497099993   \n",
       "42   559651        MILK                 milk  Branded  070543113123   \n",
       "43   590950        MILK                 milk  Branded  616029014036   \n",
       "44  1259311        MILK                 milk  Branded  011110503206   \n",
       "45  1259924        MILK                 milk  Branded  035733000607   \n",
       "46  1259949        MILK                 milk  Branded  035826089700   \n",
       "47  1287570        MILK                 milk  Branded  071580001749   \n",
       "48  1329812        MILK                 milk  Branded  090208300217   \n",
       "49  1310558        MILK                 milk  Branded  028300000308   \n",
       "\n",
       "   publishedDate                    brandOwner  \\\n",
       "0     2021-02-26                The Kroger Co.   \n",
       "1     2021-02-26         WWF Operating Company   \n",
       "2     2019-04-01                         JEWEL   \n",
       "3     2019-04-01                     DRIFTWOOD   \n",
       "4     2019-04-01                FAIRDALE FARMS   \n",
       "5     2021-02-26          Borden Dairy Company   \n",
       "6     2021-02-26                 Safeway, Inc.   \n",
       "7     2021-02-26              Arps Dairy, Inc.   \n",
       "8     2021-02-26                 Safeway, Inc.   \n",
       "9     2021-02-26                 Kreider Farms   \n",
       "10    2019-04-01                ELMHURST DAIRY   \n",
       "11    2019-04-01                ELMHURST DAIRY   \n",
       "12    2021-02-26             Hiland Dairy Inc.   \n",
       "13    2019-12-06                 GOOD & GATHER   \n",
       "14    2019-12-06                 GOOD & GATHER   \n",
       "15    2021-02-26                   HP Hood LLC   \n",
       "16    2021-02-26          Borden Dairy Company   \n",
       "17    2021-02-26      Rutter Bros. Dairy, Inc.   \n",
       "18    2021-02-26      Bogopa Enterprises, Inc.   \n",
       "19    2021-02-26           Promised Land Dairy   \n",
       "20    2021-02-26            Dean Foods Company   \n",
       "21    2021-02-26    Bruno's Supermarkets, Inc.   \n",
       "22    2021-02-26                 Safeway, Inc.   \n",
       "23    2021-02-26                 Safeway, Inc.   \n",
       "24    2021-02-26                   HP Hood LLC   \n",
       "25    2021-02-26            Nash Finch Company   \n",
       "26    2019-04-01                JUNIPER VALLEY   \n",
       "27    2021-02-26          Borden Dairy Company   \n",
       "28    2021-02-26        Turkey Hill Dairy Inc.   \n",
       "29    2021-02-26                The Kroger Co.   \n",
       "30    2021-02-26            Market Basket Inc.   \n",
       "31    2021-02-26                 Akpharma Inc.   \n",
       "32    2021-02-26                   HP Hood LLC   \n",
       "33    2021-02-26                Glencourt Inc.   \n",
       "34    2021-02-26                 Safeway, Inc.   \n",
       "35    2021-02-26       Winn-Dixie Stores, Inc.   \n",
       "36    2021-02-26     Umpqua Dairy Products Co.   \n",
       "37    2021-02-26  The Moran Group Incorporated   \n",
       "38    2021-02-26            Country Dairy Inc.   \n",
       "39    2019-04-01                 JUNIPER VALLY   \n",
       "40    2019-04-01                ELMHURST DAIRY   \n",
       "41    2019-04-01                  WEIS QUALITY   \n",
       "42    2019-04-01                    KLEINPETER   \n",
       "43    2019-04-01                OBERWIES DAIRY   \n",
       "44    2021-02-26                The Kroger Co.   \n",
       "45    2021-02-26       Turner Dairy Farms Inc.   \n",
       "46    2021-02-26         Food Town Stores Inc.   \n",
       "47    2021-02-26   Quality Chekd Dairies, Inc.   \n",
       "48    2021-02-26                 Kreider Farms   \n",
       "49    2021-02-26        Shamrock Foods Company   \n",
       "\n",
       "                                          ingredients  \\\n",
       "0    MILK, SKIM MILK VITAMIN A PALMITATE, VITAMIN D3.   \n",
       "1                  ORGANIC GRADE A MILK, VITAMIN D3.    \n",
       "2                                   MILK, VITAMIN D3.   \n",
       "3                                MILK AND VITAMIN D3.   \n",
       "4                                MILK AND VITAMIN D3.   \n",
       "5   MILK, HIGH FRUCTOSE CORN SYRUP, SUGAR, COCOA (...   \n",
       "6                                   MILK, VITAMIN D3.   \n",
       "7   MILK, SUGAR, COCOA (PROCESSED WALKALI), CORNST...   \n",
       "8                           GRADE A MILK, VITAMIN D3.   \n",
       "9   MILK, SUGAR, NATURAL AND ARTIFICIAL FLAVORS, C...   \n",
       "10       LOWFAT MILK. VITAMIN A PALMITATE, VITAMIN D3   \n",
       "11     FAT FREE MILK, VITAMIN A PALMITATE, VITAMIN D3   \n",
       "12  GRADE A MILK, SUGAR, NONFAT DRY MILK SOLIDS, C...   \n",
       "13  GRADE A ORGANIC MILK, DHA ALGAL OIL**, VITAMIN...   \n",
       "14                GRADE A ORGANIC MILK, VITAMIN D3**.   \n",
       "15                               MILK AND VITAMIN D3.   \n",
       "16                                  MILK, VITAMIN D3.   \n",
       "17  LOWFAT MILK, LIQUID SUGAR (SUGAR, WATER), COCO...   \n",
       "18                                   MILK, VITAMIN D3   \n",
       "19  MILK, SUGAR, COCOA (PROCESSED WITH ALKALI), CO...   \n",
       "20  MILK, CONTAINS LESS THAN 1% OF: LACTASE ENZYME...   \n",
       "21                                  MILK, VITAMIN D3.   \n",
       "22                                  MILK, VITAMIN D3.   \n",
       "23                                  MILK, VITAMIN D3.   \n",
       "24                  INGREDIENTS: MILK AND VITAMIN D3.   \n",
       "25  NONFAT DRY MILK, VITAMIN A PALMITATE, VITAMIN D3.   \n",
       "26  REDUCED FAT MILK, VITAMIN A PALMITATE, VITAMIN...   \n",
       "27  LOW FAT MILK, FRUCTOSE, SUGAR, COCOA (PROCESSE...   \n",
       "28                                  MILK, VITAMIN D3.   \n",
       "29  MILK, SKIM MILK, VITAMIN A PALMITATE, VITAMIN D3.   \n",
       "30   MILK, ASCORBIC ACID (VITAMIN C), AND VITAMIN D3.   \n",
       "31              MILK, LACTASE ENZYME* AND VITAMIN D3.   \n",
       "32                               MILK AND VITAMIN D3.   \n",
       "33                                  MILK, VITAMIN D3.   \n",
       "34                                  MILK, VITAMIN D3.   \n",
       "35                                  MILK, VITAMIN D3.   \n",
       "36  MILK, CORN SYRUP SOLIDS, WHITE GRAPE JUICE CON...   \n",
       "37  REDUCED FAT MILK, SUGAR, NONFAT MILK, NATURAL ...   \n",
       "38  HOMOGENIZED MILK, SUGAR, COCOA (PROCESSED WITH...   \n",
       "39  REDUCED FAT MILK, VITAMIN A PALMITATE, VITAMIN...   \n",
       "40                                   MILK, VITAMIN D3   \n",
       "41  REDUCED FAT MILK, VITAMIN A PALMITATE, VITAMIN...   \n",
       "42  MILK, HIGH FRUCTOSE CORN SYRUP, COCOA (PROCESS...   \n",
       "43                                       MILK, CREAM.   \n",
       "44  SKIM MILK, HIGH FRUCTOSE CORN SYRUP, SUGAR, NO...   \n",
       "45  MILK, SUGAR, COCOA PROCESSED WITH ALKALI, SALT...   \n",
       "46  LOWFAT MILK, HIGH FRUCTOSE CORN SYRUP, COCOA (...   \n",
       "47  MILK, CORN SYRUP SOLIDS, ARTIFICIAL FLAVORS, C...   \n",
       "48  MILK, SUGAR, COCOA (PROCESSED WITH ALKALI), SA...   \n",
       "49                      MILK, NONFAT MILK, VITAMIN D.   \n",
       "\n",
       "                                   allHighlightFields     score  \\\n",
       "0   <b>Ingredients</b>: <em>MILK</em>, SKIM <em>MI...  541.1986   \n",
       "1   <b>Ingredients</b>: ORGANIC GRADE A <em>MILK</...  541.1986   \n",
       "2      <b>Ingredients</b>: <em>MILK</em>, VITAMIN D3.  541.1986   \n",
       "3   <b>Ingredients</b>: <em>MILK</em> AND VITAMIN D3.  541.1986   \n",
       "4   <b>Ingredients</b>: <em>MILK</em> AND VITAMIN D3.  541.1986   \n",
       "5   <b>Ingredients</b>: <em>MILK</em>, HIGH FRUCTO...  541.1986   \n",
       "6      <b>Ingredients</b>: <em>MILK</em>, VITAMIN D3.  541.1986   \n",
       "7   <b>Ingredients</b>: <em>MILK</em>, SUGAR, COCO...  541.1986   \n",
       "8   <b>Ingredients</b>: GRADE A <em>MILK</em>, VIT...  541.1986   \n",
       "9   <b>Ingredients</b>: <em>MILK</em>, SUGAR, NATU...  541.1986   \n",
       "10  <b>Ingredients</b>: LOWFAT <em>MILK</em>. VITA...  541.1986   \n",
       "11  <b>Ingredients</b>: FAT FREE <em>MILK</em>, VI...  541.1986   \n",
       "12  <b>Ingredients</b>: GRADE A <em>MILK</em>, SUG...  541.1986   \n",
       "13  <b>Ingredients</b>: GRADE A ORGANIC <em>MILK</...  541.1986   \n",
       "14  <b>Ingredients</b>: GRADE A ORGANIC <em>MILK</...  541.1986   \n",
       "15  <b>Ingredients</b>: <em>MILK</em> AND VITAMIN D3.  541.1986   \n",
       "16     <b>Ingredients</b>: <em>MILK</em>, VITAMIN D3.  541.1986   \n",
       "17  <b>Ingredients</b>: LOWFAT <em>MILK</em>, LIQU...  541.1986   \n",
       "18      <b>Ingredients</b>: <em>MILK</em>, VITAMIN D3  541.1986   \n",
       "19  <b>Ingredients</b>: <em>MILK</em>, SUGAR, COCO...  541.1986   \n",
       "20  <b>Ingredients</b>: <em>MILK</em>, CONTAINS LE...  541.1986   \n",
       "21     <b>Ingredients</b>: <em>MILK</em>, VITAMIN D3.  541.1986   \n",
       "22     <b>Ingredients</b>: <em>MILK</em>, VITAMIN D3.  541.1986   \n",
       "23     <b>Ingredients</b>: <em>MILK</em>, VITAMIN D3.  541.1986   \n",
       "24  <b>Ingredients</b>: INGREDIENTS: <em>MILK</em>...  541.1986   \n",
       "25  <b>Ingredients</b>: NONFAT DRY <em>MILK</em>, ...  541.1986   \n",
       "26  <b>Ingredients</b>: REDUCED FAT <em>MILK</em>,...  541.1986   \n",
       "27  <b>Ingredients</b>: LOW FAT <em>MILK</em>, FRU...  541.1986   \n",
       "28     <b>Ingredients</b>: <em>MILK</em>, VITAMIN D3.  541.1986   \n",
       "29  <b>Ingredients</b>: <em>MILK</em>, SKIM <em>MI...  541.1986   \n",
       "30  <b>Ingredients</b>: <em>MILK</em>, ASCORBIC AC...  541.1986   \n",
       "31  <b>Ingredients</b>: <em>MILK</em>, LACTASE ENZ...  541.1986   \n",
       "32  <b>Ingredients</b>: <em>MILK</em> AND VITAMIN D3.  541.1986   \n",
       "33     <b>Ingredients</b>: <em>MILK</em>, VITAMIN D3.  541.1986   \n",
       "34     <b>Ingredients</b>: <em>MILK</em>, VITAMIN D3.  541.1986   \n",
       "35     <b>Ingredients</b>: <em>MILK</em>, VITAMIN D3.  541.1986   \n",
       "36  <b>Ingredients</b>: <em>MILK</em>, CORN SYRUP ...  541.1986   \n",
       "37  <b>Ingredients</b>: REDUCED FAT <em>MILK</em>,...  541.1986   \n",
       "38  <b>Ingredients</b>: HOMOGENIZED <em>MILK</em>,...  541.1986   \n",
       "39  <b>Ingredients</b>: REDUCED FAT <em>MILK</em>,...  541.1986   \n",
       "40      <b>Ingredients</b>: <em>MILK</em>, VITAMIN D3  541.1986   \n",
       "41  <b>Ingredients</b>: REDUCED FAT <em>MILK</em>,...  541.1986   \n",
       "42  <b>Ingredients</b>: <em>MILK</em>, HIGH FRUCTO...  541.1986   \n",
       "43          <b>Ingredients</b>: <em>MILK</em>, CREAM.  541.1986   \n",
       "44  <b>Ingredients</b>: SKIM <em>MILK</em>, HIGH F...  541.1986   \n",
       "45  <b>Ingredients</b>: <em>MILK</em>, SUGAR, COCO...  541.1986   \n",
       "46  <b>Ingredients</b>: LOWFAT <em>MILK</em>, HIGH...  541.1986   \n",
       "47  <b>Ingredients</b>: <em>MILK</em>, CORN SYRUP ...  541.1986   \n",
       "48  <b>Ingredients</b>: <em>MILK</em>, SUGAR, COCO...  541.1986   \n",
       "49  <b>Ingredients</b>: <em>MILK</em>, NONFAT <em>...  541.1986   \n",
       "\n",
       "                                        foodNutrients  \n",
       "0   [{'nutrientId': 1003, 'nutrientName': 'Protein...  \n",
       "1   [{'nutrientId': 1003, 'nutrientName': 'Protein...  \n",
       "2   [{'nutrientId': 1079, 'nutrientName': 'Fiber, ...  \n",
       "3   [{'nutrientId': 1079, 'nutrientName': 'Fiber, ...  \n",
       "4   [{'nutrientId': 1079, 'nutrientName': 'Fiber, ...  \n",
       "5   [{'nutrientId': 1003, 'nutrientName': 'Protein...  \n",
       "6   [{'nutrientId': 1003, 'nutrientName': 'Protein...  \n",
       "7   [{'nutrientId': 1003, 'nutrientName': 'Protein...  \n",
       "8   [{'nutrientId': 1003, 'nutrientName': 'Protein...  \n",
       "9   [{'nutrientId': 1003, 'nutrientName': 'Protein...  \n",
       "10  [{'nutrientId': 1079, 'nutrientName': 'Fiber, ...  \n",
       "11  [{'nutrientId': 1004, 'nutrientName': 'Total l...  \n",
       "12  [{'nutrientId': 1003, 'nutrientName': 'Protein...  \n",
       "13  [{'nutrientId': 1003, 'nutrientName': 'Protein...  \n",
       "14  [{'nutrientId': 1003, 'nutrientName': 'Protein...  \n",
       "15  [{'nutrientId': 1003, 'nutrientName': 'Protein...  \n",
       "16  [{'nutrientId': 1003, 'nutrientName': 'Protein...  \n",
       "17  [{'nutrientId': 1003, 'nutrientName': 'Protein...  \n",
       "18  [{'nutrientId': 1003, 'nutrientName': 'Protein...  \n",
       "19  [{'nutrientId': 1003, 'nutrientName': 'Protein...  \n",
       "20  [{'nutrientId': 1003, 'nutrientName': 'Protein...  \n",
       "21  [{'nutrientId': 1003, 'nutrientName': 'Protein...  \n",
       "22  [{'nutrientId': 1003, 'nutrientName': 'Protein...  \n",
       "23  [{'nutrientId': 1003, 'nutrientName': 'Protein...  \n",
       "24  [{'nutrientId': 1003, 'nutrientName': 'Protein...  \n",
       "25  [{'nutrientId': 1003, 'nutrientName': 'Protein...  \n",
       "26  [{'nutrientId': 1079, 'nutrientName': 'Fiber, ...  \n",
       "27  [{'nutrientId': 1003, 'nutrientName': 'Protein...  \n",
       "28  [{'nutrientId': 1003, 'nutrientName': 'Protein...  \n",
       "29  [{'nutrientId': 1003, 'nutrientName': 'Protein...  \n",
       "30  [{'nutrientId': 1003, 'nutrientName': 'Protein...  \n",
       "31  [{'nutrientId': 1003, 'nutrientName': 'Protein...  \n",
       "32  [{'nutrientId': 1003, 'nutrientName': 'Protein...  \n",
       "33  [{'nutrientId': 1003, 'nutrientName': 'Protein...  \n",
       "34  [{'nutrientId': 1003, 'nutrientName': 'Protein...  \n",
       "35  [{'nutrientId': 1003, 'nutrientName': 'Protein...  \n",
       "36  [{'nutrientId': 1003, 'nutrientName': 'Protein...  \n",
       "37  [{'nutrientId': 1003, 'nutrientName': 'Protein...  \n",
       "38  [{'nutrientId': 1003, 'nutrientName': 'Protein...  \n",
       "39  [{'nutrientId': 1079, 'nutrientName': 'Fiber, ...  \n",
       "40  [{'nutrientId': 1079, 'nutrientName': 'Fiber, ...  \n",
       "41  [{'nutrientId': 1079, 'nutrientName': 'Fiber, ...  \n",
       "42  [{'nutrientId': 1079, 'nutrientName': 'Fiber, ...  \n",
       "43  [{'nutrientId': 1079, 'nutrientName': 'Fiber, ...  \n",
       "44  [{'nutrientId': 1003, 'nutrientName': 'Protein...  \n",
       "45  [{'nutrientId': 1003, 'nutrientName': 'Protein...  \n",
       "46  [{'nutrientId': 1003, 'nutrientName': 'Protein...  \n",
       "47  [{'nutrientId': 1003, 'nutrientName': 'Protein...  \n",
       "48  [{'nutrientId': 1003, 'nutrientName': 'Protein...  \n",
       "49  [{'nutrientId': 1003, 'nutrientName': 'Protein...  "
      ]
     },
     "execution_count": 17,
     "metadata": {},
     "output_type": "execute_result"
    }
   ],
   "source": [
    "import fooddatacentral as fdc\n",
    "fdc.search(apikey,\"milk\")"
   ]
  },
  {
   "cell_type": "code",
   "execution_count": 18,
   "metadata": {},
   "outputs": [
    {
     "data": {
      "text/html": [
       "<div>\n",
       "<style scoped>\n",
       "    .dataframe tbody tr th:only-of-type {\n",
       "        vertical-align: middle;\n",
       "    }\n",
       "\n",
       "    .dataframe tbody tr th {\n",
       "        vertical-align: top;\n",
       "    }\n",
       "\n",
       "    .dataframe thead th {\n",
       "        text-align: right;\n",
       "    }\n",
       "</style>\n",
       "<table border=\"1\" class=\"dataframe\">\n",
       "  <thead>\n",
       "    <tr style=\"text-align: right;\">\n",
       "      <th></th>\n",
       "      <th>Quantity</th>\n",
       "      <th>Units</th>\n",
       "    </tr>\n",
       "  </thead>\n",
       "  <tbody>\n",
       "    <tr>\n",
       "      <th>Proximates</th>\n",
       "      <td>0.000</td>\n",
       "      <td>g</td>\n",
       "    </tr>\n",
       "    <tr>\n",
       "      <th>Water</th>\n",
       "      <td>89.110</td>\n",
       "      <td>g</td>\n",
       "    </tr>\n",
       "    <tr>\n",
       "      <th>Energy</th>\n",
       "      <td>40.000</td>\n",
       "      <td>kcal</td>\n",
       "    </tr>\n",
       "    <tr>\n",
       "      <th>Protein</th>\n",
       "      <td>1.100</td>\n",
       "      <td>g</td>\n",
       "    </tr>\n",
       "    <tr>\n",
       "      <th>Total lipid (fat)</th>\n",
       "      <td>0.100</td>\n",
       "      <td>g</td>\n",
       "    </tr>\n",
       "    <tr>\n",
       "      <th>Carbohydrates</th>\n",
       "      <td>0.000</td>\n",
       "      <td>g</td>\n",
       "    </tr>\n",
       "    <tr>\n",
       "      <th>Carbohydrate, by difference</th>\n",
       "      <td>9.340</td>\n",
       "      <td>g</td>\n",
       "    </tr>\n",
       "    <tr>\n",
       "      <th>Fiber, total dietary</th>\n",
       "      <td>1.700</td>\n",
       "      <td>g</td>\n",
       "    </tr>\n",
       "    <tr>\n",
       "      <th>Sugars, total including NLEA</th>\n",
       "      <td>4.240</td>\n",
       "      <td>g</td>\n",
       "    </tr>\n",
       "    <tr>\n",
       "      <th>Minerals</th>\n",
       "      <td>0.000</td>\n",
       "      <td>mg</td>\n",
       "    </tr>\n",
       "    <tr>\n",
       "      <th>Calcium, Ca</th>\n",
       "      <td>23.000</td>\n",
       "      <td>mg</td>\n",
       "    </tr>\n",
       "    <tr>\n",
       "      <th>Iron, Fe</th>\n",
       "      <td>0.210</td>\n",
       "      <td>mg</td>\n",
       "    </tr>\n",
       "    <tr>\n",
       "      <th>Magnesium, Mg</th>\n",
       "      <td>10.000</td>\n",
       "      <td>mg</td>\n",
       "    </tr>\n",
       "    <tr>\n",
       "      <th>Phosphorus, P</th>\n",
       "      <td>29.000</td>\n",
       "      <td>mg</td>\n",
       "    </tr>\n",
       "    <tr>\n",
       "      <th>Potassium, K</th>\n",
       "      <td>146.000</td>\n",
       "      <td>mg</td>\n",
       "    </tr>\n",
       "    <tr>\n",
       "      <th>Sodium, Na</th>\n",
       "      <td>4.000</td>\n",
       "      <td>mg</td>\n",
       "    </tr>\n",
       "    <tr>\n",
       "      <th>Zinc, Zn</th>\n",
       "      <td>0.170</td>\n",
       "      <td>mg</td>\n",
       "    </tr>\n",
       "    <tr>\n",
       "      <th>Copper, Cu</th>\n",
       "      <td>0.039</td>\n",
       "      <td>mg</td>\n",
       "    </tr>\n",
       "    <tr>\n",
       "      <th>Selenium, Se</th>\n",
       "      <td>0.500</td>\n",
       "      <td>µg</td>\n",
       "    </tr>\n",
       "    <tr>\n",
       "      <th>Vitamins and Other Components</th>\n",
       "      <td>0.000</td>\n",
       "      <td>g</td>\n",
       "    </tr>\n",
       "    <tr>\n",
       "      <th>Vitamin C, total ascorbic acid</th>\n",
       "      <td>7.400</td>\n",
       "      <td>mg</td>\n",
       "    </tr>\n",
       "    <tr>\n",
       "      <th>Thiamin</th>\n",
       "      <td>0.046</td>\n",
       "      <td>mg</td>\n",
       "    </tr>\n",
       "    <tr>\n",
       "      <th>Riboflavin</th>\n",
       "      <td>0.027</td>\n",
       "      <td>mg</td>\n",
       "    </tr>\n",
       "    <tr>\n",
       "      <th>Niacin</th>\n",
       "      <td>0.116</td>\n",
       "      <td>mg</td>\n",
       "    </tr>\n",
       "    <tr>\n",
       "      <th>Vitamin B-6</th>\n",
       "      <td>0.120</td>\n",
       "      <td>mg</td>\n",
       "    </tr>\n",
       "    <tr>\n",
       "      <th>Folate, total</th>\n",
       "      <td>19.000</td>\n",
       "      <td>µg</td>\n",
       "    </tr>\n",
       "    <tr>\n",
       "      <th>Folic acid</th>\n",
       "      <td>0.000</td>\n",
       "      <td>µg</td>\n",
       "    </tr>\n",
       "    <tr>\n",
       "      <th>Folate, food</th>\n",
       "      <td>19.000</td>\n",
       "      <td>µg</td>\n",
       "    </tr>\n",
       "    <tr>\n",
       "      <th>Folate, DFE</th>\n",
       "      <td>19.000</td>\n",
       "      <td>µg</td>\n",
       "    </tr>\n",
       "    <tr>\n",
       "      <th>Choline, total</th>\n",
       "      <td>6.100</td>\n",
       "      <td>mg</td>\n",
       "    </tr>\n",
       "    <tr>\n",
       "      <th>Vitamin B-12</th>\n",
       "      <td>0.000</td>\n",
       "      <td>µg</td>\n",
       "    </tr>\n",
       "    <tr>\n",
       "      <th>Vitamin B-12, added</th>\n",
       "      <td>0.000</td>\n",
       "      <td>µg</td>\n",
       "    </tr>\n",
       "    <tr>\n",
       "      <th>Vitamin A, RAE</th>\n",
       "      <td>0.000</td>\n",
       "      <td>µg</td>\n",
       "    </tr>\n",
       "    <tr>\n",
       "      <th>Retinol</th>\n",
       "      <td>0.000</td>\n",
       "      <td>µg</td>\n",
       "    </tr>\n",
       "    <tr>\n",
       "      <th>Carotene, beta</th>\n",
       "      <td>1.000</td>\n",
       "      <td>µg</td>\n",
       "    </tr>\n",
       "    <tr>\n",
       "      <th>Carotene, alpha</th>\n",
       "      <td>0.000</td>\n",
       "      <td>µg</td>\n",
       "    </tr>\n",
       "    <tr>\n",
       "      <th>Cryptoxanthin, beta</th>\n",
       "      <td>0.000</td>\n",
       "      <td>µg</td>\n",
       "    </tr>\n",
       "    <tr>\n",
       "      <th>Lycopene</th>\n",
       "      <td>0.000</td>\n",
       "      <td>µg</td>\n",
       "    </tr>\n",
       "    <tr>\n",
       "      <th>Lutein + zeaxanthin</th>\n",
       "      <td>4.000</td>\n",
       "      <td>µg</td>\n",
       "    </tr>\n",
       "    <tr>\n",
       "      <th>Vitamin E (alpha-tocopherol)</th>\n",
       "      <td>0.020</td>\n",
       "      <td>mg</td>\n",
       "    </tr>\n",
       "    <tr>\n",
       "      <th>Vitamin E, added</th>\n",
       "      <td>0.000</td>\n",
       "      <td>mg</td>\n",
       "    </tr>\n",
       "    <tr>\n",
       "      <th>Vitamin D (D2 + D3)</th>\n",
       "      <td>0.000</td>\n",
       "      <td>µg</td>\n",
       "    </tr>\n",
       "    <tr>\n",
       "      <th>Vitamin K (phylloquinone)</th>\n",
       "      <td>0.400</td>\n",
       "      <td>µg</td>\n",
       "    </tr>\n",
       "    <tr>\n",
       "      <th>Lipids</th>\n",
       "      <td>0.000</td>\n",
       "      <td>g</td>\n",
       "    </tr>\n",
       "    <tr>\n",
       "      <th>Fatty acids, total saturated</th>\n",
       "      <td>0.042</td>\n",
       "      <td>g</td>\n",
       "    </tr>\n",
       "    <tr>\n",
       "      <th>4:0</th>\n",
       "      <td>0.000</td>\n",
       "      <td>g</td>\n",
       "    </tr>\n",
       "    <tr>\n",
       "      <th>6:0</th>\n",
       "      <td>0.000</td>\n",
       "      <td>g</td>\n",
       "    </tr>\n",
       "    <tr>\n",
       "      <th>8:0</th>\n",
       "      <td>0.000</td>\n",
       "      <td>g</td>\n",
       "    </tr>\n",
       "    <tr>\n",
       "      <th>10:0</th>\n",
       "      <td>0.000</td>\n",
       "      <td>g</td>\n",
       "    </tr>\n",
       "    <tr>\n",
       "      <th>12:0</th>\n",
       "      <td>0.000</td>\n",
       "      <td>g</td>\n",
       "    </tr>\n",
       "    <tr>\n",
       "      <th>14:0</th>\n",
       "      <td>0.004</td>\n",
       "      <td>g</td>\n",
       "    </tr>\n",
       "    <tr>\n",
       "      <th>16:0</th>\n",
       "      <td>0.034</td>\n",
       "      <td>g</td>\n",
       "    </tr>\n",
       "    <tr>\n",
       "      <th>18:0</th>\n",
       "      <td>0.004</td>\n",
       "      <td>g</td>\n",
       "    </tr>\n",
       "    <tr>\n",
       "      <th>Fatty acids, total monounsaturated</th>\n",
       "      <td>0.013</td>\n",
       "      <td>g</td>\n",
       "    </tr>\n",
       "    <tr>\n",
       "      <th>16:1</th>\n",
       "      <td>0.000</td>\n",
       "      <td>g</td>\n",
       "    </tr>\n",
       "    <tr>\n",
       "      <th>18:1</th>\n",
       "      <td>0.013</td>\n",
       "      <td>g</td>\n",
       "    </tr>\n",
       "    <tr>\n",
       "      <th>20:1</th>\n",
       "      <td>0.000</td>\n",
       "      <td>g</td>\n",
       "    </tr>\n",
       "    <tr>\n",
       "      <th>22:1</th>\n",
       "      <td>0.000</td>\n",
       "      <td>g</td>\n",
       "    </tr>\n",
       "    <tr>\n",
       "      <th>Fatty acids, total polyunsaturated</th>\n",
       "      <td>0.017</td>\n",
       "      <td>g</td>\n",
       "    </tr>\n",
       "    <tr>\n",
       "      <th>18:2</th>\n",
       "      <td>0.013</td>\n",
       "      <td>g</td>\n",
       "    </tr>\n",
       "    <tr>\n",
       "      <th>18:3</th>\n",
       "      <td>0.004</td>\n",
       "      <td>g</td>\n",
       "    </tr>\n",
       "    <tr>\n",
       "      <th>18:4</th>\n",
       "      <td>0.000</td>\n",
       "      <td>g</td>\n",
       "    </tr>\n",
       "    <tr>\n",
       "      <th>20:4</th>\n",
       "      <td>0.000</td>\n",
       "      <td>g</td>\n",
       "    </tr>\n",
       "    <tr>\n",
       "      <th>20:5 n-3 (EPA)</th>\n",
       "      <td>0.000</td>\n",
       "      <td>g</td>\n",
       "    </tr>\n",
       "    <tr>\n",
       "      <th>22:5 n-3 (DPA)</th>\n",
       "      <td>0.000</td>\n",
       "      <td>g</td>\n",
       "    </tr>\n",
       "    <tr>\n",
       "      <th>22:6 n-3 (DHA)</th>\n",
       "      <td>0.000</td>\n",
       "      <td>g</td>\n",
       "    </tr>\n",
       "    <tr>\n",
       "      <th>Cholesterol</th>\n",
       "      <td>0.000</td>\n",
       "      <td>mg</td>\n",
       "    </tr>\n",
       "    <tr>\n",
       "      <th>Amino acids</th>\n",
       "      <td>0.000</td>\n",
       "      <td>g</td>\n",
       "    </tr>\n",
       "    <tr>\n",
       "      <th>Alcohol, ethyl</th>\n",
       "      <td>0.000</td>\n",
       "      <td>g</td>\n",
       "    </tr>\n",
       "    <tr>\n",
       "      <th>Caffeine</th>\n",
       "      <td>0.000</td>\n",
       "      <td>mg</td>\n",
       "    </tr>\n",
       "    <tr>\n",
       "      <th>Theobromine</th>\n",
       "      <td>0.000</td>\n",
       "      <td>mg</td>\n",
       "    </tr>\n",
       "  </tbody>\n",
       "</table>\n",
       "</div>"
      ],
      "text/plain": [
       "                                    Quantity Units\n",
       "Proximates                             0.000     g\n",
       "Water                                 89.110     g\n",
       "Energy                                40.000  kcal\n",
       "Protein                                1.100     g\n",
       "Total lipid (fat)                      0.100     g\n",
       "Carbohydrates                          0.000     g\n",
       "Carbohydrate, by difference            9.340     g\n",
       "Fiber, total dietary                   1.700     g\n",
       "Sugars, total including NLEA           4.240     g\n",
       "Minerals                               0.000    mg\n",
       "Calcium, Ca                           23.000    mg\n",
       "Iron, Fe                               0.210    mg\n",
       "Magnesium, Mg                         10.000    mg\n",
       "Phosphorus, P                         29.000    mg\n",
       "Potassium, K                         146.000    mg\n",
       "Sodium, Na                             4.000    mg\n",
       "Zinc, Zn                               0.170    mg\n",
       "Copper, Cu                             0.039    mg\n",
       "Selenium, Se                           0.500    µg\n",
       "Vitamins and Other Components          0.000     g\n",
       "Vitamin C, total ascorbic acid         7.400    mg\n",
       "Thiamin                                0.046    mg\n",
       "Riboflavin                             0.027    mg\n",
       "Niacin                                 0.116    mg\n",
       "Vitamin B-6                            0.120    mg\n",
       "Folate, total                         19.000    µg\n",
       "Folic acid                             0.000    µg\n",
       "Folate, food                          19.000    µg\n",
       "Folate, DFE                           19.000    µg\n",
       "Choline, total                         6.100    mg\n",
       "Vitamin B-12                           0.000    µg\n",
       "Vitamin B-12, added                    0.000    µg\n",
       "Vitamin A, RAE                         0.000    µg\n",
       "Retinol                                0.000    µg\n",
       "Carotene, beta                         1.000    µg\n",
       "Carotene, alpha                        0.000    µg\n",
       "Cryptoxanthin, beta                    0.000    µg\n",
       "Lycopene                               0.000    µg\n",
       "Lutein + zeaxanthin                    4.000    µg\n",
       "Vitamin E (alpha-tocopherol)           0.020    mg\n",
       "Vitamin E, added                       0.000    mg\n",
       "Vitamin D (D2 + D3)                    0.000    µg\n",
       "Vitamin K (phylloquinone)              0.400    µg\n",
       "Lipids                                 0.000     g\n",
       "Fatty acids, total saturated           0.042     g\n",
       "4:0                                    0.000     g\n",
       "6:0                                    0.000     g\n",
       "8:0                                    0.000     g\n",
       "10:0                                   0.000     g\n",
       "12:0                                   0.000     g\n",
       "14:0                                   0.004     g\n",
       "16:0                                   0.034     g\n",
       "18:0                                   0.004     g\n",
       "Fatty acids, total monounsaturated     0.013     g\n",
       "16:1                                   0.000     g\n",
       "18:1                                   0.013     g\n",
       "20:1                                   0.000     g\n",
       "22:1                                   0.000     g\n",
       "Fatty acids, total polyunsaturated     0.017     g\n",
       "18:2                                   0.013     g\n",
       "18:3                                   0.004     g\n",
       "18:4                                   0.000     g\n",
       "20:4                                   0.000     g\n",
       "20:5 n-3 (EPA)                         0.000     g\n",
       "22:5 n-3 (DPA)                         0.000     g\n",
       "22:6 n-3 (DHA)                         0.000     g\n",
       "Cholesterol                            0.000    mg\n",
       "Amino acids                            0.000     g\n",
       "Alcohol, ethyl                         0.000     g\n",
       "Caffeine                               0.000    mg\n",
       "Theobromine                            0.000    mg"
      ]
     },
     "execution_count": 18,
     "metadata": {},
     "output_type": "execute_result"
    }
   ],
   "source": [
    "id = 1103364   # Put an FDC ID HERE!\n",
    "nutrition = fdc.nutrients(apikey,fdc_id=id)\n",
    "pd.set_option(\"display.max_rows\", 500,\"display.max_columns\", 500)\n",
    "nutrition"
   ]
  },
  {
   "cell_type": "markdown",
   "metadata": {},
   "source": [
    "### 1.8 Sensitivity of Solution"
   ]
  },
  {
   "cell_type": "code",
   "execution_count": 46,
   "metadata": {},
   "outputs": [],
   "source": [
    "import warnings"
   ]
  },
  {
   "cell_type": "code",
   "execution_count": null,
   "metadata": {},
   "outputs": [],
   "source": []
  },
  {
   "cell_type": "code",
   "execution_count": null,
   "metadata": {},
   "outputs": [],
   "source": []
  },
  {
   "cell_type": "code",
   "execution_count": 55,
   "metadata": {},
   "outputs": [],
   "source": [
    "from  scipy.optimize import linprog as lp\n",
    "import numpy as np\n",
    "\n",
    "def solve_subsistence_problem(FoodNutrients,Prices,diet_min,diet_max,tol=1e-6):\n",
    "    p = Prices.apply(lambda x:x.magnitude).dropna()\n",
    "    use = list(set(p.index.tolist()).intersection(FoodNutrients.columns.tolist()))\n",
    "    p = p[use]\n",
    "    Aall = FoodNutrients[p.index].fillna(0)\n",
    "    Amin = Aall.loc[diet_min.index]\n",
    "    Amax = Aall.loc[diet_max.index]\n",
    "    A = pd.concat([Amin,-Amax])\n",
    "    b = pd.concat([diet_min,-diet_max]) \n",
    "    result = lp(p, -A, -b, method='interior-point')\n",
    "    result.A = A\n",
    "    result.b = b\n",
    "    result.diet = pd.Series(result.x,index=p.index)\n",
    "    return result"
   ]
  },
  {
   "cell_type": "code",
   "execution_count": 56,
   "metadata": {},
   "outputs": [
    {
     "ename": "NameError",
     "evalue": "name 'FoodNutrients' is not defined",
     "output_type": "error",
     "traceback": [
      "\u001b[0;31m---------------------------------------------------------------------------\u001b[0m",
      "\u001b[0;31mNameError\u001b[0m                                 Traceback (most recent call last)",
      "\u001b[0;32m<ipython-input-56-cc89c8c429a3>\u001b[0m in \u001b[0;36m<module>\u001b[0;34m\u001b[0m\n\u001b[1;32m      1\u001b[0m \u001b[0mgroup\u001b[0m \u001b[0;34m=\u001b[0m \u001b[0;34m'M 19-30'\u001b[0m\u001b[0;34m\u001b[0m\u001b[0;34m\u001b[0m\u001b[0m\n\u001b[1;32m      2\u001b[0m \u001b[0mtol\u001b[0m \u001b[0;34m=\u001b[0m \u001b[0;36m1e-6\u001b[0m\u001b[0;34m\u001b[0m\u001b[0;34m\u001b[0m\u001b[0m\n\u001b[0;32m----> 3\u001b[0;31m \u001b[0mresult\u001b[0m \u001b[0;34m=\u001b[0m \u001b[0msolve_subsistence_problem\u001b[0m\u001b[0;34m(\u001b[0m\u001b[0mFoodNutrients\u001b[0m\u001b[0;34m,\u001b[0m\u001b[0mPrices\u001b[0m\u001b[0;34m,\u001b[0m\u001b[0mdiet_min\u001b[0m\u001b[0;34m[\u001b[0m\u001b[0mgroup\u001b[0m\u001b[0;34m]\u001b[0m\u001b[0;34m,\u001b[0m\u001b[0mdiet_max\u001b[0m\u001b[0;34m[\u001b[0m\u001b[0mgroup\u001b[0m\u001b[0;34m]\u001b[0m\u001b[0;34m,\u001b[0m\u001b[0mtol\u001b[0m\u001b[0;34m=\u001b[0m\u001b[0mtol\u001b[0m\u001b[0;34m)\u001b[0m\u001b[0;34m\u001b[0m\u001b[0;34m\u001b[0m\u001b[0m\n\u001b[0m\u001b[1;32m      4\u001b[0m \u001b[0mprint\u001b[0m\u001b[0;34m(\u001b[0m\u001b[0;34m\"Cost of diet for %s is $%4.2f per day.\\n\"\u001b[0m \u001b[0;34m%\u001b[0m \u001b[0;34m(\u001b[0m\u001b[0mgroup\u001b[0m\u001b[0;34m,\u001b[0m\u001b[0mresult\u001b[0m\u001b[0;34m.\u001b[0m\u001b[0mfun\u001b[0m\u001b[0;34m)\u001b[0m\u001b[0;34m)\u001b[0m\u001b[0;34m\u001b[0m\u001b[0;34m\u001b[0m\u001b[0m\n\u001b[1;32m      5\u001b[0m \u001b[0mdiet\u001b[0m \u001b[0;34m=\u001b[0m \u001b[0mresult\u001b[0m\u001b[0;34m.\u001b[0m\u001b[0mdiet\u001b[0m\u001b[0;34m\u001b[0m\u001b[0;34m\u001b[0m\u001b[0m\n",
      "\u001b[0;31mNameError\u001b[0m: name 'FoodNutrients' is not defined"
     ]
    }
   ],
   "source": [
    "group = 'M 19-30'\n",
    "tol = 1e-6\n",
    "result = solve_subsistence_problem(FoodNutrients,Prices,diet_min[group],diet_max[group],tol=tol)\n",
    "print(\"Cost of diet for %s is $%4.2f per day.\\n\" % (group,result.fun))\n",
    "diet = result.diet\n",
    "print(\"\\nDiet (in 100s of grams or milliliters):\")\n",
    "print(diet[diet >= tol]) \n",
    "print()\n",
    "tab = pd.DataFrame({\"Outcome\":np.abs(result.A).dot(diet),\"Recommendation\":np.abs(result.b)})\n",
    "print(\"\\nWith the following nutritional outcomes of interest:\")\n",
    "print(tab)\n",
    "print()\n",
    "print(\"\\nConstraining nutrients are:\")\n",
    "excess = tab.diff(axis=1).iloc[:,1]\n",
    "print(excess.loc[np.abs(excess) < tol*100].index.tolist())"
   ]
  },
  {
   "cell_type": "code",
   "execution_count": 13,
   "metadata": {},
   "outputs": [],
   "source": [
    "# Convert food quantities to FDC units\n",
    "df['FDC Quantity'] = df[['Quantity','Units']].T.apply(lambda x : fdc.units(x['Quantity'],x['Units']))\n",
    "\n",
    "# Now may want to filter df by time or place--need to get a unique set of food names.\n",
    "df['FDC Price'] = df['Price']/df['FDC Quantity']\n",
    "\n",
    "df.dropna(how='any') # Drop food with any missing data\n",
    "\n",
    "# To use minimum price observed\n",
    "Prices = df.groupby('Food',sort=False)['FDC Price'].min()"
   ]
  },
  {
   "cell_type": "code",
   "execution_count": 14,
   "metadata": {},
   "outputs": [
    {
     "name": "stdout",
     "output_type": "stream",
     "text": [
      "Cost of diet for F 19-30 is $6.95 per day.\n",
      "\n",
      "\n",
      "Diet (in 100s of grams or milliliters):\n",
      "Food\n",
      "Liver (Pork)    0.952707\n",
      "Sugar           0.456980\n",
      "Wheat Cereal    0.214954\n",
      "Navy Beans      0.361672\n",
      "Cabbage         0.707420\n",
      "Milk (Whole)    2.102095\n",
      "Spinach         7.336890\n",
      "dtype: float64\n",
      "\n",
      "\n",
      "With the following nutritional outcomes of interest:\n",
      "                                    Outcome  Recommendation\n",
      "Nutrition                                                  \n",
      "Energy                          2355.202804          2000.0\n",
      "Protein                           58.330533            46.0\n",
      "Fiber, total dietary              28.000000            28.0\n",
      "Folate, DFE                     1655.749723           400.0\n",
      "Calcium, Ca                     1000.000000          1000.0\n",
      "Carbohydrate, by difference      130.000000           130.0\n",
      "Iron, Fe                          46.663190            18.0\n",
      "Magnesium, Mg                    617.934367           310.0\n",
      "Niacin                            24.035549            14.0\n",
      "Phosphorus, P                    700.000000           700.0\n",
      "Potassium, K                    4700.000000          4700.0\n",
      "Riboflavin                         4.624875             1.1\n",
      "Thiamin                            1.100000             1.1\n",
      "Vitamin A, RAE                  9639.041923           700.0\n",
      "Vitamin B-12                      25.965535             2.4\n",
      "Vitamin B-6                        2.573876             1.3\n",
      "Vitamin C, total ascorbic acid   256.161694            75.0\n",
      "Vitamin E (alpha-tocopherol)      15.000000            15.0\n",
      "Vitamin K (phylloquinone)       3596.748187            90.0\n",
      "Zinc, Zn                          10.703195             8.0\n",
      "Sodium, Na                       809.651200          2300.0\n",
      "\n",
      "\n",
      "Constraining nutrients are:\n",
      "['Fiber, total dietary', 'Calcium, Ca', 'Carbohydrate, by difference', 'Phosphorus, P', 'Potassium, K', 'Thiamin', 'Vitamin E (alpha-tocopherol)']\n"
     ]
    },
    {
     "name": "stderr",
     "output_type": "stream",
     "text": [
      "/opt/anaconda3/lib/python3.8/site-packages/numpy/core/fromnumeric.py:87: VisibleDeprecationWarning: Creating an ndarray from ragged nested sequences (which is a list-or-tuple of lists-or-tuples-or ndarrays with different lengths or shapes) is deprecated. If you meant to do this, you must specify 'dtype=object' when creating the ndarray\n",
      "  return ufunc.reduce(obj, axis, dtype, out, **passkwargs)\n"
     ]
    }
   ],
   "source": [
    "group = 'F 19-30'\n",
    "tol = 1e-6\n",
    "\n",
    "result = solve_subsistence_problem(FoodNutrients,Prices,diet_min[group],diet_max[group],tol=tol)\n",
    "\n",
    "print(\"Cost of diet for %s is $%4.2f per day.\\n\" % (group,result.fun))\n",
    "\n",
    "# Put back into nice series\n",
    "diet = result.diet\n",
    "\n",
    "print(\"\\nDiet (in 100s of grams or milliliters):\")\n",
    "print(diet[diet >= tol])  # Drop items with quantities less than precision of calculation.\n",
    "print()\n",
    "\n",
    "tab = pd.DataFrame({\"Outcome\":np.abs(result.A).dot(diet),\"Recommendation\":np.abs(result.b)})\n",
    "print(\"\\nWith the following nutritional outcomes of interest:\")\n",
    "print(tab)\n",
    "print()\n",
    "\n",
    "print(\"\\nConstraining nutrients are:\")\n",
    "excess = tab.diff(axis=1).iloc[:,1]\n",
    "print(excess.loc[np.abs(excess) < tol*100].index.tolist())"
   ]
  },
  {
   "cell_type": "code",
   "execution_count": 17,
   "metadata": {},
   "outputs": [
    {
     "data": {
      "text/html": [
       "        <script type=\"text/javascript\">\n",
       "        window.PlotlyConfig = {MathJaxConfig: 'local'};\n",
       "        if (window.MathJax) {MathJax.Hub.Config({SVG: {font: \"STIX-Web\"}});}\n",
       "        if (typeof require !== 'undefined') {\n",
       "        require.undef(\"plotly\");\n",
       "        requirejs.config({\n",
       "            paths: {\n",
       "                'plotly': ['https://cdn.plot.ly/plotly-latest.min']\n",
       "            }\n",
       "        });\n",
       "        require(['plotly'], function(Plotly) {\n",
       "            window._Plotly = Plotly;\n",
       "        });\n",
       "        }\n",
       "        </script>\n",
       "        "
      ]
     },
     "metadata": {},
     "output_type": "display_data"
    },
    {
     "name": "stderr",
     "output_type": "stream",
     "text": [
      "/opt/anaconda3/lib/python3.8/site-packages/numpy/core/fromnumeric.py:87: VisibleDeprecationWarning:\n",
      "\n",
      "Creating an ndarray from ragged nested sequences (which is a list-or-tuple of lists-or-tuples-or ndarrays with different lengths or shapes) is deprecated. If you meant to do this, you must specify 'dtype=object' when creating the ndarray\n",
      "\n"
     ]
    },
    {
     "data": {
      "application/vnd.plotly.v1+json": {
       "config": {
        "linkText": "Export to plot.ly",
        "plotlyServerURL": "https://plot.ly",
        "showLink": true
       },
       "data": [
        {
         "line": {
          "color": "rgba(255, 153, 51, 1.0)",
          "dash": "solid",
          "shape": "linear",
          "width": 1.3
         },
         "mode": "lines",
         "name": "Wheat Flour",
         "text": "",
         "type": "scatter",
         "x": [
          -0.6931471805599453,
          -0.5108256237659907,
          -0.35667494393873245,
          -0.2231435513142097,
          -0.10536051565782628,
          0,
          0.09531017980432493,
          0.1823215567939546,
          0.26236426446749106,
          0.3364722366212129,
          0.4054651081081644
         ],
         "y": [
          -0.0034850665411168295,
          9.629110489436677e-08,
          -4.1010506110577474e-10,
          1.4079251088397721e-09,
          2.0467976181862367e-09,
          0,
          -3.5117875280603764e-10,
          -3.344424737709834e-10,
          4.440892098500625e-16,
          -4.5698067562721576e-10,
          -4.2064707281817934e-10
         ]
        },
        {
         "line": {
          "color": "rgba(55, 128, 191, 1.0)",
          "dash": "solid",
          "shape": "linear",
          "width": 1.3
         },
         "mode": "lines",
         "name": "Wheat Cereal",
         "text": "",
         "type": "scatter",
         "x": [
          -0.6931471805599453,
          -0.5108256237659907,
          -0.35667494393873245,
          -0.2231435513142097,
          -0.10536051565782628,
          0,
          0.09531017980432493,
          0.1823215567939546,
          0.26236426446749106,
          0.3364722366212129,
          0.4054651081081644
         ],
         "y": [
          -0.012769539678138079,
          -0.010028454172420716,
          -0.0072947103304794566,
          -0.004710581227762568,
          -0.0023525167380487534,
          0,
          0.002027292862615997,
          0.00346087980917307,
          0.0048924165562966035,
          0.0063219058580041895,
          0.006925290199441331
         ]
        },
        {
         "line": {
          "color": "rgba(50, 171, 96, 1.0)",
          "dash": "solid",
          "shape": "linear",
          "width": 1.3
         },
         "mode": "lines",
         "name": "Corn Meal",
         "text": "",
         "type": "scatter",
         "x": [
          -0.6931471805599453,
          -0.5108256237659907,
          -0.35667494393873245,
          -0.2231435513142097,
          -0.10536051565782628,
          0,
          0.09531017980432493,
          0.1823215567939546,
          0.26236426446749106,
          0.3364722366212129,
          0.4054651081081644
         ],
         "y": [
          6.398872540898077e-10,
          3.4856850733042817e-10,
          1.662607829051042e-10,
          4.862288349609141e-11,
          4.193578817447196e-11,
          0,
          3.0068414420467985e-10,
          1.2276085850226575e-08,
          8.589642383722395e-08,
          8.809038221673745e-08,
          -4.719538094780799e-10
         ]
        },
        {
         "line": {
          "color": "rgba(128, 0, 128, 1.0)",
          "dash": "solid",
          "shape": "linear",
          "width": 1.3
         },
         "mode": "lines",
         "name": "Rolled Oats",
         "text": "",
         "type": "scatter",
         "x": [
          -0.6931471805599453,
          -0.5108256237659907,
          -0.35667494393873245,
          -0.2231435513142097,
          -0.10536051565782628,
          0,
          0.09531017980432493,
          0.1823215567939546,
          0.26236426446749106,
          0.3364722366212129,
          0.4054651081081644
         ],
         "y": [
          5.801803482069313e-12,
          3.9099168346669615e-11,
          4.291833555122353e-11,
          7.442713112454427e-12,
          -8.721279254711497e-11,
          0,
          3.0365288057163044e-10,
          3.476490206217537e-10,
          1.3166474568607464e-09,
          3.923060091302921e-09,
          2.343411681669105e-08
         ]
        },
        {
         "line": {
          "color": "rgba(219, 64, 82, 1.0)",
          "dash": "solid",
          "shape": "linear",
          "width": 1.3
         },
         "mode": "lines",
         "name": "Evaporated Milk",
         "text": "",
         "type": "scatter",
         "x": [
          -0.6931471805599453,
          -0.5108256237659907,
          -0.35667494393873245,
          -0.2231435513142097,
          -0.10536051565782628,
          0,
          0.09531017980432493,
          0.1823215567939546,
          0.26236426446749106,
          0.3364722366212129,
          0.4054651081081644
         ],
         "y": [
          -0.003461057672603752,
          -0.0015397538377305657,
          -4.1469228060081273e-10,
          1.5537686680752642e-09,
          2.82465606420498e-10,
          0,
          9.335532346729792e-11,
          3.364299949171489e-10,
          1.1729501807393619e-09,
          1.7788186543185358e-08,
          6.950571787488567e-08
         ]
        },
        {
         "line": {
          "color": "rgba(0, 128, 128, 1.0)",
          "dash": "solid",
          "shape": "linear",
          "width": 1.3
         },
         "mode": "lines",
         "name": "Cabbage",
         "text": "",
         "type": "scatter",
         "x": [
          -0.6931471805599453,
          -0.5108256237659907,
          -0.35667494393873245,
          -0.2231435513142097,
          -0.10536051565782628,
          0,
          0.09531017980432493,
          0.1823215567939546,
          0.26236426446749106,
          0.3364722366212129,
          0.4054651081081644
         ],
         "y": [
          -0.07518228091355124,
          -0.04189893760053977,
          -0.026621832987120293,
          -0.015286064597334356,
          -0.00491351666900041,
          0,
          0.001375152204472188,
          0.0013752340594838542,
          0.0013751698835985204,
          0.0013751515503070478,
          0.0013751516416490746
         ]
        },
        {
         "line": {
          "color": "rgba(255, 255, 51, 1.0)",
          "dash": "solid",
          "shape": "linear",
          "width": 1.3
         },
         "mode": "lines",
         "name": "Potatoes",
         "text": "",
         "type": "scatter",
         "x": [
          -0.6931471805599453,
          -0.5108256237659907,
          -0.35667494393873245,
          -0.2231435513142097,
          -0.10536051565782628,
          0,
          0.09531017980432493,
          0.1823215567939546,
          0.26236426446749106,
          0.3364722366212129,
          0.4054651081081644
         ],
         "y": [
          -4.770375207102507e-10,
          1.431390561532327e-10,
          -1.6177270635496354e-10,
          4.344857806776161e-11,
          -4.2561065783725875e-11,
          0,
          2.545246898891175e-09,
          5.864412383610689e-08,
          8.998081496973593e-08,
          -4.771610885329504e-10,
          2.586820946186031e-08
         ]
        },
        {
         "line": {
          "color": "rgba(128, 128, 0, 1.0)",
          "dash": "solid",
          "shape": "linear",
          "width": 1.3
         },
         "mode": "lines",
         "name": "Spinach",
         "text": "",
         "type": "scatter",
         "x": [
          -0.6931471805599453,
          -0.5108256237659907,
          -0.35667494393873245,
          -0.2231435513142097,
          -0.10536051565782628,
          0,
          0.09531017980432493,
          0.1823215567939546,
          0.26236426446749106,
          0.3364722366212129,
          0.4054651081081644
         ],
         "y": [
          -0.5794272095441145,
          -0.433169435306129,
          -0.30559904225516316,
          -0.1925122989387559,
          -0.09140459051628091,
          0,
          0.08280517042566285,
          0.15877010065924696,
          0.22836781698744088,
          0.2925231431572014,
          0.3527665572816836
         ]
        },
        {
         "line": {
          "color": "rgba(251, 128, 114, 1.0)",
          "dash": "solid",
          "shape": "linear",
          "width": 1.3
         },
         "mode": "lines",
         "name": "Sweet Potatoes",
         "text": "",
         "type": "scatter",
         "x": [
          -0.6931471805599453,
          -0.5108256237659907,
          -0.35667494393873245,
          -0.2231435513142097,
          -0.10536051565782628,
          0,
          0.09531017980432493,
          0.1823215567939546,
          0.26236426446749106,
          0.3364722366212129,
          0.4054651081081644
         ],
         "y": [
          -5.855416152116721e-11,
          9.11315467529161e-12,
          3.865596731525648e-11,
          3.426969818972735e-11,
          -4.173072998357372e-11,
          0,
          3.666733582757258e-10,
          2.520853744789715e-09,
          2.8972214207692815e-08,
          9.409747427065135e-08,
          5.791716893778577e-08
         ]
        },
        {
         "line": {
          "color": "rgba(128, 177, 211, 1.0)",
          "dash": "solid",
          "shape": "linear",
          "width": 1.3
         },
         "mode": "lines",
         "name": "Navy Beans",
         "text": "",
         "type": "scatter",
         "x": [
          -0.6931471805599453,
          -0.5108256237659907,
          -0.35667494393873245,
          -0.2231435513142097,
          -0.10536051565782628,
          0,
          0.09531017980432493,
          0.1823215567939546,
          0.26236426446749106,
          0.3364722366212129,
          0.4054651081081644
         ],
         "y": [
          -0.012876679127483187,
          -0.010125663764893895,
          -0.007584618084682193,
          -0.005050016122466976,
          -0.0025218204640112835,
          0,
          0.0024123589006940184,
          0.004229753971464874,
          0.006043858031340501,
          0.007854676249665531,
          0.00799877247098421
         ]
        },
        {
         "line": {
          "color": "rgba(128, 177, 211, 0.8999999999999999)",
          "dash": "solid",
          "shape": "linear",
          "width": 1.3
         },
         "mode": "lines",
         "name": "Sugar",
         "text": "",
         "type": "scatter",
         "x": [
          -0.6931471805599453,
          -0.5108256237659907,
          -0.35667494393873245,
          -0.2231435513142097,
          -0.10536051565782628,
          0,
          0.09531017980432493,
          0.1823215567939546,
          0.26236426446749106,
          0.3364722366212129,
          0.4054651081081644
         ],
         "y": [
          -0.004276762348535988,
          -0.0034200716811798285,
          -0.00256395665709318,
          -0.0017085738746888985,
          -0.0008539220577360593,
          0,
          0.0008531937912696307,
          0.0017057581649833392,
          0.0025573987169660987,
          0.003408413881677013,
          0.004212072261151786
         ]
        },
        {
         "line": {
          "color": "rgba(255, 153, 51, 0.8999999999999999)",
          "dash": "solid",
          "shape": "linear",
          "width": 1.3
         },
         "mode": "lines",
         "name": "Beets",
         "text": "",
         "type": "scatter",
         "x": [
          -0.6931471805599453,
          -0.5108256237659907,
          -0.35667494393873245,
          -0.2231435513142097,
          -0.10536051565782628,
          0,
          0.09531017980432493,
          0.1823215567939546,
          0.26236426446749106,
          0.3364722366212129,
          0.4054651081081644
         ],
         "y": [
          -1.30512267668327e-10,
          -1.2427392449216354e-10,
          -9.330070050319649e-11,
          -6.275657771423326e-11,
          5.806022329562864e-12,
          0,
          5.818835174532891e-09,
          8.190982778537126e-08,
          -4.748900163126961e-10,
          1.0752906564349991e-07,
          1.8743678517919117e-07
         ]
        },
        {
         "line": {
          "color": "rgba(55, 128, 191, 0.8999999999999999)",
          "dash": "solid",
          "shape": "linear",
          "width": 1.3
         },
         "mode": "lines",
         "name": "Liver (Pork)",
         "text": "",
         "type": "scatter",
         "x": [
          -0.6931471805599453,
          -0.5108256237659907,
          -0.35667494393873245,
          -0.2231435513142097,
          -0.10536051565782628,
          0,
          0.09531017980432493,
          0.1823215567939546,
          0.26236426446749106,
          0.3364722366212129,
          0.4054651081081644
         ],
         "y": [
          -0.021137421762707484,
          -0.015660758700939702,
          -0.010377291764872782,
          -0.006756589139755802,
          -0.0033725901132457513,
          0,
          0.003361253121843,
          0.0067112465513048,
          0.010050093734915512,
          0.013377769057109669,
          0.01669441411812426
         ]
        },
        {
         "line": {
          "color": "rgba(50, 171, 96, 0.8999999999999999)",
          "dash": "solid",
          "shape": "linear",
          "width": 1.3
         },
         "mode": "lines",
         "name": "Milk (Whole)",
         "text": "",
         "type": "scatter",
         "x": [
          -0.6931471805599453,
          -0.5108256237659907,
          -0.35667494393873245,
          -0.2231435513142097,
          -0.10536051565782628,
          0,
          0.09531017980432493,
          0.1823215567939546,
          0.26236426446749106,
          0.3364722366212129,
          0.4054651081081644
         ],
         "y": [
          -0.008240426326044485,
          -0.006505127399103767,
          -0.004874874036961928,
          -0.003247153576202689,
          -0.0016223192610534288,
          0,
          0.0016196923049499538,
          0.0029918508162690323,
          0.0041897945643885465,
          0.005386306089554841,
          0.005700595490243629
         ]
        }
       ],
       "layout": {
        "legend": {
         "bgcolor": "#F5F6F9",
         "font": {
          "color": "#4D5663"
         }
        },
        "paper_bgcolor": "#F5F6F9",
        "plot_bgcolor": "#F5F6F9",
        "template": {
         "data": {
          "bar": [
           {
            "error_x": {
             "color": "#2a3f5f"
            },
            "error_y": {
             "color": "#2a3f5f"
            },
            "marker": {
             "line": {
              "color": "#E5ECF6",
              "width": 0.5
             }
            },
            "type": "bar"
           }
          ],
          "barpolar": [
           {
            "marker": {
             "line": {
              "color": "#E5ECF6",
              "width": 0.5
             }
            },
            "type": "barpolar"
           }
          ],
          "carpet": [
           {
            "aaxis": {
             "endlinecolor": "#2a3f5f",
             "gridcolor": "white",
             "linecolor": "white",
             "minorgridcolor": "white",
             "startlinecolor": "#2a3f5f"
            },
            "baxis": {
             "endlinecolor": "#2a3f5f",
             "gridcolor": "white",
             "linecolor": "white",
             "minorgridcolor": "white",
             "startlinecolor": "#2a3f5f"
            },
            "type": "carpet"
           }
          ],
          "choropleth": [
           {
            "colorbar": {
             "outlinewidth": 0,
             "ticks": ""
            },
            "type": "choropleth"
           }
          ],
          "contour": [
           {
            "colorbar": {
             "outlinewidth": 0,
             "ticks": ""
            },
            "colorscale": [
             [
              0,
              "#0d0887"
             ],
             [
              0.1111111111111111,
              "#46039f"
             ],
             [
              0.2222222222222222,
              "#7201a8"
             ],
             [
              0.3333333333333333,
              "#9c179e"
             ],
             [
              0.4444444444444444,
              "#bd3786"
             ],
             [
              0.5555555555555556,
              "#d8576b"
             ],
             [
              0.6666666666666666,
              "#ed7953"
             ],
             [
              0.7777777777777778,
              "#fb9f3a"
             ],
             [
              0.8888888888888888,
              "#fdca26"
             ],
             [
              1,
              "#f0f921"
             ]
            ],
            "type": "contour"
           }
          ],
          "contourcarpet": [
           {
            "colorbar": {
             "outlinewidth": 0,
             "ticks": ""
            },
            "type": "contourcarpet"
           }
          ],
          "heatmap": [
           {
            "colorbar": {
             "outlinewidth": 0,
             "ticks": ""
            },
            "colorscale": [
             [
              0,
              "#0d0887"
             ],
             [
              0.1111111111111111,
              "#46039f"
             ],
             [
              0.2222222222222222,
              "#7201a8"
             ],
             [
              0.3333333333333333,
              "#9c179e"
             ],
             [
              0.4444444444444444,
              "#bd3786"
             ],
             [
              0.5555555555555556,
              "#d8576b"
             ],
             [
              0.6666666666666666,
              "#ed7953"
             ],
             [
              0.7777777777777778,
              "#fb9f3a"
             ],
             [
              0.8888888888888888,
              "#fdca26"
             ],
             [
              1,
              "#f0f921"
             ]
            ],
            "type": "heatmap"
           }
          ],
          "heatmapgl": [
           {
            "colorbar": {
             "outlinewidth": 0,
             "ticks": ""
            },
            "colorscale": [
             [
              0,
              "#0d0887"
             ],
             [
              0.1111111111111111,
              "#46039f"
             ],
             [
              0.2222222222222222,
              "#7201a8"
             ],
             [
              0.3333333333333333,
              "#9c179e"
             ],
             [
              0.4444444444444444,
              "#bd3786"
             ],
             [
              0.5555555555555556,
              "#d8576b"
             ],
             [
              0.6666666666666666,
              "#ed7953"
             ],
             [
              0.7777777777777778,
              "#fb9f3a"
             ],
             [
              0.8888888888888888,
              "#fdca26"
             ],
             [
              1,
              "#f0f921"
             ]
            ],
            "type": "heatmapgl"
           }
          ],
          "histogram": [
           {
            "marker": {
             "colorbar": {
              "outlinewidth": 0,
              "ticks": ""
             }
            },
            "type": "histogram"
           }
          ],
          "histogram2d": [
           {
            "colorbar": {
             "outlinewidth": 0,
             "ticks": ""
            },
            "colorscale": [
             [
              0,
              "#0d0887"
             ],
             [
              0.1111111111111111,
              "#46039f"
             ],
             [
              0.2222222222222222,
              "#7201a8"
             ],
             [
              0.3333333333333333,
              "#9c179e"
             ],
             [
              0.4444444444444444,
              "#bd3786"
             ],
             [
              0.5555555555555556,
              "#d8576b"
             ],
             [
              0.6666666666666666,
              "#ed7953"
             ],
             [
              0.7777777777777778,
              "#fb9f3a"
             ],
             [
              0.8888888888888888,
              "#fdca26"
             ],
             [
              1,
              "#f0f921"
             ]
            ],
            "type": "histogram2d"
           }
          ],
          "histogram2dcontour": [
           {
            "colorbar": {
             "outlinewidth": 0,
             "ticks": ""
            },
            "colorscale": [
             [
              0,
              "#0d0887"
             ],
             [
              0.1111111111111111,
              "#46039f"
             ],
             [
              0.2222222222222222,
              "#7201a8"
             ],
             [
              0.3333333333333333,
              "#9c179e"
             ],
             [
              0.4444444444444444,
              "#bd3786"
             ],
             [
              0.5555555555555556,
              "#d8576b"
             ],
             [
              0.6666666666666666,
              "#ed7953"
             ],
             [
              0.7777777777777778,
              "#fb9f3a"
             ],
             [
              0.8888888888888888,
              "#fdca26"
             ],
             [
              1,
              "#f0f921"
             ]
            ],
            "type": "histogram2dcontour"
           }
          ],
          "mesh3d": [
           {
            "colorbar": {
             "outlinewidth": 0,
             "ticks": ""
            },
            "type": "mesh3d"
           }
          ],
          "parcoords": [
           {
            "line": {
             "colorbar": {
              "outlinewidth": 0,
              "ticks": ""
             }
            },
            "type": "parcoords"
           }
          ],
          "pie": [
           {
            "automargin": true,
            "type": "pie"
           }
          ],
          "scatter": [
           {
            "marker": {
             "colorbar": {
              "outlinewidth": 0,
              "ticks": ""
             }
            },
            "type": "scatter"
           }
          ],
          "scatter3d": [
           {
            "line": {
             "colorbar": {
              "outlinewidth": 0,
              "ticks": ""
             }
            },
            "marker": {
             "colorbar": {
              "outlinewidth": 0,
              "ticks": ""
             }
            },
            "type": "scatter3d"
           }
          ],
          "scattercarpet": [
           {
            "marker": {
             "colorbar": {
              "outlinewidth": 0,
              "ticks": ""
             }
            },
            "type": "scattercarpet"
           }
          ],
          "scattergeo": [
           {
            "marker": {
             "colorbar": {
              "outlinewidth": 0,
              "ticks": ""
             }
            },
            "type": "scattergeo"
           }
          ],
          "scattergl": [
           {
            "marker": {
             "colorbar": {
              "outlinewidth": 0,
              "ticks": ""
             }
            },
            "type": "scattergl"
           }
          ],
          "scattermapbox": [
           {
            "marker": {
             "colorbar": {
              "outlinewidth": 0,
              "ticks": ""
             }
            },
            "type": "scattermapbox"
           }
          ],
          "scatterpolar": [
           {
            "marker": {
             "colorbar": {
              "outlinewidth": 0,
              "ticks": ""
             }
            },
            "type": "scatterpolar"
           }
          ],
          "scatterpolargl": [
           {
            "marker": {
             "colorbar": {
              "outlinewidth": 0,
              "ticks": ""
             }
            },
            "type": "scatterpolargl"
           }
          ],
          "scatterternary": [
           {
            "marker": {
             "colorbar": {
              "outlinewidth": 0,
              "ticks": ""
             }
            },
            "type": "scatterternary"
           }
          ],
          "surface": [
           {
            "colorbar": {
             "outlinewidth": 0,
             "ticks": ""
            },
            "colorscale": [
             [
              0,
              "#0d0887"
             ],
             [
              0.1111111111111111,
              "#46039f"
             ],
             [
              0.2222222222222222,
              "#7201a8"
             ],
             [
              0.3333333333333333,
              "#9c179e"
             ],
             [
              0.4444444444444444,
              "#bd3786"
             ],
             [
              0.5555555555555556,
              "#d8576b"
             ],
             [
              0.6666666666666666,
              "#ed7953"
             ],
             [
              0.7777777777777778,
              "#fb9f3a"
             ],
             [
              0.8888888888888888,
              "#fdca26"
             ],
             [
              1,
              "#f0f921"
             ]
            ],
            "type": "surface"
           }
          ],
          "table": [
           {
            "cells": {
             "fill": {
              "color": "#EBF0F8"
             },
             "line": {
              "color": "white"
             }
            },
            "header": {
             "fill": {
              "color": "#C8D4E3"
             },
             "line": {
              "color": "white"
             }
            },
            "type": "table"
           }
          ]
         },
         "layout": {
          "annotationdefaults": {
           "arrowcolor": "#2a3f5f",
           "arrowhead": 0,
           "arrowwidth": 1
          },
          "autotypenumbers": "strict",
          "coloraxis": {
           "colorbar": {
            "outlinewidth": 0,
            "ticks": ""
           }
          },
          "colorscale": {
           "diverging": [
            [
             0,
             "#8e0152"
            ],
            [
             0.1,
             "#c51b7d"
            ],
            [
             0.2,
             "#de77ae"
            ],
            [
             0.3,
             "#f1b6da"
            ],
            [
             0.4,
             "#fde0ef"
            ],
            [
             0.5,
             "#f7f7f7"
            ],
            [
             0.6,
             "#e6f5d0"
            ],
            [
             0.7,
             "#b8e186"
            ],
            [
             0.8,
             "#7fbc41"
            ],
            [
             0.9,
             "#4d9221"
            ],
            [
             1,
             "#276419"
            ]
           ],
           "sequential": [
            [
             0,
             "#0d0887"
            ],
            [
             0.1111111111111111,
             "#46039f"
            ],
            [
             0.2222222222222222,
             "#7201a8"
            ],
            [
             0.3333333333333333,
             "#9c179e"
            ],
            [
             0.4444444444444444,
             "#bd3786"
            ],
            [
             0.5555555555555556,
             "#d8576b"
            ],
            [
             0.6666666666666666,
             "#ed7953"
            ],
            [
             0.7777777777777778,
             "#fb9f3a"
            ],
            [
             0.8888888888888888,
             "#fdca26"
            ],
            [
             1,
             "#f0f921"
            ]
           ],
           "sequentialminus": [
            [
             0,
             "#0d0887"
            ],
            [
             0.1111111111111111,
             "#46039f"
            ],
            [
             0.2222222222222222,
             "#7201a8"
            ],
            [
             0.3333333333333333,
             "#9c179e"
            ],
            [
             0.4444444444444444,
             "#bd3786"
            ],
            [
             0.5555555555555556,
             "#d8576b"
            ],
            [
             0.6666666666666666,
             "#ed7953"
            ],
            [
             0.7777777777777778,
             "#fb9f3a"
            ],
            [
             0.8888888888888888,
             "#fdca26"
            ],
            [
             1,
             "#f0f921"
            ]
           ]
          },
          "colorway": [
           "#636efa",
           "#EF553B",
           "#00cc96",
           "#ab63fa",
           "#FFA15A",
           "#19d3f3",
           "#FF6692",
           "#B6E880",
           "#FF97FF",
           "#FECB52"
          ],
          "font": {
           "color": "#2a3f5f"
          },
          "geo": {
           "bgcolor": "white",
           "lakecolor": "white",
           "landcolor": "#E5ECF6",
           "showlakes": true,
           "showland": true,
           "subunitcolor": "white"
          },
          "hoverlabel": {
           "align": "left"
          },
          "hovermode": "closest",
          "mapbox": {
           "style": "light"
          },
          "paper_bgcolor": "white",
          "plot_bgcolor": "#E5ECF6",
          "polar": {
           "angularaxis": {
            "gridcolor": "white",
            "linecolor": "white",
            "ticks": ""
           },
           "bgcolor": "#E5ECF6",
           "radialaxis": {
            "gridcolor": "white",
            "linecolor": "white",
            "ticks": ""
           }
          },
          "scene": {
           "xaxis": {
            "backgroundcolor": "#E5ECF6",
            "gridcolor": "white",
            "gridwidth": 2,
            "linecolor": "white",
            "showbackground": true,
            "ticks": "",
            "zerolinecolor": "white"
           },
           "yaxis": {
            "backgroundcolor": "#E5ECF6",
            "gridcolor": "white",
            "gridwidth": 2,
            "linecolor": "white",
            "showbackground": true,
            "ticks": "",
            "zerolinecolor": "white"
           },
           "zaxis": {
            "backgroundcolor": "#E5ECF6",
            "gridcolor": "white",
            "gridwidth": 2,
            "linecolor": "white",
            "showbackground": true,
            "ticks": "",
            "zerolinecolor": "white"
           }
          },
          "shapedefaults": {
           "line": {
            "color": "#2a3f5f"
           }
          },
          "ternary": {
           "aaxis": {
            "gridcolor": "white",
            "linecolor": "white",
            "ticks": ""
           },
           "baxis": {
            "gridcolor": "white",
            "linecolor": "white",
            "ticks": ""
           },
           "bgcolor": "#E5ECF6",
           "caxis": {
            "gridcolor": "white",
            "linecolor": "white",
            "ticks": ""
           }
          },
          "title": {
           "x": 0.05
          },
          "xaxis": {
           "automargin": true,
           "gridcolor": "white",
           "linecolor": "white",
           "ticks": "",
           "title": {
            "standoff": 15
           },
           "zerolinecolor": "white",
           "zerolinewidth": 2
          },
          "yaxis": {
           "automargin": true,
           "gridcolor": "white",
           "linecolor": "white",
           "ticks": "",
           "title": {
            "standoff": 15
           },
           "zerolinecolor": "white",
           "zerolinewidth": 2
          }
         }
        },
        "title": {
         "font": {
          "color": "#4D5663"
         }
        },
        "xaxis": {
         "gridcolor": "#E1E5ED",
         "showgrid": true,
         "tickfont": {
          "color": "#4D5663"
         },
         "title": {
          "font": {
           "color": "#4D5663"
          },
          "text": "log price change"
         },
         "zerolinecolor": "#E1E5ED"
        },
        "yaxis": {
         "gridcolor": "#E1E5ED",
         "showgrid": true,
         "tickfont": {
          "color": "#4D5663"
         },
         "title": {
          "font": {
           "color": "#4D5663"
          },
          "text": "log cost change"
         },
         "zerolinecolor": "#E1E5ED"
        }
       }
      },
      "text/html": [
       "<div>                            <div id=\"793a954e-b244-4f5b-9029-21503d51038d\" class=\"plotly-graph-div\" style=\"height:525px; width:100%;\"></div>            <script type=\"text/javascript\">                require([\"plotly\"], function(Plotly) {                    window.PLOTLYENV=window.PLOTLYENV || {};\n",
       "                    window.PLOTLYENV.BASE_URL='https://plot.ly';                                    if (document.getElementById(\"793a954e-b244-4f5b-9029-21503d51038d\")) {                    Plotly.newPlot(                        \"793a954e-b244-4f5b-9029-21503d51038d\",                        [{\"line\": {\"color\": \"rgba(255, 153, 51, 1.0)\", \"dash\": \"solid\", \"shape\": \"linear\", \"width\": 1.3}, \"mode\": \"lines\", \"name\": \"Wheat Flour\", \"text\": \"\", \"type\": \"scatter\", \"x\": [-0.6931471805599453, -0.5108256237659907, -0.35667494393873245, -0.2231435513142097, -0.10536051565782628, 0.0, 0.09531017980432493, 0.1823215567939546, 0.26236426446749106, 0.3364722366212129, 0.4054651081081644], \"y\": [-0.0034850665411168295, 9.629110489436677e-08, -4.1010506110577474e-10, 1.4079251088397721e-09, 2.0467976181862367e-09, 0.0, -3.5117875280603764e-10, -3.344424737709834e-10, 4.440892098500625e-16, -4.5698067562721576e-10, -4.2064707281817934e-10]}, {\"line\": {\"color\": \"rgba(55, 128, 191, 1.0)\", \"dash\": \"solid\", \"shape\": \"linear\", \"width\": 1.3}, \"mode\": \"lines\", \"name\": \"Wheat Cereal\", \"text\": \"\", \"type\": \"scatter\", \"x\": [-0.6931471805599453, -0.5108256237659907, -0.35667494393873245, -0.2231435513142097, -0.10536051565782628, 0.0, 0.09531017980432493, 0.1823215567939546, 0.26236426446749106, 0.3364722366212129, 0.4054651081081644], \"y\": [-0.012769539678138079, -0.010028454172420716, -0.0072947103304794566, -0.004710581227762568, -0.0023525167380487534, 0.0, 0.002027292862615997, 0.00346087980917307, 0.0048924165562966035, 0.0063219058580041895, 0.006925290199441331]}, {\"line\": {\"color\": \"rgba(50, 171, 96, 1.0)\", \"dash\": \"solid\", \"shape\": \"linear\", \"width\": 1.3}, \"mode\": \"lines\", \"name\": \"Corn Meal\", \"text\": \"\", \"type\": \"scatter\", \"x\": [-0.6931471805599453, -0.5108256237659907, -0.35667494393873245, -0.2231435513142097, -0.10536051565782628, 0.0, 0.09531017980432493, 0.1823215567939546, 0.26236426446749106, 0.3364722366212129, 0.4054651081081644], \"y\": [6.398872540898077e-10, 3.4856850733042817e-10, 1.662607829051042e-10, 4.862288349609141e-11, 4.193578817447196e-11, 0.0, 3.0068414420467985e-10, 1.2276085850226575e-08, 8.589642383722395e-08, 8.809038221673745e-08, -4.719538094780799e-10]}, {\"line\": {\"color\": \"rgba(128, 0, 128, 1.0)\", \"dash\": \"solid\", \"shape\": \"linear\", \"width\": 1.3}, \"mode\": \"lines\", \"name\": \"Rolled Oats\", \"text\": \"\", \"type\": \"scatter\", \"x\": [-0.6931471805599453, -0.5108256237659907, -0.35667494393873245, -0.2231435513142097, -0.10536051565782628, 0.0, 0.09531017980432493, 0.1823215567939546, 0.26236426446749106, 0.3364722366212129, 0.4054651081081644], \"y\": [5.801803482069313e-12, 3.9099168346669615e-11, 4.291833555122353e-11, 7.442713112454427e-12, -8.721279254711497e-11, 0.0, 3.0365288057163044e-10, 3.476490206217537e-10, 1.3166474568607464e-09, 3.923060091302921e-09, 2.343411681669105e-08]}, {\"line\": {\"color\": \"rgba(219, 64, 82, 1.0)\", \"dash\": \"solid\", \"shape\": \"linear\", \"width\": 1.3}, \"mode\": \"lines\", \"name\": \"Evaporated Milk\", \"text\": \"\", \"type\": \"scatter\", \"x\": [-0.6931471805599453, -0.5108256237659907, -0.35667494393873245, -0.2231435513142097, -0.10536051565782628, 0.0, 0.09531017980432493, 0.1823215567939546, 0.26236426446749106, 0.3364722366212129, 0.4054651081081644], \"y\": [-0.003461057672603752, -0.0015397538377305657, -4.1469228060081273e-10, 1.5537686680752642e-09, 2.82465606420498e-10, 0.0, 9.335532346729792e-11, 3.364299949171489e-10, 1.1729501807393619e-09, 1.7788186543185358e-08, 6.950571787488567e-08]}, {\"line\": {\"color\": \"rgba(0, 128, 128, 1.0)\", \"dash\": \"solid\", \"shape\": \"linear\", \"width\": 1.3}, \"mode\": \"lines\", \"name\": \"Cabbage\", \"text\": \"\", \"type\": \"scatter\", \"x\": [-0.6931471805599453, -0.5108256237659907, -0.35667494393873245, -0.2231435513142097, -0.10536051565782628, 0.0, 0.09531017980432493, 0.1823215567939546, 0.26236426446749106, 0.3364722366212129, 0.4054651081081644], \"y\": [-0.07518228091355124, -0.04189893760053977, -0.026621832987120293, -0.015286064597334356, -0.00491351666900041, 0.0, 0.001375152204472188, 0.0013752340594838542, 0.0013751698835985204, 0.0013751515503070478, 0.0013751516416490746]}, {\"line\": {\"color\": \"rgba(255, 255, 51, 1.0)\", \"dash\": \"solid\", \"shape\": \"linear\", \"width\": 1.3}, \"mode\": \"lines\", \"name\": \"Potatoes\", \"text\": \"\", \"type\": \"scatter\", \"x\": [-0.6931471805599453, -0.5108256237659907, -0.35667494393873245, -0.2231435513142097, -0.10536051565782628, 0.0, 0.09531017980432493, 0.1823215567939546, 0.26236426446749106, 0.3364722366212129, 0.4054651081081644], \"y\": [-4.770375207102507e-10, 1.431390561532327e-10, -1.6177270635496354e-10, 4.344857806776161e-11, -4.2561065783725875e-11, 0.0, 2.545246898891175e-09, 5.864412383610689e-08, 8.998081496973593e-08, -4.771610885329504e-10, 2.586820946186031e-08]}, {\"line\": {\"color\": \"rgba(128, 128, 0, 1.0)\", \"dash\": \"solid\", \"shape\": \"linear\", \"width\": 1.3}, \"mode\": \"lines\", \"name\": \"Spinach\", \"text\": \"\", \"type\": \"scatter\", \"x\": [-0.6931471805599453, -0.5108256237659907, -0.35667494393873245, -0.2231435513142097, -0.10536051565782628, 0.0, 0.09531017980432493, 0.1823215567939546, 0.26236426446749106, 0.3364722366212129, 0.4054651081081644], \"y\": [-0.5794272095441145, -0.433169435306129, -0.30559904225516316, -0.1925122989387559, -0.09140459051628091, 0.0, 0.08280517042566285, 0.15877010065924696, 0.22836781698744088, 0.2925231431572014, 0.3527665572816836]}, {\"line\": {\"color\": \"rgba(251, 128, 114, 1.0)\", \"dash\": \"solid\", \"shape\": \"linear\", \"width\": 1.3}, \"mode\": \"lines\", \"name\": \"Sweet Potatoes\", \"text\": \"\", \"type\": \"scatter\", \"x\": [-0.6931471805599453, -0.5108256237659907, -0.35667494393873245, -0.2231435513142097, -0.10536051565782628, 0.0, 0.09531017980432493, 0.1823215567939546, 0.26236426446749106, 0.3364722366212129, 0.4054651081081644], \"y\": [-5.855416152116721e-11, 9.11315467529161e-12, 3.865596731525648e-11, 3.426969818972735e-11, -4.173072998357372e-11, 0.0, 3.666733582757258e-10, 2.520853744789715e-09, 2.8972214207692815e-08, 9.409747427065135e-08, 5.791716893778577e-08]}, {\"line\": {\"color\": \"rgba(128, 177, 211, 1.0)\", \"dash\": \"solid\", \"shape\": \"linear\", \"width\": 1.3}, \"mode\": \"lines\", \"name\": \"Navy Beans\", \"text\": \"\", \"type\": \"scatter\", \"x\": [-0.6931471805599453, -0.5108256237659907, -0.35667494393873245, -0.2231435513142097, -0.10536051565782628, 0.0, 0.09531017980432493, 0.1823215567939546, 0.26236426446749106, 0.3364722366212129, 0.4054651081081644], \"y\": [-0.012876679127483187, -0.010125663764893895, -0.007584618084682193, -0.005050016122466976, -0.0025218204640112835, 0.0, 0.0024123589006940184, 0.004229753971464874, 0.006043858031340501, 0.007854676249665531, 0.00799877247098421]}, {\"line\": {\"color\": \"rgba(128, 177, 211, 0.8999999999999999)\", \"dash\": \"solid\", \"shape\": \"linear\", \"width\": 1.3}, \"mode\": \"lines\", \"name\": \"Sugar\", \"text\": \"\", \"type\": \"scatter\", \"x\": [-0.6931471805599453, -0.5108256237659907, -0.35667494393873245, -0.2231435513142097, -0.10536051565782628, 0.0, 0.09531017980432493, 0.1823215567939546, 0.26236426446749106, 0.3364722366212129, 0.4054651081081644], \"y\": [-0.004276762348535988, -0.0034200716811798285, -0.00256395665709318, -0.0017085738746888985, -0.0008539220577360593, 0.0, 0.0008531937912696307, 0.0017057581649833392, 0.0025573987169660987, 0.003408413881677013, 0.004212072261151786]}, {\"line\": {\"color\": \"rgba(255, 153, 51, 0.8999999999999999)\", \"dash\": \"solid\", \"shape\": \"linear\", \"width\": 1.3}, \"mode\": \"lines\", \"name\": \"Beets\", \"text\": \"\", \"type\": \"scatter\", \"x\": [-0.6931471805599453, -0.5108256237659907, -0.35667494393873245, -0.2231435513142097, -0.10536051565782628, 0.0, 0.09531017980432493, 0.1823215567939546, 0.26236426446749106, 0.3364722366212129, 0.4054651081081644], \"y\": [-1.30512267668327e-10, -1.2427392449216354e-10, -9.330070050319649e-11, -6.275657771423326e-11, 5.806022329562864e-12, 0.0, 5.818835174532891e-09, 8.190982778537126e-08, -4.748900163126961e-10, 1.0752906564349991e-07, 1.8743678517919117e-07]}, {\"line\": {\"color\": \"rgba(55, 128, 191, 0.8999999999999999)\", \"dash\": \"solid\", \"shape\": \"linear\", \"width\": 1.3}, \"mode\": \"lines\", \"name\": \"Liver (Pork)\", \"text\": \"\", \"type\": \"scatter\", \"x\": [-0.6931471805599453, -0.5108256237659907, -0.35667494393873245, -0.2231435513142097, -0.10536051565782628, 0.0, 0.09531017980432493, 0.1823215567939546, 0.26236426446749106, 0.3364722366212129, 0.4054651081081644], \"y\": [-0.021137421762707484, -0.015660758700939702, -0.010377291764872782, -0.006756589139755802, -0.0033725901132457513, 0.0, 0.003361253121843, 0.0067112465513048, 0.010050093734915512, 0.013377769057109669, 0.01669441411812426]}, {\"line\": {\"color\": \"rgba(50, 171, 96, 0.8999999999999999)\", \"dash\": \"solid\", \"shape\": \"linear\", \"width\": 1.3}, \"mode\": \"lines\", \"name\": \"Milk (Whole)\", \"text\": \"\", \"type\": \"scatter\", \"x\": [-0.6931471805599453, -0.5108256237659907, -0.35667494393873245, -0.2231435513142097, -0.10536051565782628, 0.0, 0.09531017980432493, 0.1823215567939546, 0.26236426446749106, 0.3364722366212129, 0.4054651081081644], \"y\": [-0.008240426326044485, -0.006505127399103767, -0.004874874036961928, -0.003247153576202689, -0.0016223192610534288, 0.0, 0.0016196923049499538, 0.0029918508162690323, 0.0041897945643885465, 0.005386306089554841, 0.005700595490243629]}],                        {\"legend\": {\"bgcolor\": \"#F5F6F9\", \"font\": {\"color\": \"#4D5663\"}}, \"paper_bgcolor\": \"#F5F6F9\", \"plot_bgcolor\": \"#F5F6F9\", \"template\": {\"data\": {\"bar\": [{\"error_x\": {\"color\": \"#2a3f5f\"}, \"error_y\": {\"color\": \"#2a3f5f\"}, \"marker\": {\"line\": {\"color\": \"#E5ECF6\", \"width\": 0.5}}, \"type\": \"bar\"}], \"barpolar\": [{\"marker\": {\"line\": {\"color\": \"#E5ECF6\", \"width\": 0.5}}, \"type\": \"barpolar\"}], \"carpet\": [{\"aaxis\": {\"endlinecolor\": \"#2a3f5f\", \"gridcolor\": \"white\", \"linecolor\": \"white\", \"minorgridcolor\": \"white\", \"startlinecolor\": \"#2a3f5f\"}, \"baxis\": {\"endlinecolor\": \"#2a3f5f\", \"gridcolor\": \"white\", \"linecolor\": \"white\", \"minorgridcolor\": \"white\", \"startlinecolor\": \"#2a3f5f\"}, \"type\": \"carpet\"}], \"choropleth\": [{\"colorbar\": {\"outlinewidth\": 0, \"ticks\": \"\"}, \"type\": \"choropleth\"}], \"contour\": [{\"colorbar\": {\"outlinewidth\": 0, \"ticks\": \"\"}, \"colorscale\": [[0.0, \"#0d0887\"], [0.1111111111111111, \"#46039f\"], [0.2222222222222222, \"#7201a8\"], [0.3333333333333333, \"#9c179e\"], [0.4444444444444444, \"#bd3786\"], [0.5555555555555556, \"#d8576b\"], [0.6666666666666666, \"#ed7953\"], [0.7777777777777778, \"#fb9f3a\"], [0.8888888888888888, \"#fdca26\"], [1.0, \"#f0f921\"]], \"type\": \"contour\"}], \"contourcarpet\": [{\"colorbar\": {\"outlinewidth\": 0, \"ticks\": \"\"}, \"type\": \"contourcarpet\"}], \"heatmap\": [{\"colorbar\": {\"outlinewidth\": 0, \"ticks\": \"\"}, \"colorscale\": [[0.0, \"#0d0887\"], [0.1111111111111111, \"#46039f\"], [0.2222222222222222, \"#7201a8\"], [0.3333333333333333, \"#9c179e\"], [0.4444444444444444, \"#bd3786\"], [0.5555555555555556, \"#d8576b\"], [0.6666666666666666, \"#ed7953\"], [0.7777777777777778, \"#fb9f3a\"], [0.8888888888888888, \"#fdca26\"], [1.0, \"#f0f921\"]], \"type\": \"heatmap\"}], \"heatmapgl\": [{\"colorbar\": {\"outlinewidth\": 0, \"ticks\": \"\"}, \"colorscale\": [[0.0, \"#0d0887\"], [0.1111111111111111, \"#46039f\"], [0.2222222222222222, \"#7201a8\"], [0.3333333333333333, \"#9c179e\"], [0.4444444444444444, \"#bd3786\"], [0.5555555555555556, \"#d8576b\"], [0.6666666666666666, \"#ed7953\"], [0.7777777777777778, \"#fb9f3a\"], [0.8888888888888888, \"#fdca26\"], [1.0, \"#f0f921\"]], \"type\": \"heatmapgl\"}], \"histogram\": [{\"marker\": {\"colorbar\": {\"outlinewidth\": 0, \"ticks\": \"\"}}, \"type\": \"histogram\"}], \"histogram2d\": [{\"colorbar\": {\"outlinewidth\": 0, \"ticks\": \"\"}, \"colorscale\": [[0.0, \"#0d0887\"], [0.1111111111111111, \"#46039f\"], [0.2222222222222222, \"#7201a8\"], [0.3333333333333333, \"#9c179e\"], [0.4444444444444444, \"#bd3786\"], [0.5555555555555556, \"#d8576b\"], [0.6666666666666666, \"#ed7953\"], [0.7777777777777778, \"#fb9f3a\"], [0.8888888888888888, \"#fdca26\"], [1.0, \"#f0f921\"]], \"type\": \"histogram2d\"}], \"histogram2dcontour\": [{\"colorbar\": {\"outlinewidth\": 0, \"ticks\": \"\"}, \"colorscale\": [[0.0, \"#0d0887\"], [0.1111111111111111, \"#46039f\"], [0.2222222222222222, \"#7201a8\"], [0.3333333333333333, \"#9c179e\"], [0.4444444444444444, \"#bd3786\"], [0.5555555555555556, \"#d8576b\"], [0.6666666666666666, \"#ed7953\"], [0.7777777777777778, \"#fb9f3a\"], [0.8888888888888888, \"#fdca26\"], [1.0, \"#f0f921\"]], \"type\": \"histogram2dcontour\"}], \"mesh3d\": [{\"colorbar\": {\"outlinewidth\": 0, \"ticks\": \"\"}, \"type\": \"mesh3d\"}], \"parcoords\": [{\"line\": {\"colorbar\": {\"outlinewidth\": 0, \"ticks\": \"\"}}, \"type\": \"parcoords\"}], \"pie\": [{\"automargin\": true, \"type\": \"pie\"}], \"scatter\": [{\"marker\": {\"colorbar\": {\"outlinewidth\": 0, \"ticks\": \"\"}}, \"type\": \"scatter\"}], \"scatter3d\": [{\"line\": {\"colorbar\": {\"outlinewidth\": 0, \"ticks\": \"\"}}, \"marker\": {\"colorbar\": {\"outlinewidth\": 0, \"ticks\": \"\"}}, \"type\": \"scatter3d\"}], \"scattercarpet\": [{\"marker\": {\"colorbar\": {\"outlinewidth\": 0, \"ticks\": \"\"}}, \"type\": \"scattercarpet\"}], \"scattergeo\": [{\"marker\": {\"colorbar\": {\"outlinewidth\": 0, \"ticks\": \"\"}}, \"type\": \"scattergeo\"}], \"scattergl\": [{\"marker\": {\"colorbar\": {\"outlinewidth\": 0, \"ticks\": \"\"}}, \"type\": \"scattergl\"}], \"scattermapbox\": [{\"marker\": {\"colorbar\": {\"outlinewidth\": 0, \"ticks\": \"\"}}, \"type\": \"scattermapbox\"}], \"scatterpolar\": [{\"marker\": {\"colorbar\": {\"outlinewidth\": 0, \"ticks\": \"\"}}, \"type\": \"scatterpolar\"}], \"scatterpolargl\": [{\"marker\": {\"colorbar\": {\"outlinewidth\": 0, \"ticks\": \"\"}}, \"type\": \"scatterpolargl\"}], \"scatterternary\": [{\"marker\": {\"colorbar\": {\"outlinewidth\": 0, \"ticks\": \"\"}}, \"type\": \"scatterternary\"}], \"surface\": [{\"colorbar\": {\"outlinewidth\": 0, \"ticks\": \"\"}, \"colorscale\": [[0.0, \"#0d0887\"], [0.1111111111111111, \"#46039f\"], [0.2222222222222222, \"#7201a8\"], [0.3333333333333333, \"#9c179e\"], [0.4444444444444444, \"#bd3786\"], [0.5555555555555556, \"#d8576b\"], [0.6666666666666666, \"#ed7953\"], [0.7777777777777778, \"#fb9f3a\"], [0.8888888888888888, \"#fdca26\"], [1.0, \"#f0f921\"]], \"type\": \"surface\"}], \"table\": [{\"cells\": {\"fill\": {\"color\": \"#EBF0F8\"}, \"line\": {\"color\": \"white\"}}, \"header\": {\"fill\": {\"color\": \"#C8D4E3\"}, \"line\": {\"color\": \"white\"}}, \"type\": \"table\"}]}, \"layout\": {\"annotationdefaults\": {\"arrowcolor\": \"#2a3f5f\", \"arrowhead\": 0, \"arrowwidth\": 1}, \"autotypenumbers\": \"strict\", \"coloraxis\": {\"colorbar\": {\"outlinewidth\": 0, \"ticks\": \"\"}}, \"colorscale\": {\"diverging\": [[0, \"#8e0152\"], [0.1, \"#c51b7d\"], [0.2, \"#de77ae\"], [0.3, \"#f1b6da\"], [0.4, \"#fde0ef\"], [0.5, \"#f7f7f7\"], [0.6, \"#e6f5d0\"], [0.7, \"#b8e186\"], [0.8, \"#7fbc41\"], [0.9, \"#4d9221\"], [1, \"#276419\"]], \"sequential\": [[0.0, \"#0d0887\"], [0.1111111111111111, \"#46039f\"], [0.2222222222222222, \"#7201a8\"], [0.3333333333333333, \"#9c179e\"], [0.4444444444444444, \"#bd3786\"], [0.5555555555555556, \"#d8576b\"], [0.6666666666666666, \"#ed7953\"], [0.7777777777777778, \"#fb9f3a\"], [0.8888888888888888, \"#fdca26\"], [1.0, \"#f0f921\"]], \"sequentialminus\": [[0.0, \"#0d0887\"], [0.1111111111111111, \"#46039f\"], [0.2222222222222222, \"#7201a8\"], [0.3333333333333333, \"#9c179e\"], [0.4444444444444444, \"#bd3786\"], [0.5555555555555556, \"#d8576b\"], [0.6666666666666666, \"#ed7953\"], [0.7777777777777778, \"#fb9f3a\"], [0.8888888888888888, \"#fdca26\"], [1.0, \"#f0f921\"]]}, \"colorway\": [\"#636efa\", \"#EF553B\", \"#00cc96\", \"#ab63fa\", \"#FFA15A\", \"#19d3f3\", \"#FF6692\", \"#B6E880\", \"#FF97FF\", \"#FECB52\"], \"font\": {\"color\": \"#2a3f5f\"}, \"geo\": {\"bgcolor\": \"white\", \"lakecolor\": \"white\", \"landcolor\": \"#E5ECF6\", \"showlakes\": true, \"showland\": true, \"subunitcolor\": \"white\"}, \"hoverlabel\": {\"align\": \"left\"}, \"hovermode\": \"closest\", \"mapbox\": {\"style\": \"light\"}, \"paper_bgcolor\": \"white\", \"plot_bgcolor\": \"#E5ECF6\", \"polar\": {\"angularaxis\": {\"gridcolor\": \"white\", \"linecolor\": \"white\", \"ticks\": \"\"}, \"bgcolor\": \"#E5ECF6\", \"radialaxis\": {\"gridcolor\": \"white\", \"linecolor\": \"white\", \"ticks\": \"\"}}, \"scene\": {\"xaxis\": {\"backgroundcolor\": \"#E5ECF6\", \"gridcolor\": \"white\", \"gridwidth\": 2, \"linecolor\": \"white\", \"showbackground\": true, \"ticks\": \"\", \"zerolinecolor\": \"white\"}, \"yaxis\": {\"backgroundcolor\": \"#E5ECF6\", \"gridcolor\": \"white\", \"gridwidth\": 2, \"linecolor\": \"white\", \"showbackground\": true, \"ticks\": \"\", \"zerolinecolor\": \"white\"}, \"zaxis\": {\"backgroundcolor\": \"#E5ECF6\", \"gridcolor\": \"white\", \"gridwidth\": 2, \"linecolor\": \"white\", \"showbackground\": true, \"ticks\": \"\", \"zerolinecolor\": \"white\"}}, \"shapedefaults\": {\"line\": {\"color\": \"#2a3f5f\"}}, \"ternary\": {\"aaxis\": {\"gridcolor\": \"white\", \"linecolor\": \"white\", \"ticks\": \"\"}, \"baxis\": {\"gridcolor\": \"white\", \"linecolor\": \"white\", \"ticks\": \"\"}, \"bgcolor\": \"#E5ECF6\", \"caxis\": {\"gridcolor\": \"white\", \"linecolor\": \"white\", \"ticks\": \"\"}}, \"title\": {\"x\": 0.05}, \"xaxis\": {\"automargin\": true, \"gridcolor\": \"white\", \"linecolor\": \"white\", \"ticks\": \"\", \"title\": {\"standoff\": 15}, \"zerolinecolor\": \"white\", \"zerolinewidth\": 2}, \"yaxis\": {\"automargin\": true, \"gridcolor\": \"white\", \"linecolor\": \"white\", \"ticks\": \"\", \"title\": {\"standoff\": 15}, \"zerolinecolor\": \"white\", \"zerolinewidth\": 2}}}, \"title\": {\"font\": {\"color\": \"#4D5663\"}}, \"xaxis\": {\"gridcolor\": \"#E1E5ED\", \"showgrid\": true, \"tickfont\": {\"color\": \"#4D5663\"}, \"title\": {\"font\": {\"color\": \"#4D5663\"}, \"text\": \"log price change\"}, \"zerolinecolor\": \"#E1E5ED\"}, \"yaxis\": {\"gridcolor\": \"#E1E5ED\", \"showgrid\": true, \"tickfont\": {\"color\": \"#4D5663\"}, \"title\": {\"font\": {\"color\": \"#4D5663\"}, \"text\": \"log cost change\"}, \"zerolinecolor\": \"#E1E5ED\"}},                        {\"showLink\": true, \"linkText\": \"Export to plot.ly\", \"plotlyServerURL\": \"https://plot.ly\", \"responsive\": true}                    ).then(function(){\n",
       "                            \n",
       "var gd = document.getElementById('793a954e-b244-4f5b-9029-21503d51038d');\n",
       "var x = new MutationObserver(function (mutations, observer) {{\n",
       "        var display = window.getComputedStyle(gd).display;\n",
       "        if (!display || display === 'none') {{\n",
       "            console.log([gd, 'removed!']);\n",
       "            Plotly.purge(gd);\n",
       "            observer.disconnect();\n",
       "        }}\n",
       "}});\n",
       "\n",
       "// Listen for the removal of the full notebook cells\n",
       "var notebookContainer = gd.closest('#notebook-container');\n",
       "if (notebookContainer) {{\n",
       "    x.observe(notebookContainer, {childList: true});\n",
       "}}\n",
       "\n",
       "// Listen for the clearing of the current output cell\n",
       "var outputEl = gd.closest('.output');\n",
       "if (outputEl) {{\n",
       "    x.observe(outputEl, {childList: true});\n",
       "}}\n",
       "\n",
       "                        })                };                });            </script>        </div>"
      ]
     },
     "metadata": {},
     "output_type": "display_data"
    }
   ],
   "source": [
    "import cufflinks as cf\n",
    "cf.go_offline()\n",
    "\n",
    "scale = [.5,.6,.7,.8,.9,1.,1.1,1.2,1.3,1.4,1.5]\n",
    "\n",
    "cost0 = solve_subsistence_problem(FoodNutrients,Prices,diet_min[group],diet_max[group],tol=tol).fun\n",
    "\n",
    "Price_response={}\n",
    "for s in scale:\n",
    "    cost = {}\n",
    "    for i,p in enumerate(Prices):\n",
    "        my_p = Prices.copy()\n",
    "        my_p[i] = p*s\n",
    "        result = solve_subsistence_problem(FoodNutrients,my_p,diet_min[group],diet_max[group],tol=tol)\n",
    "        cost[Prices.index[i]] = np.log(result.fun/cost0)\n",
    "    Price_response[np.log(s)] = cost\n",
    "\n",
    "Price_response = pd.DataFrame(Price_response).T\n",
    "Price_response.iplot(xTitle='log price change',yTitle='log cost change')"
   ]
  }
 ],
 "metadata": {
  "kernelspec": {
   "display_name": "Python 3",
   "language": "python",
   "name": "python3"
  },
  "language_info": {
   "codemirror_mode": {
    "name": "ipython",
    "version": 3
   },
   "file_extension": ".py",
   "mimetype": "text/x-python",
   "name": "python",
   "nbconvert_exporter": "python",
   "pygments_lexer": "ipython3",
   "version": "3.8.3"
  }
 },
 "nbformat": 4,
 "nbformat_minor": 4
}
